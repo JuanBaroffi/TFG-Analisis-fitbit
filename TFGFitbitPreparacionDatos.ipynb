{
 "cells": [
  {
   "cell_type": "markdown",
   "metadata": {},
   "source": [
    "# Metrics for SPO2 sleep\n",
    "This calculates how good did you sleep according with the spo2 information"
   ]
  },
  {
   "cell_type": "code",
   "execution_count": 4,
   "metadata": {},
   "outputs": [
    {
     "name": "stdout",
     "output_type": "stream",
     "text": [
      "Datos procesados y guardados exitosamente en FitBit API Database/spo2_metrics.csv\n"
     ]
    }
   ],
   "source": [
    "import pandas as pd\n",
    "\n",
    "# Leer los datos \n",
    "file_path = \"FitBit API Database/spo2_data_2024-02-15_2024-02-29.csv\"\n",
    "df = pd.read_csv(file_path)\n",
    "\n",
    "df['DateTime'] = pd.to_datetime(df['Date'] + ' ' + df['Time'])\n",
    "\n",
    "# Calcula y muestra el valor mínimo y máximo de SPO2\n",
    "min_spo2 = df['SPO2 Value'].min()\n",
    "max_spo2 = df['SPO2 Value'].max()\n",
    "\n",
    "# Calcular el índice de bienestar para cada minuto del día\n",
    "df['Wellness Index'] = (df['SPO2 Value'] - min_spo2) / (max_spo2 - min_spo2)\n",
    "\n",
    "# Guardar los resultados en un nuevo archivo CSV\n",
    "output_file_path = \"FitBit API Database/spo2_metrics.csv\"\n",
    "df.to_csv(output_file_path, index=False)\n",
    "\n",
    "print(\"Datos procesados y guardados exitosamente en\", output_file_path)"
   ]
  }
 ],
 "metadata": {
  "kernelspec": {
   "display_name": "Python 3",
   "language": "python",
   "name": "python3"
  },
  "language_info": {
   "codemirror_mode": {
    "name": "ipython",
    "version": 3
   },
   "file_extension": ".py",
   "mimetype": "text/x-python",
   "name": "python",
   "nbconvert_exporter": "python",
   "pygments_lexer": "ipython3",
   "version": "3.11.8"
  }
 },
 "nbformat": 4,
 "nbformat_minor": 2
}
