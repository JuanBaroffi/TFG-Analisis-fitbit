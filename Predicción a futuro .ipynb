{
 "cells": [
  {
   "cell_type": "code",
   "execution_count": null,
   "id": "011df590",
   "metadata": {},
   "outputs": [],
   "source": [
    "import pandas as pd\n",
    "import lightgbm as lgb\n",
    "import joblib"
   ]
  },
  {
   "cell_type": "code",
   "execution_count": null,
   "id": "b257c425",
   "metadata": {},
   "outputs": [],
   "source": [
    "future_minutes = 5"
   ]
  },
  {
   "cell_type": "code",
   "execution_count": null,
   "id": "0fdf0880",
   "metadata": {},
   "outputs": [],
   "source": [
    "from datetime import datetime, timedelta\n",
    "\n",
    "model = joblib.load('ML models/LightGBM_ML.pkl')\n",
    "\n",
    "old_data = pd.read_csv('Fitabase Data 4.12.16-5.12.16/test_train_data.csv')\n",
    "new_data = pd.read_csv('new_data.csv')\n",
    "\n",
    "features = ['Time', 'HeartRate', 'Intensity', 'Calories']\n",
    "new_features = ['Date', 'Time', 'Calories', 'Distance', 'Steps']\n",
    "\n",
    "features_to_use = features + ['Date', 'Distance', 'Steps']\n",
    "\n",
    "X_train = old_data[features]\n",
    "y_train = old_data['HeartRate'].shift(-1)\n",
    "\n",
    "X_train = X_train[:-1]\n",
    "y_train = y_train[:-1]\n",
    "\n",
    "model = lgb.LGBMRegressor()\n",
    "model.fit(X_train, y_train)\n",
    "\n",
    "last_row = new_data.iloc[-1]\n",
    "\n",
    "future_time = datetime.strptime(last_row['Date'] + ' ' + last_row['Time'], '%Y-%m-%d %H:%M:%S') + timedelta(future_minutes)\n",
    "\n",
    "future_row = {'Time': future_time.strftime('%H:%M:%S')}\n",
    "future_row.update(last_row[['Calories', 'Distance', 'Heart Rate', 'Steps']])\n",
    "\n",
    "future_df = pd.DataFrame([future_row])\n",
    "\n",
    "prediction = model.predict(future_df[features])\n",
    "\n",
    "print(\"Predicción para 5 minutos en el futuro:\", prediction)"
   ]
  }
 ],
 "metadata": {
  "kernelspec": {
   "display_name": "Python 3 (ipykernel)",
   "language": "python",
   "name": "python3"
  },
  "language_info": {
   "codemirror_mode": {
    "name": "ipython",
    "version": 3
   },
   "file_extension": ".py",
   "mimetype": "text/x-python",
   "name": "python",
   "nbconvert_exporter": "python",
   "pygments_lexer": "ipython3",
   "version": "3.9.13"
  }
 },
 "nbformat": 4,
 "nbformat_minor": 5
}
