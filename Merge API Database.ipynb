{
 "cells": [
  {
   "cell_type": "code",
   "execution_count": 1,
   "id": "6c3d77cd",
   "metadata": {},
   "outputs": [
    {
     "name": "stderr",
     "output_type": "stream",
     "text": [
      "C:\\Users\\34634\\anaconda3\\lib\\site-packages\\pandas\\core\\computation\\expressions.py:21: UserWarning: Pandas requires version '2.8.4' or newer of 'numexpr' (version '2.8.3' currently installed).\n",
      "  from pandas.core.computation.check import NUMEXPR_INSTALLED\n",
      "C:\\Users\\34634\\anaconda3\\lib\\site-packages\\pandas\\core\\arrays\\masked.py:60: UserWarning: Pandas requires version '1.3.6' or newer of 'bottleneck' (version '1.3.5' currently installed).\n",
      "  from pandas.core import (\n"
     ]
    }
   ],
   "source": [
    "import pandas as pd"
   ]
  },
  {
   "cell_type": "markdown",
   "id": "6e09e920",
   "metadata": {},
   "source": [
    "# Calories group by month merged"
   ]
  },
  {
   "cell_type": "code",
   "execution_count": 3,
   "id": "f200e546",
   "metadata": {},
   "outputs": [
    {
     "name": "stdout",
     "output_type": "stream",
     "text": [
      "Los datos han sido combinados y guardados en 'FitBit API Database/calories_merged.csv'.\n"
     ]
    }
   ],
   "source": [
    "archivo_salida = \"FitBit API Database/calories_merged.csv\"\n",
    "\n",
    "try:\n",
    "    with open(archivo_salida, 'r'):\n",
    "        print(f\"El archivo '{archivo_salida}' ya existe...\")\n",
    "except FileNotFoundError:\n",
    "    datos_combinados = pd.DataFrame()\n",
    "    for mes in range(1, 13):\n",
    "        nombre_archivo = f\"FitBit API Database/calories_data_{mes}.csv\"\n",
    "        try:\n",
    "            datos_mes = pd.read_csv(nombre_archivo)\n",
    "            datos_combinados = pd.concat([datos_combinados, datos_mes])\n",
    "        except FileNotFoundError:\n",
    "            continue\n",
    "    \n",
    "    datos_combinados.to_csv(archivo_salida, index=False)\n",
    "    print(f\"Los datos han sido combinados y guardados en '{archivo_salida}'.\")\n"
   ]
  },
  {
   "cell_type": "markdown",
   "id": "a9f3ac5b",
   "metadata": {},
   "source": [
    "# Distance group by month merged"
   ]
  },
  {
   "cell_type": "code",
   "execution_count": 5,
   "id": "3f272e18",
   "metadata": {},
   "outputs": [
    {
     "name": "stdout",
     "output_type": "stream",
     "text": [
      "Los datos han sido combinados y guardados en 'FitBit API Database/distance_merged.csv'.\n"
     ]
    }
   ],
   "source": [
    "\n",
    "archivo_salida = \"FitBit API Database/distance_merged.csv\"\n",
    "\n",
    "try:\n",
    "    with open(archivo_salida, 'r'):\n",
    "        print(f\"El archivo '{archivo_salida}' ya existe...\")\n",
    "except FileNotFoundError:\n",
    "    datos_combinados = pd.DataFrame()\n",
    "    for mes in range(1, 13):\n",
    "        nombre_archivo = f\"FitBit API Database/distance_data_{mes}.csv\"\n",
    "        try:\n",
    "            datos_mes = pd.read_csv(nombre_archivo)\n",
    "            datos_combinados = pd.concat([datos_combinados, datos_mes])\n",
    "        except FileNotFoundError:\n",
    "            continue\n",
    "    \n",
    "    datos_combinados.to_csv(archivo_salida, index=False)\n",
    "    print(f\"Los datos han sido combinados y guardados en '{archivo_salida}'.\")\n"
   ]
  },
  {
   "cell_type": "markdown",
   "id": "ca59cb45",
   "metadata": {},
   "source": [
    "# Heart rate group by month  "
   ]
  },
  {
   "cell_type": "code",
   "execution_count": 6,
   "id": "d3e26480",
   "metadata": {},
   "outputs": [
    {
     "name": "stdout",
     "output_type": "stream",
     "text": [
      "Los datos han sido combinados y guardados en 'FitBit API Database/heart_rate_merged.csv'.\n"
     ]
    }
   ],
   "source": [
    "archivo_salida = \"FitBit API Database/heart_rate_merged.csv\"\n",
    "\n",
    "try:\n",
    "    with open(archivo_salida, 'r'):\n",
    "        print(f\"El archivo '{archivo_salida}' ya existe...\")\n",
    "except FileNotFoundError:\n",
    "    datos_combinados = pd.DataFrame()\n",
    "    for mes in range(1, 13):\n",
    "        nombre_archivo = f\"FitBit API Database/heart_rate_data_{mes}.csv\"\n",
    "        try:\n",
    "            datos_mes = pd.read_csv(nombre_archivo)\n",
    "            datos_combinados = pd.concat([datos_combinados, datos_mes])\n",
    "        except FileNotFoundError:\n",
    "            continue\n",
    "    \n",
    "    datos_combinados.to_csv(archivo_salida, index=False)\n",
    "    print(f\"Los datos han sido combinados y guardados en '{archivo_salida}'.\")\n"
   ]
  },
  {
   "cell_type": "markdown",
   "id": "d60f92cc",
   "metadata": {},
   "source": [
    "# Steps group by month "
   ]
  },
  {
   "cell_type": "code",
   "execution_count": 7,
   "id": "303fbbc9",
   "metadata": {},
   "outputs": [
    {
     "name": "stdout",
     "output_type": "stream",
     "text": [
      "Los datos han sido combinados y guardados en 'FitBit API Database/steps_merged.csv'.\n"
     ]
    }
   ],
   "source": [
    "archivo_salida = \"FitBit API Database/steps_merged.csv\"\n",
    "\n",
    "try:\n",
    "    with open(archivo_salida, 'r'):\n",
    "        print(f\"El archivo '{archivo_salida}' ya existe...\")\n",
    "except FileNotFoundError:\n",
    "    datos_combinados = pd.DataFrame()\n",
    "    for mes in range(1, 13):\n",
    "        nombre_archivo = f\"FitBit API Database/steps_data_{mes}.csv\"\n",
    "        try:\n",
    "            datos_mes = pd.read_csv(nombre_archivo)\n",
    "            datos_combinados = pd.concat([datos_combinados, datos_mes])\n",
    "        except FileNotFoundError:\n",
    "            continue\n",
    "    \n",
    "    datos_combinados.to_csv(archivo_salida, index=False)\n",
    "    print(f\"Los datos han sido combinados y guardados en '{archivo_salida}'.\")\n"
   ]
  },
  {
   "cell_type": "markdown",
   "id": "fd0c6b7c",
   "metadata": {},
   "source": [
    "# Merged final"
   ]
  },
  {
   "cell_type": "code",
   "execution_count": 9,
   "id": "b9f54399",
   "metadata": {},
   "outputs": [
    {
     "name": "stdout",
     "output_type": "stream",
     "text": [
      "Todos los datos han sido combinados y guardados en 'FitBit API Database/test_train_data_api_merged.csv'.\n"
     ]
    }
   ],
   "source": [
    "\n",
    "archivos_fusionados = [\n",
    "    \"FitBit API Database/calories_merged.csv\",\n",
    "    \"FitBit API Database/distance_merged.csv\",\n",
    "    \"FitBit API Database/heart_rate_merged.csv\",\n",
    "    \"FitBit API Database/steps_merged.csv\"\n",
    "]\n",
    "\n",
    "datos_combinados_final = pd.read_csv(archivos_fusionados[0])\n",
    "\n",
    "for archivo in archivos_fusionados[1:]:\n",
    "    datos = pd.read_csv(archivo)\n",
    "    datos_combinados_final = pd.merge(datos_combinados_final, datos, on=[\"Id\", \"Date\", \"Time\"], how=\"outer\")\n",
    "\n",
    "archivo_final = \"FitBit API Database/test_train_data_api_merged.csv\"\n",
    "datos_combinados_final.to_csv(archivo_final, index=False)\n",
    "\n",
    "print(f\"Todos los datos han sido combinados y guardados en '{archivo_final}'.\")\n"
   ]
  }
 ],
 "metadata": {
  "kernelspec": {
   "display_name": "Python 3 (ipykernel)",
   "language": "python",
   "name": "python3"
  },
  "language_info": {
   "codemirror_mode": {
    "name": "ipython",
    "version": 3
   },
   "file_extension": ".py",
   "mimetype": "text/x-python",
   "name": "python",
   "nbconvert_exporter": "python",
   "pygments_lexer": "ipython3",
   "version": "3.9.13"
  }
 },
 "nbformat": 4,
 "nbformat_minor": 5
}
