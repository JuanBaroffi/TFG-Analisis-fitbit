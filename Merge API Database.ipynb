{
 "cells": [
  {
   "cell_type": "code",
   "execution_count": 1,
   "id": "6c3d77cd",
   "metadata": {},
   "outputs": [],
   "source": [
    "import pandas as pd \n",
    "import numpy as np\n",
    "import sklearn"
   ]
  },
  {
   "cell_type": "code",
   "execution_count": 2,
   "id": "3b40393c",
   "metadata": {},
   "outputs": [],
   "source": [
    "from warnings import simplefilter\n",
    "simplefilter(action='ignore', category=FutureWarning)"
   ]
  },
  {
   "cell_type": "markdown",
   "id": "6e09e920",
   "metadata": {},
   "source": [
    "# Calories group by month"
   ]
  },
  {
   "cell_type": "code",
   "execution_count": 3,
   "id": "f200e546",
   "metadata": {},
   "outputs": [
    {
     "name": "stdout",
     "output_type": "stream",
     "text": [
      "El archivo 'FitBit API Database/calories_merged.csv' ya existe...\n"
     ]
    }
   ],
   "source": [
    "archivo_salida = \"FitBit API Database/calories_merged.csv\"\n",
    "\n",
    "try:\n",
    "    with open(archivo_salida, 'r'):\n",
    "        print(f\"El archivo '{archivo_salida}' ya existe...\")\n",
    "except FileNotFoundError:\n",
    "    datos_combinados = pd.DataFrame()\n",
    "    for mes in range(1, 13):\n",
    "        nombre_archivo = f\"FitBit API Database/calories_data_{mes}.csv\"\n",
    "        try:\n",
    "            datos_mes = pd.read_csv(nombre_archivo)\n",
    "            datos_combinados = pd.concat([datos_combinados, datos_mes])\n",
    "        except FileNotFoundError:\n",
    "            continue\n",
    "    \n",
    "    datos_combinados.to_csv(archivo_salida, index=False)\n",
    "    print(f\"Los datos han sido combinados y guardados en '{archivo_salida}'.\")\n"
   ]
  },
  {
   "cell_type": "markdown",
   "id": "a9f3ac5b",
   "metadata": {},
   "source": [
    "# Distance group by month"
   ]
  },
  {
   "cell_type": "code",
   "execution_count": 4,
   "id": "3f272e18",
   "metadata": {},
   "outputs": [
    {
     "name": "stdout",
     "output_type": "stream",
     "text": [
      "El archivo 'FitBit API Database/distance_merged.csv' ya existe...\n"
     ]
    }
   ],
   "source": [
    "\n",
    "archivo_salida = \"FitBit API Database/distance_merged.csv\"\n",
    "\n",
    "try:\n",
    "    with open(archivo_salida, 'r'):\n",
    "        print(f\"El archivo '{archivo_salida}' ya existe...\")\n",
    "except FileNotFoundError:\n",
    "    datos_combinados = pd.DataFrame()\n",
    "    for mes in range(1, 13):\n",
    "        nombre_archivo = f\"FitBit API Database/distance_data_{mes}.csv\"\n",
    "        try:\n",
    "            datos_mes = pd.read_csv(nombre_archivo)\n",
    "            datos_combinados = pd.concat([datos_combinados, datos_mes])\n",
    "        except FileNotFoundError:\n",
    "            continue\n",
    "    \n",
    "    datos_combinados.to_csv(archivo_salida, index=False)\n",
    "    print(f\"Los datos han sido combinados y guardados en '{archivo_salida}'.\")\n"
   ]
  },
  {
   "cell_type": "markdown",
   "id": "ca59cb45",
   "metadata": {},
   "source": [
    "# Heart rate group by month  "
   ]
  },
  {
   "cell_type": "code",
   "execution_count": 5,
   "id": "d3e26480",
   "metadata": {},
   "outputs": [
    {
     "name": "stdout",
     "output_type": "stream",
     "text": [
      "El archivo 'FitBit API Database/heart_rate_merged.csv' ya existe...\n"
     ]
    }
   ],
   "source": [
    "archivo_salida = \"FitBit API Database/heart_rate_merged.csv\"\n",
    "\n",
    "try:\n",
    "    with open(archivo_salida, 'r'):\n",
    "        print(f\"El archivo '{archivo_salida}' ya existe...\")\n",
    "except FileNotFoundError:\n",
    "    datos_combinados = pd.DataFrame()\n",
    "    for mes in range(1, 13):\n",
    "        nombre_archivo = f\"FitBit API Database/heart_rate_data_{mes}.csv\"\n",
    "        try:\n",
    "            datos_mes = pd.read_csv(nombre_archivo)\n",
    "            datos_combinados = pd.concat([datos_combinados, datos_mes])\n",
    "        except FileNotFoundError:\n",
    "            continue\n",
    "    \n",
    "    datos_combinados.to_csv(archivo_salida, index=False)\n",
    "    print(f\"Los datos han sido combinados y guardados en '{archivo_salida}'.\")\n"
   ]
  },
  {
   "cell_type": "markdown",
   "id": "d60f92cc",
   "metadata": {},
   "source": [
    "# Steps group by month "
   ]
  },
  {
   "cell_type": "code",
   "execution_count": 6,
   "id": "303fbbc9",
   "metadata": {},
   "outputs": [
    {
     "name": "stdout",
     "output_type": "stream",
     "text": [
      "El archivo 'FitBit API Database/steps_merged.csv' ya existe...\n"
     ]
    }
   ],
   "source": [
    "archivo_salida = \"FitBit API Database/steps_merged.csv\"\n",
    "\n",
    "try:\n",
    "    with open(archivo_salida, 'r'):\n",
    "        print(f\"El archivo '{archivo_salida}' ya existe...\")\n",
    "except FileNotFoundError:\n",
    "    datos_combinados = pd.DataFrame()\n",
    "    for mes in range(1, 13):\n",
    "        nombre_archivo = f\"FitBit API Database/steps_data_{mes}.csv\"\n",
    "        try:\n",
    "            datos_mes = pd.read_csv(nombre_archivo)\n",
    "            datos_combinados = pd.concat([datos_combinados, datos_mes])\n",
    "        except FileNotFoundError:\n",
    "            continue\n",
    "    \n",
    "    datos_combinados.to_csv(archivo_salida, index=False)\n",
    "    print(f\"Los datos han sido combinados y guardados en '{archivo_salida}'.\")\n"
   ]
  },
  {
   "cell_type": "markdown",
   "id": "fd0c6b7c",
   "metadata": {},
   "source": [
    "# Merged final"
   ]
  },
  {
   "cell_type": "code",
   "execution_count": 7,
   "id": "b9f54399",
   "metadata": {},
   "outputs": [],
   "source": [
    "\n",
    "archivos_fusionados = [\n",
    "    \"FitBit API Database/calories_merged.csv\",\n",
    "    \"FitBit API Database/distance_merged.csv\",\n",
    "    \"FitBit API Database/heart_rate_merged.csv\",\n",
    "    \"FitBit API Database/steps_merged.csv\"\n",
    "]\n",
    "\n",
    "datos_combinados_final = pd.read_csv(archivos_fusionados[0])\n",
    "\n",
    "for archivo in archivos_fusionados[1:]:\n",
    "    datos = pd.read_csv(archivo)\n",
    "    datos_combinados_final = pd.merge(datos_combinados_final, datos, on=[\"Id\", \"Date\", \"Time\"], how=\"outer\")\n"
   ]
  },
  {
   "cell_type": "code",
   "execution_count": 8,
   "id": "61568c82",
   "metadata": {},
   "outputs": [
    {
     "name": "stdout",
     "output_type": "stream",
     "text": [
      "       Id        Date      Time  Calories  Distance  Heart Rate  Steps\n",
      "0  BSGSML  2024-02-01  00:00:00    1.3095       0.0         NaN    0.0\n",
      "1  BSGSML  2024-02-01  00:01:00    1.3095       0.0         NaN    0.0\n",
      "2  BSGSML  2024-02-01  00:02:00    1.3095       0.0         NaN    0.0\n",
      "3  BSGSML  2024-02-01  00:03:00    1.3095       0.0         NaN    0.0\n",
      "4  BSGSML  2024-02-01  00:04:00    1.3095       0.0         NaN    0.0\n"
     ]
    }
   ],
   "source": [
    "print(datos_combinados_final.head())"
   ]
  },
  {
   "cell_type": "code",
   "execution_count": 9,
   "id": "f03202c3",
   "metadata": {},
   "outputs": [
    {
     "name": "stdout",
     "output_type": "stream",
     "text": [
      "           Id                Time  Calories  Distance  Heart Rate  Steps\n",
      "0      BSGSML 2024-02-01 00:00:00   1.30950    0.0000         NaN    0.0\n",
      "1      BSGSML 2024-02-01 00:01:00   1.30950    0.0000         NaN    0.0\n",
      "2      BSGSML 2024-02-01 00:02:00   1.30950    0.0000         NaN    0.0\n",
      "3      BSGSML 2024-02-01 00:03:00   1.30950    0.0000         NaN    0.0\n",
      "4      BSGSML 2024-02-01 00:04:00   1.30950    0.0000         NaN    0.0\n",
      "...       ...                 ...       ...       ...         ...    ...\n",
      "86395  BSGSML 2024-03-31 23:55:00   1.44144    0.0000        66.0    NaN\n",
      "86396  BSGSML 2024-03-31 23:56:00   1.31040    0.0000        61.0    NaN\n",
      "86397  BSGSML 2024-03-31 23:57:00   1.44144    0.0000        61.0    NaN\n",
      "86398  BSGSML 2024-03-31 23:58:00   1.70352    0.0000        70.0    NaN\n",
      "86399  BSGSML 2024-03-31 23:59:00   3.40704    0.0059        71.0    NaN\n",
      "\n",
      "[86400 rows x 6 columns]\n",
      "Todos los datos han sido combinados y guardados en 'FitBit API Database/test_train_data_api_merged.csv'.\n"
     ]
    }
   ],
   "source": [
    "archivo_final = \"FitBit API Database/test_train_data_api_merged.csv\"\n",
    "\n",
    "datos_combinados_final['Time'] = pd.to_datetime(datos_combinados_final['Date'] + ' ' + datos_combinados_final['Time'])\n",
    "\n",
    "datos_combinados_final.drop(columns='Date', inplace=True)\n",
    "\n",
    "print(datos_combinados_final)\n",
    "\n",
    "datos_combinados_final.to_csv(archivo_final, index=False)\n",
    "\n",
    "print(f\"Todos los datos han sido combinados y guardados en '{archivo_final}'.\")"
   ]
  },
  {
   "cell_type": "markdown",
   "id": "cd3f1255",
   "metadata": {},
   "source": [
    "# Preprocesamiento de los datos"
   ]
  },
  {
   "cell_type": "code",
   "execution_count": 10,
   "id": "ac8f9684",
   "metadata": {},
   "outputs": [
    {
     "data": {
      "text/plain": [
       "Id                0\n",
       "Time              0\n",
       "Calories          0\n",
       "Distance          0\n",
       "Heart Rate    22353\n",
       "Steps          2880\n",
       "dtype: int64"
      ]
     },
     "execution_count": 10,
     "metadata": {},
     "output_type": "execute_result"
    }
   ],
   "source": [
    "datos_combinados_final.isna().sum()"
   ]
  },
  {
   "cell_type": "code",
   "execution_count": 11,
   "id": "6b03f0dc",
   "metadata": {},
   "outputs": [],
   "source": [
    "#from sklearn.impute import SimpleImputer\n",
    "\n",
    "#mode_imputer = SimpleImputer(strategy='most_frequent')\n",
    "\n",
    "#for column in datos_combinados_final.columns:\n",
    "#    if datos_combinados_final[column].dtype in ['int64', 'float64']:\n",
    " #       values = datos_combinados_final[column].values.reshape(-1,1)\n",
    " #       mode_imputer.fit(values)\n",
    "#        datos_combinados_final[column] = mode_imputer.transform(values)\n",
    "\n",
    "#datos_combinados_final.isna().sum()"
   ]
  },
  {
   "cell_type": "code",
   "execution_count": 12,
   "id": "0f016cb6",
   "metadata": {},
   "outputs": [
    {
     "name": "stdout",
     "output_type": "stream",
     "text": [
      "       Id                Time  Calories  Distance  Heart Rate  Steps\n",
      "0  BSGSML 2024-02-01 00:00:00    1.3095       0.0         NaN    0.0\n",
      "1  BSGSML 2024-02-01 00:01:00    1.3095       0.0         NaN    0.0\n",
      "2  BSGSML 2024-02-01 00:02:00    1.3095       0.0         NaN    0.0\n",
      "3  BSGSML 2024-02-01 00:03:00    1.3095       0.0         NaN    0.0\n",
      "4  BSGSML 2024-02-01 00:04:00    1.3095       0.0         NaN    0.0\n"
     ]
    }
   ],
   "source": [
    "print(datos_combinados_final.head())"
   ]
  },
  {
   "cell_type": "code",
   "execution_count": 13,
   "id": "79775e85",
   "metadata": {},
   "outputs": [],
   "source": [
    "datos_combinados_final.to_csv(archivo_final, index=False)"
   ]
  },
  {
   "cell_type": "code",
   "execution_count": 14,
   "id": "619edf0b",
   "metadata": {},
   "outputs": [
    {
     "name": "stdout",
     "output_type": "stream",
     "text": [
      "       Id                Time  Calories  Distance  Heart Rate  Steps\n",
      "0  BSGSML 2024-02-01 00:00:00    1.3095       0.0         NaN    0.0\n",
      "1  BSGSML 2024-02-01 00:01:00    1.3095       0.0         NaN    0.0\n",
      "2  BSGSML 2024-02-01 00:02:00    1.3095       0.0         NaN    0.0\n",
      "3  BSGSML 2024-02-01 00:03:00    1.3095       0.0         NaN    0.0\n",
      "4  BSGSML 2024-02-01 00:04:00    1.3095       0.0         NaN    0.0\n"
     ]
    }
   ],
   "source": [
    "print(datos_combinados_final.head())"
   ]
  },
  {
   "cell_type": "code",
   "execution_count": 15,
   "id": "a76f844e",
   "metadata": {},
   "outputs": [
    {
     "name": "stdout",
     "output_type": "stream",
     "text": [
      "       Id                Time  Calories  Distance  Steps  HeartRate\n",
      "0  BSGSML 2024-02-01 00:00:00    1.3095       0.0    0.0        NaN\n",
      "1  BSGSML 2024-02-01 00:01:00    1.3095       0.0    0.0        NaN\n",
      "2  BSGSML 2024-02-01 00:02:00    1.3095       0.0    0.0        NaN\n",
      "3  BSGSML 2024-02-01 00:03:00    1.3095       0.0    0.0        NaN\n",
      "4  BSGSML 2024-02-01 00:04:00    1.3095       0.0    0.0        NaN\n"
     ]
    }
   ],
   "source": [
    "datos_combinados_final['HeartRate'] = datos_combinados_final['Heart Rate'] \n",
    "datos_combinados_final.drop(columns='Heart Rate', inplace=True)\n",
    "print(datos_combinados_final.head())"
   ]
  },
  {
   "cell_type": "code",
   "execution_count": 16,
   "id": "8c6aeae0",
   "metadata": {},
   "outputs": [],
   "source": [
    "for column in datos_combinados_final.columns:\n",
    "    # Verificar si la columna tiene valores NaN\n",
    "    if datos_combinados_final[column].isna().any():\n",
    "        # Realizar un dropna en la columna si hay valores NaN\n",
    "        datos_combinados_final = datos_combinados_final.dropna(subset=[column])"
   ]
  },
  {
   "cell_type": "code",
   "execution_count": 17,
   "id": "72761053",
   "metadata": {},
   "outputs": [
    {
     "data": {
      "text/plain": [
       "Id           0\n",
       "Time         0\n",
       "Calories     0\n",
       "Distance     0\n",
       "Steps        0\n",
       "HeartRate    0\n",
       "dtype: int64"
      ]
     },
     "execution_count": 17,
     "metadata": {},
     "output_type": "execute_result"
    }
   ],
   "source": [
    "#Comprobamos los valores NaN de cada columna\n",
    "datos_combinados_final.isna().sum()"
   ]
  },
  {
   "cell_type": "code",
   "execution_count": 18,
   "id": "edad440a",
   "metadata": {},
   "outputs": [
    {
     "name": "stdout",
     "output_type": "stream",
     "text": [
      "Número de filas con missing values: 0.0\n"
     ]
    }
   ],
   "source": [
    "print(f'Número de filas con missing values: {datos_combinados_final.isnull().any(axis=1).mean()}')"
   ]
  },
  {
   "cell_type": "code",
   "execution_count": 19,
   "id": "e0de1536",
   "metadata": {},
   "outputs": [],
   "source": [
    "archivo_final = \"FitBit API Database/test_train_data_api_merged.csv\"\n",
    "datos_combinados_final.to_csv(archivo_final, index=False)"
   ]
  },
  {
   "cell_type": "code",
   "execution_count": 20,
   "id": "bcd76bee",
   "metadata": {},
   "outputs": [
    {
     "data": {
      "text/html": [
       "<div>\n",
       "<style scoped>\n",
       "    .dataframe tbody tr th:only-of-type {\n",
       "        vertical-align: middle;\n",
       "    }\n",
       "\n",
       "    .dataframe tbody tr th {\n",
       "        vertical-align: top;\n",
       "    }\n",
       "\n",
       "    .dataframe thead th {\n",
       "        text-align: right;\n",
       "    }\n",
       "</style>\n",
       "<table border=\"1\" class=\"dataframe\">\n",
       "  <thead>\n",
       "    <tr style=\"text-align: right;\">\n",
       "      <th></th>\n",
       "      <th>Id</th>\n",
       "      <th>Time</th>\n",
       "      <th>Calories</th>\n",
       "      <th>Distance</th>\n",
       "      <th>Steps</th>\n",
       "      <th>HeartRate</th>\n",
       "    </tr>\n",
       "  </thead>\n",
       "  <tbody>\n",
       "    <tr>\n",
       "      <th>21253</th>\n",
       "      <td>BSGSML</td>\n",
       "      <td>2024-02-15 18:13:00</td>\n",
       "      <td>1.30970</td>\n",
       "      <td>0.0</td>\n",
       "      <td>0.0</td>\n",
       "      <td>57.0</td>\n",
       "    </tr>\n",
       "    <tr>\n",
       "      <th>21254</th>\n",
       "      <td>BSGSML</td>\n",
       "      <td>2024-02-15 18:14:00</td>\n",
       "      <td>1.44067</td>\n",
       "      <td>0.0</td>\n",
       "      <td>0.0</td>\n",
       "      <td>58.0</td>\n",
       "    </tr>\n",
       "    <tr>\n",
       "      <th>21255</th>\n",
       "      <td>BSGSML</td>\n",
       "      <td>2024-02-15 18:15:00</td>\n",
       "      <td>1.44067</td>\n",
       "      <td>0.0</td>\n",
       "      <td>0.0</td>\n",
       "      <td>63.0</td>\n",
       "    </tr>\n",
       "    <tr>\n",
       "      <th>21256</th>\n",
       "      <td>BSGSML</td>\n",
       "      <td>2024-02-15 18:16:00</td>\n",
       "      <td>1.30970</td>\n",
       "      <td>0.0</td>\n",
       "      <td>0.0</td>\n",
       "      <td>58.0</td>\n",
       "    </tr>\n",
       "    <tr>\n",
       "      <th>21257</th>\n",
       "      <td>BSGSML</td>\n",
       "      <td>2024-02-15 18:17:00</td>\n",
       "      <td>1.44067</td>\n",
       "      <td>0.0</td>\n",
       "      <td>0.0</td>\n",
       "      <td>57.0</td>\n",
       "    </tr>\n",
       "    <tr>\n",
       "      <th>...</th>\n",
       "      <td>...</td>\n",
       "      <td>...</td>\n",
       "      <td>...</td>\n",
       "      <td>...</td>\n",
       "      <td>...</td>\n",
       "      <td>...</td>\n",
       "    </tr>\n",
       "    <tr>\n",
       "      <th>83515</th>\n",
       "      <td>BSGSML</td>\n",
       "      <td>2024-03-29 23:55:00</td>\n",
       "      <td>1.57248</td>\n",
       "      <td>0.0</td>\n",
       "      <td>0.0</td>\n",
       "      <td>67.0</td>\n",
       "    </tr>\n",
       "    <tr>\n",
       "      <th>83516</th>\n",
       "      <td>BSGSML</td>\n",
       "      <td>2024-03-29 23:56:00</td>\n",
       "      <td>1.57248</td>\n",
       "      <td>0.0</td>\n",
       "      <td>0.0</td>\n",
       "      <td>67.0</td>\n",
       "    </tr>\n",
       "    <tr>\n",
       "      <th>83517</th>\n",
       "      <td>BSGSML</td>\n",
       "      <td>2024-03-29 23:57:00</td>\n",
       "      <td>1.57248</td>\n",
       "      <td>0.0</td>\n",
       "      <td>0.0</td>\n",
       "      <td>67.0</td>\n",
       "    </tr>\n",
       "    <tr>\n",
       "      <th>83518</th>\n",
       "      <td>BSGSML</td>\n",
       "      <td>2024-03-29 23:58:00</td>\n",
       "      <td>1.57248</td>\n",
       "      <td>0.0</td>\n",
       "      <td>0.0</td>\n",
       "      <td>66.0</td>\n",
       "    </tr>\n",
       "    <tr>\n",
       "      <th>83519</th>\n",
       "      <td>BSGSML</td>\n",
       "      <td>2024-03-29 23:59:00</td>\n",
       "      <td>1.57248</td>\n",
       "      <td>0.0</td>\n",
       "      <td>0.0</td>\n",
       "      <td>65.0</td>\n",
       "    </tr>\n",
       "  </tbody>\n",
       "</table>\n",
       "<p>61232 rows × 6 columns</p>\n",
       "</div>"
      ],
      "text/plain": [
       "           Id                Time  Calories  Distance  Steps  HeartRate\n",
       "21253  BSGSML 2024-02-15 18:13:00   1.30970       0.0    0.0       57.0\n",
       "21254  BSGSML 2024-02-15 18:14:00   1.44067       0.0    0.0       58.0\n",
       "21255  BSGSML 2024-02-15 18:15:00   1.44067       0.0    0.0       63.0\n",
       "21256  BSGSML 2024-02-15 18:16:00   1.30970       0.0    0.0       58.0\n",
       "21257  BSGSML 2024-02-15 18:17:00   1.44067       0.0    0.0       57.0\n",
       "...       ...                 ...       ...       ...    ...        ...\n",
       "83515  BSGSML 2024-03-29 23:55:00   1.57248       0.0    0.0       67.0\n",
       "83516  BSGSML 2024-03-29 23:56:00   1.57248       0.0    0.0       67.0\n",
       "83517  BSGSML 2024-03-29 23:57:00   1.57248       0.0    0.0       67.0\n",
       "83518  BSGSML 2024-03-29 23:58:00   1.57248       0.0    0.0       66.0\n",
       "83519  BSGSML 2024-03-29 23:59:00   1.57248       0.0    0.0       65.0\n",
       "\n",
       "[61232 rows x 6 columns]"
      ]
     },
     "execution_count": 20,
     "metadata": {},
     "output_type": "execute_result"
    }
   ],
   "source": [
    "datos_combinados_final"
   ]
  }
 ],
 "metadata": {
  "kernelspec": {
   "display_name": "Python 3 (ipykernel)",
   "language": "python",
   "name": "python3"
  },
  "language_info": {
   "codemirror_mode": {
    "name": "ipython",
    "version": 3
   },
   "file_extension": ".py",
   "mimetype": "text/x-python",
   "name": "python",
   "nbconvert_exporter": "python",
   "pygments_lexer": "ipython3",
   "version": "3.9.13"
  }
 },
 "nbformat": 4,
 "nbformat_minor": 5
}
