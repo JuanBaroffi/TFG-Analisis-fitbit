{
 "cells": [
  {
   "cell_type": "code",
   "execution_count": 39,
   "id": "6c3d77cd",
   "metadata": {},
   "outputs": [],
   "source": [
    "import pandas as pd \n",
    "import numpy as np\n",
    "import sklearn"
   ]
  },
  {
   "cell_type": "code",
   "execution_count": 40,
   "id": "cd170638",
   "metadata": {},
   "outputs": [],
   "source": [
    "from warnings import simplefilter\n",
    "simplefilter(action='ignore', category=FutureWarning)"
   ]
  },
  {
   "cell_type": "markdown",
   "id": "6e09e920",
   "metadata": {},
   "source": [
    "# Calories group by month"
   ]
  },
  {
   "cell_type": "code",
   "execution_count": 41,
   "id": "f200e546",
   "metadata": {},
   "outputs": [
    {
     "name": "stdout",
     "output_type": "stream",
     "text": [
      "El archivo 'FitBit API Database/calories_merged.csv' ya existe...\n"
     ]
    }
   ],
   "source": [
    "archivo_salida = \"FitBit API Database/calories_merged.csv\"\n",
    "\n",
    "try:\n",
    "    with open(archivo_salida, 'r'):\n",
    "        print(f\"El archivo '{archivo_salida}' ya existe...\")\n",
    "except FileNotFoundError:\n",
    "    datos_combinados = pd.DataFrame()\n",
    "    for mes in range(1, 13):\n",
    "        nombre_archivo = f\"FitBit API Database/calories_data_{mes}.csv\"\n",
    "        try:\n",
    "            datos_mes = pd.read_csv(nombre_archivo)\n",
    "            datos_combinados = pd.concat([datos_combinados, datos_mes])\n",
    "        except FileNotFoundError:\n",
    "            continue\n",
    "    \n",
    "    datos_combinados.to_csv(archivo_salida, index=False)\n",
    "    print(f\"Los datos han sido combinados y guardados en '{archivo_salida}'.\")\n"
   ]
  },
  {
   "cell_type": "markdown",
   "id": "a9f3ac5b",
   "metadata": {},
   "source": [
    "# Distance group by month"
   ]
  },
  {
   "cell_type": "code",
   "execution_count": 42,
   "id": "3f272e18",
   "metadata": {},
   "outputs": [
    {
     "name": "stdout",
     "output_type": "stream",
     "text": [
      "El archivo 'FitBit API Database/distance_merged.csv' ya existe...\n"
     ]
    }
   ],
   "source": [
    "\n",
    "archivo_salida = \"FitBit API Database/distance_merged.csv\"\n",
    "\n",
    "try:\n",
    "    with open(archivo_salida, 'r'):\n",
    "        print(f\"El archivo '{archivo_salida}' ya existe...\")\n",
    "except FileNotFoundError:\n",
    "    datos_combinados = pd.DataFrame()\n",
    "    for mes in range(1, 13):\n",
    "        nombre_archivo = f\"FitBit API Database/distance_data_{mes}.csv\"\n",
    "        try:\n",
    "            datos_mes = pd.read_csv(nombre_archivo)\n",
    "            datos_combinados = pd.concat([datos_combinados, datos_mes])\n",
    "        except FileNotFoundError:\n",
    "            continue\n",
    "    \n",
    "    datos_combinados.to_csv(archivo_salida, index=False)\n",
    "    print(f\"Los datos han sido combinados y guardados en '{archivo_salida}'.\")\n"
   ]
  },
  {
   "cell_type": "markdown",
   "id": "ca59cb45",
   "metadata": {},
   "source": [
    "# Heart rate group by month  "
   ]
  },
  {
   "cell_type": "code",
   "execution_count": 43,
   "id": "d3e26480",
   "metadata": {},
   "outputs": [
    {
     "name": "stdout",
     "output_type": "stream",
     "text": [
      "El archivo 'FitBit API Database/heart_rate_merged.csv' ya existe...\n"
     ]
    }
   ],
   "source": [
    "archivo_salida = \"FitBit API Database/heart_rate_merged.csv\"\n",
    "\n",
    "try:\n",
    "    with open(archivo_salida, 'r'):\n",
    "        print(f\"El archivo '{archivo_salida}' ya existe...\")\n",
    "except FileNotFoundError:\n",
    "    datos_combinados = pd.DataFrame()\n",
    "    for mes in range(1, 13):\n",
    "        nombre_archivo = f\"FitBit API Database/heart_rate_data_{mes}.csv\"\n",
    "        try:\n",
    "            datos_mes = pd.read_csv(nombre_archivo)\n",
    "            datos_combinados = pd.concat([datos_combinados, datos_mes])\n",
    "        except FileNotFoundError:\n",
    "            continue\n",
    "    \n",
    "    datos_combinados.to_csv(archivo_salida, index=False)\n",
    "    print(f\"Los datos han sido combinados y guardados en '{archivo_salida}'.\")\n"
   ]
  },
  {
   "cell_type": "markdown",
   "id": "d60f92cc",
   "metadata": {},
   "source": [
    "# Steps group by month "
   ]
  },
  {
   "cell_type": "code",
   "execution_count": 44,
   "id": "303fbbc9",
   "metadata": {},
   "outputs": [
    {
     "name": "stdout",
     "output_type": "stream",
     "text": [
      "El archivo 'FitBit API Database/steps_merged.csv' ya existe...\n"
     ]
    }
   ],
   "source": [
    "archivo_salida = \"FitBit API Database/steps_merged.csv\"\n",
    "\n",
    "try:\n",
    "    with open(archivo_salida, 'r'):\n",
    "        print(f\"El archivo '{archivo_salida}' ya existe...\")\n",
    "except FileNotFoundError:\n",
    "    datos_combinados = pd.DataFrame()\n",
    "    for mes in range(1, 13):\n",
    "        nombre_archivo = f\"FitBit API Database/steps_data_{mes}.csv\"\n",
    "        try:\n",
    "            datos_mes = pd.read_csv(nombre_archivo)\n",
    "            datos_combinados = pd.concat([datos_combinados, datos_mes])\n",
    "        except FileNotFoundError:\n",
    "            continue\n",
    "    \n",
    "    datos_combinados.to_csv(archivo_salida, index=False)\n",
    "    print(f\"Los datos han sido combinados y guardados en '{archivo_salida}'.\")\n"
   ]
  },
  {
   "cell_type": "markdown",
   "id": "fd0c6b7c",
   "metadata": {},
   "source": [
    "# Merged final"
   ]
  },
  {
   "cell_type": "code",
   "execution_count": 45,
   "id": "b9f54399",
   "metadata": {},
   "outputs": [],
   "source": [
    "\n",
    "archivos_fusionados = [\n",
    "    \"FitBit API Database/calories_merged.csv\",\n",
    "    \"FitBit API Database/distance_merged.csv\",\n",
    "    \"FitBit API Database/heart_rate_merged.csv\",\n",
    "    \"FitBit API Database/steps_merged.csv\"\n",
    "]\n",
    "\n",
    "datos_combinados_final = pd.read_csv(archivos_fusionados[0])\n",
    "\n",
    "for archivo in archivos_fusionados[1:]:\n",
    "    datos = pd.read_csv(archivo)\n",
    "    datos_combinados_final = pd.merge(datos_combinados_final, datos, on=[\"Id\", \"Date\", \"Time\"], how=\"outer\")\n"
   ]
  },
  {
   "cell_type": "code",
   "execution_count": 46,
   "id": "61568c82",
   "metadata": {},
   "outputs": [
    {
     "name": "stdout",
     "output_type": "stream",
     "text": [
      "       Id        Date      Time  Calories  Distance  Heart Rate  Steps\n",
      "0  BSGSML  2024-02-01  00:00:00    1.3095       0.0         NaN    0.0\n",
      "1  BSGSML  2024-02-01  00:01:00    1.3095       0.0         NaN    0.0\n",
      "2  BSGSML  2024-02-01  00:02:00    1.3095       0.0         NaN    0.0\n",
      "3  BSGSML  2024-02-01  00:03:00    1.3095       0.0         NaN    0.0\n",
      "4  BSGSML  2024-02-01  00:04:00    1.3095       0.0         NaN    0.0\n"
     ]
    }
   ],
   "source": [
    "print(datos_combinados_final.head())"
   ]
  },
  {
   "cell_type": "code",
   "execution_count": 47,
   "id": "f03202c3",
   "metadata": {},
   "outputs": [
    {
     "name": "stdout",
     "output_type": "stream",
     "text": [
      "           Id                Time  Calories  Distance  Heart Rate  Steps\n",
      "0      BSGSML 2024-02-01 00:00:00   1.30950    0.0000         NaN    0.0\n",
      "1      BSGSML 2024-02-01 00:01:00   1.30950    0.0000         NaN    0.0\n",
      "2      BSGSML 2024-02-01 00:02:00   1.30950    0.0000         NaN    0.0\n",
      "3      BSGSML 2024-02-01 00:03:00   1.30950    0.0000         NaN    0.0\n",
      "4      BSGSML 2024-02-01 00:04:00   1.30950    0.0000         NaN    0.0\n",
      "...       ...                 ...       ...       ...         ...    ...\n",
      "86395  BSGSML 2024-03-31 23:55:00   1.44144    0.0000        66.0    NaN\n",
      "86396  BSGSML 2024-03-31 23:56:00   1.31040    0.0000        61.0    NaN\n",
      "86397  BSGSML 2024-03-31 23:57:00   1.44144    0.0000        61.0    NaN\n",
      "86398  BSGSML 2024-03-31 23:58:00   1.70352    0.0000        70.0    NaN\n",
      "86399  BSGSML 2024-03-31 23:59:00   3.40704    0.0059        71.0    NaN\n",
      "\n",
      "[86400 rows x 6 columns]\n",
      "Todos los datos han sido combinados y guardados en 'FitBit API Database/test_train_data_api_merged.csv'.\n"
     ]
    }
   ],
   "source": [
    "archivo_final = \"FitBit API Database/test_train_data_api_merged.csv\"\n",
    "\n",
    "datos_combinados_final['Time'] = pd.to_datetime(datos_combinados_final['Date'] + ' ' + datos_combinados_final['Time'])\n",
    "\n",
    "datos_combinados_final.drop(columns='Date', inplace=True)\n",
    "\n",
    "print(datos_combinados_final)\n",
    "\n",
    "datos_combinados_final.to_csv(archivo_final, index=False)\n",
    "\n",
    "print(f\"Todos los datos han sido combinados y guardados en '{archivo_final}'.\")"
   ]
  },
  {
   "cell_type": "markdown",
   "id": "12ef6e48",
   "metadata": {},
   "source": [
    "# Preprocesamiento de los datos"
   ]
  },
  {
   "cell_type": "code",
   "execution_count": 48,
   "id": "6dc3ff36",
   "metadata": {},
   "outputs": [
    {
     "data": {
      "text/plain": [
       "Id                0\n",
       "Time              0\n",
       "Calories          0\n",
       "Distance          0\n",
       "Heart Rate    22353\n",
       "Steps          2880\n",
       "dtype: int64"
      ]
     },
     "execution_count": 48,
     "metadata": {},
     "output_type": "execute_result"
    }
   ],
   "source": [
    "datos_combinados_final.isna().sum()"
   ]
  },
  {
   "cell_type": "code",
   "execution_count": 49,
   "id": "edd2b5ef",
   "metadata": {},
   "outputs": [
    {
     "data": {
      "text/plain": [
       "Id            0\n",
       "Time          0\n",
       "Calories      0\n",
       "Distance      0\n",
       "Heart Rate    0\n",
       "Steps         0\n",
       "dtype: int64"
      ]
     },
     "execution_count": 49,
     "metadata": {},
     "output_type": "execute_result"
    }
   ],
   "source": [
    "#from sklearn.impute import SimpleImputer\n",
    "\n",
    "#mode_imputer = SimpleImputer(strategy='most_frequent')\n",
    "\n",
    "#for column in datos_combinados_final.columns:\n",
    "#    if datos_combinados_final[column].dtype in ['int64', 'float64']:\n",
    " #       values = datos_combinados_final[column].values.reshape(-1,1)\n",
    " #       mode_imputer.fit(values)\n",
    "#        datos_combinados_final[column] = mode_imputer.transform(values)\n",
    "\n",
    "#datos_combinados_final.isna().sum()"
   ]
  },
  {
   "cell_type": "code",
   "execution_count": 50,
   "id": "f3bab9e4",
   "metadata": {},
   "outputs": [
    {
     "name": "stdout",
     "output_type": "stream",
     "text": [
      "       Id                Time  Calories  Distance  Heart Rate  Steps\n",
      "0  BSGSML 2024-02-01 00:00:00    1.3095       0.0        60.0    0.0\n",
      "1  BSGSML 2024-02-01 00:01:00    1.3095       0.0        60.0    0.0\n",
      "2  BSGSML 2024-02-01 00:02:00    1.3095       0.0        60.0    0.0\n",
      "3  BSGSML 2024-02-01 00:03:00    1.3095       0.0        60.0    0.0\n",
      "4  BSGSML 2024-02-01 00:04:00    1.3095       0.0        60.0    0.0\n"
     ]
    }
   ],
   "source": [
    "print(datos_combinados_final.head())"
   ]
  },
  {
   "cell_type": "code",
   "execution_count": 51,
   "id": "8d38093c",
   "metadata": {},
   "outputs": [],
   "source": [
    "datos_combinados_final.to_csv(archivo_final, index=False)"
   ]
  },
  {
   "cell_type": "code",
   "execution_count": 52,
   "id": "0e393944",
   "metadata": {},
   "outputs": [
    {
     "name": "stdout",
     "output_type": "stream",
     "text": [
      "       Id                Time  Calories  Distance  Heart Rate  Steps\n",
      "0  BSGSML 2024-02-01 00:00:00    1.3095       0.0        60.0    0.0\n",
      "1  BSGSML 2024-02-01 00:01:00    1.3095       0.0        60.0    0.0\n",
      "2  BSGSML 2024-02-01 00:02:00    1.3095       0.0        60.0    0.0\n",
      "3  BSGSML 2024-02-01 00:03:00    1.3095       0.0        60.0    0.0\n",
      "4  BSGSML 2024-02-01 00:04:00    1.3095       0.0        60.0    0.0\n"
     ]
    }
   ],
   "source": [
    "print(datos_combinados_final.head())"
   ]
  }
 ],
 "metadata": {
  "kernelspec": {
   "display_name": "Python 3 (ipykernel)",
   "language": "python",
   "name": "python3"
  },
  "language_info": {
   "codemirror_mode": {
    "name": "ipython",
    "version": 3
   },
   "file_extension": ".py",
   "mimetype": "text/x-python",
   "name": "python",
   "nbconvert_exporter": "python",
   "pygments_lexer": "ipython3",
   "version": "3.9.13"
  }
 },
 "nbformat": 4,
 "nbformat_minor": 5
}
