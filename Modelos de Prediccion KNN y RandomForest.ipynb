{
 "cells": [
  {
   "cell_type": "code",
   "execution_count": null,
   "id": "4401fa53",
   "metadata": {},
   "outputs": [],
   "source": [
    "import pandas as pd # Librería para analizar los datos"
   ]
  },
  {
   "cell_type": "code",
   "execution_count": null,
   "id": "adfe5729",
   "metadata": {},
   "outputs": [],
   "source": [
    "# Carga el archivo CSV\n",
    "data_heartrate_seconds = pd.read_csv(\"Fitabase Data 4.12.16-5.12.16/heartrate_seconds_merged.csv\")\n",
    "print(data_heartrate_seconds.head())"
   ]
  },
  {
   "cell_type": "code",
   "execution_count": null,
   "id": "519b1120",
   "metadata": {},
   "outputs": [],
   "source": [
    "from warnings import simplefilter\n",
    "simplefilter(action='ignore', category=FutureWarning)"
   ]
  },
  {
   "cell_type": "code",
   "execution_count": null,
   "id": "07ad865d",
   "metadata": {},
   "outputs": [],
   "source": [
    "# Muestra el número de valores NaN en cada columna\n",
    "data_heartrate_seconds.isna().sum()"
   ]
  },
  {
   "cell_type": "code",
   "execution_count": null,
   "id": "4aa4ec21",
   "metadata": {},
   "outputs": [],
   "source": [
    "from sklearn.impute import SimpleImputer\n",
    "mode_imputer = SimpleImputer(strategy = 'most_frequent') # moda\n",
    "\n",
    "# Hacer inputación por cada columna\n",
    "for column in data_heartrate_seconds.columns:\n",
    "    values = data_heartrate_seconds[column].values.reshape(-1,1)\n",
    "    mode_imputer.fit(values)\n",
    "    data_heartrate_seconds[column] = mode_imputer.transform(values)\n",
    "\n",
    "# Comprobamos que hayamos eliminadolos atípicos o erroneos.\n",
    "data_heartrate_seconds.isna().sum()"
   ]
  },
  {
   "cell_type": "code",
   "execution_count": null,
   "id": "96322b2b",
   "metadata": {
    "scrolled": true
   },
   "outputs": [],
   "source": [
    "# Convierte la columna de fecha a formato datetime\n",
    "data_heartrate_seconds['Time'] = pd.to_datetime(data_heartrate_seconds['Time'])\n",
    "\n",
    "# Agrupa por ID y fecha redondeada al minuto, calcula la media y reinicia el índice\n",
    "result_df = data_heartrate_seconds.groupby(['Id', pd.Grouper(key='Time', freq='1Min')]).mean().reset_index()\n",
    "\n",
    "# Guarda el resultado en un nuevo archivo CSV\n",
    "result_df.to_csv(\"Fitabase Data 4.12.16-5.12.16/heartrate_minutes_merged.csv\", index=False)\n",
    "\n",
    "print()"
   ]
  },
  {
   "cell_type": "code",
   "execution_count": null,
   "id": "f578c7aa",
   "metadata": {
    "scrolled": true
   },
   "outputs": [],
   "source": [
    "# Carga el archivo CSV\n",
    "data_intensities_minutes = pd.read_csv(\"Fitabase Data 4.12.16-5.12.16/minuteIntensitiesNarrow_merged.csv\")\n",
    "print(data_intensities_minutes.head())\n",
    "# Muestra el número de valores NaN en cada columna\n",
    "data_intensities_minutes.isna().sum()\n",
    "\n",
    "from sklearn.impute import SimpleImputer\n",
    "mode_imputer = SimpleImputer(strategy = 'most_frequent') # moda\n",
    "\n",
    "# Hacer inputación por cada columna\n",
    "for column in data_intensities_minutes.columns:\n",
    "    values = data_intensities_minutes[column].values.reshape(-1,1)\n",
    "    mode_imputer.fit(values)\n",
    "    data_intensities_minutes[column] = mode_imputer.transform(values)\n",
    "\n",
    "# Comprobamos que hayamos eliminadolos atípicos o erroneos.\n",
    "data_intensities_minutes.isna().sum()"
   ]
  },
  {
   "cell_type": "code",
   "execution_count": null,
   "id": "6ebf66c6",
   "metadata": {},
   "outputs": [],
   "source": [
    "# Carga el archivo CSV\n",
    "#data_dailyActivity_merged = pd.read_csv(\"Fitabase Data 4.12.16-5.12.16/dailyActivity_merged.csv\")\n",
    "#print(data_intensities_minutes.head())\n",
    "# Muestra el número de valores NaN en cada columna\n",
    "#data_intensities_minutes.isna().sum()\n",
    "\n",
    "#from sklearn.impute import SimpleImputer\n",
    "#mode_imputer = SimpleImputer(strategy = 'most_frequent') # moda\n",
    "\n",
    "# Hacer inputación por cada columna\n",
    "#for column in data_intensities_minutes.columns:\n",
    " #   values = data_intensities_minutes[column].values.reshape(-1,1)\n",
    "  #  mode_imputer.fit(values)\n",
    "  #  data_intensities_minutes[column] = mode_imputer.transform(values)\n",
    "\n",
    "# Comprobamos que hayamos eliminadolos atípicos o erroneos.\n",
    "#data_intensities_minutes.isna().sum()"
   ]
  },
  {
   "cell_type": "markdown",
   "id": "1dbcff66",
   "metadata": {},
   "source": [
    "Sleep Enum 1->Asleep 2-->Restless 3-->Awake"
   ]
  },
  {
   "cell_type": "code",
   "execution_count": null,
   "id": "99a44c8a",
   "metadata": {},
   "outputs": [],
   "source": [
    "# Carga el archivo CSV\n",
    "data_minutes_sleep = pd.read_csv(\"Fitabase Data 4.12.16-5.12.16/minuteSleep_merged.csv\")\n",
    "print(data_minutes_sleep.head())\n",
    "# Muestra el número de valores NaN en cada columna\n",
    "data_minutes_sleep.isna().sum()\n",
    "\n",
    "from sklearn.impute import SimpleImputer\n",
    "mode_imputer = SimpleImputer(strategy = 'most_frequent') # moda\n",
    "\n",
    "# Hacer inputación por cada columna\n",
    "for column in data_minutes_sleep.columns:\n",
    "    values = data_minutes_sleep[column].values.reshape(-1,1)\n",
    "    mode_imputer.fit(values)\n",
    "    data_minutes_sleep[column] = mode_imputer.transform(values)\n",
    "\n",
    "# Comprobamos que hayamos eliminadolos atípicos o erroneos.\n",
    "data_minutes_sleep.isna().sum()"
   ]
  },
  {
   "cell_type": "code",
   "execution_count": null,
   "id": "a3a1fb25",
   "metadata": {},
   "outputs": [],
   "source": [
    "\n",
    "# Convertir la columna 'date' a tipo datetime\n",
    "data_minutes_sleep['date'] = pd.to_datetime(data_minutes_sleep['date'])\n",
    "\n",
    "# Restar 30 segundos a cada entrada\n",
    "data_minutes_sleep['date'] = data_minutes_sleep['date'] - pd.Timedelta(seconds=30)\n",
    "\n",
    "# Ajustar minutos y segundos a 00\n",
    "data_minutes_sleep['date'] = data_minutes_sleep['date'].dt.floor('T')\n",
    "\n",
    "# Guardar el nuevo dataset en un nuevo archivo CSV\n",
    "#data_minutes_sleep.to_csv(\"minuteSleep_merged.csv\", index=False)\n",
    "\n",
    "# Elimina la columna 'LogId'\n",
    "data_minutes_sleep = data_minutes_sleep.drop(columns=['logId'])\n",
    "\n",
    "# Guarda el DataFrame modificado de nuevo en el archivo CSV original\n",
    "data_minutes_sleep.to_csv(\"minuteSleep_merged.csv\", index=False)\n",
    "\n",
    "print(\"La columna 'LogId' se ha eliminado exitosamente.\")\n",
    "\n"
   ]
  },
  {
   "cell_type": "code",
   "execution_count": null,
   "id": "123a34c5",
   "metadata": {},
   "outputs": [],
   "source": [
    "print(data_minutes_sleep)"
   ]
  },
  {
   "cell_type": "markdown",
   "id": "dcfa2b9a",
   "metadata": {},
   "source": [
    "A continuacion imprimeros todos los dataset, leidos hasta el momento"
   ]
  },
  {
   "cell_type": "code",
   "execution_count": null,
   "id": "bcc4acf2",
   "metadata": {},
   "outputs": [],
   "source": [
    "#cambiar el nombre de la variable data del csv heartrate por uno mas explicativo\n",
    "print(\"Ahora imprimeros la pulsaciones por minito (heartrate_seconds_merged.csv.csv) \\n\")\n",
    "print(result_df.head())\n",
    "\n",
    "print(\"\\n\")\n",
    "\n",
    "print(\"Ahora imprimeros las intensidades por minuto (data_intensities_minutes.csv) \\n\")\n",
    "print(data_intensities_minutes.head())\n",
    "\n",
    "print(\"\\n\")\n",
    "print(\"Ahora imprimeros la cabecera de (minuteSleep_merged.csv)\")\n",
    "print(data_minutes_sleep.head())\n"
   ]
  },
  {
   "cell_type": "code",
   "execution_count": null,
   "id": "26b60ee2",
   "metadata": {},
   "outputs": [],
   "source": [
    "# Convertir la columna 'Time' a tipo datetime en data_intensities_minutes\n",
    "data_intensities_minutes['ActivityMinute'] = pd.to_datetime(data_intensities_minutes['ActivityMinute'])\n",
    "\n",
    "# Fusionar los DataFrames utilizando 'Id' y 'Time'\n",
    "merged_df = pd.merge(result_df, data_intensities_minutes, left_on=['Id', 'Time'], right_on=['Id', 'ActivityMinute'])\n",
    "\n",
    "# Seleccionar las columnas deseadas y renombrarlas\n",
    "result_df = merged_df[['Id', 'Time', 'Value', 'Intensity']]\n",
    "result_df.columns = ['Id', 'Time', 'HeartRate', 'Intensity']\n",
    "\n",
    "# Imprimir las pulsaciones por minuto\n",
    "print(\"Pulsaciones por minuto:\")\n",
    "print(result_df[['Id', 'Time', 'HeartRate']])\n",
    "\n",
    "# Imprimir las intensidades por minuto\n",
    "print(\"\\nIntensidades por minuto:\")\n",
    "print(result_df[['Id', 'Time', 'Intensity']])"
   ]
  },
  {
   "cell_type": "code",
   "execution_count": null,
   "id": "4405dc43",
   "metadata": {},
   "outputs": [],
   "source": [
    "# Guardar el nuevo dataset en un nuevo archivo CSV\n",
    "result_df.to_csv(\"Fitabase Data 4.12.16-5.12.16/test_train_data.csv\", index=False)"
   ]
  },
  {
   "cell_type": "code",
   "execution_count": null,
   "id": "a005e9cc",
   "metadata": {},
   "outputs": [],
   "source": [
    "data_minutes_sleep.isna().sum()"
   ]
  },
  {
   "cell_type": "markdown",
   "id": "4de56cdc",
   "metadata": {},
   "source": [
    "A continuación, procederemos con el entrenamiento del los distintos modelos utilizados:"
   ]
  },
  {
   "cell_type": "code",
   "execution_count": null,
   "metadata": {},
   "outputs": [],
   "source": [
    "from sklearn.ensemble import RandomForestRegressor\n",
    "from sklearn.model_selection import train_test_split\n",
    "from sklearn.preprocessing import OneHotEncoder\n",
    "from sklearn.compose import ColumnTransformer\n",
    "from sklearn.pipeline import Pipeline\n",
    "\n",
    "# Extraemos características de la columna 'Time'\n",
    "result_df['Hour'] = result_df['Time'].dt.hour\n",
    "result_df['Weekday'] = result_df['Time'].dt.weekday\n",
    "\n",
    "# Definir las características y la variable objetivo\n",
    "features = ['Id', 'Hour', 'Weekday', 'Intensity']\n",
    "target = 'HeartRate'\n",
    "\n",
    "# Separar las características y la variable objetivo\n",
    "X = result_df[features]\n",
    "y = result_df[target]\n",
    "\n",
    "# Dividir los datos en conjuntos de entrenamiento y prueba\n",
    "X_train, X_test, y_train, y_test = train_test_split(X, y, test_size=0.3, random_state=11101)\n",
    "\n",
    "# Crear un transformador para manejar las variables categoricas\n",
    "categorical_features = ['Id']\n",
    "numeric_features = ['Hour', 'Weekday', 'Intensity']\n",
    "\n",
    "preprocessor = ColumnTransformer(\n",
    "    transformers=[\n",
    "        ('num', 'passthrough', numeric_features),\n",
    "        ('cat', OneHotEncoder(), categorical_features)\n",
    "    ])\n",
    "\n",
    "# Crear el modelo de Random Forest\n",
    "model = RandomForestRegressor(n_estimators=100, random_state=11101)\n",
    "\n",
    "# Crear el pipeline que combina el preprocesamiento y el modelo\n",
    "pipeline = Pipeline([\n",
    "    ('preprocessor', preprocessor),\n",
    "    ('model', model)\n",
    "])\n",
    "\n",
    "# Entrenar el modelo\n",
    "pipeline.fit(X_train, y_train)\n",
    "\n",
    "# Evaluar el modelo en el conjunto de prueba\n",
    "score = pipeline.score(X_test, y_test)\n",
    "\n",
    "print(f'R2 Score on Test Set: {score}')\n",
    "\n"
   ]
  }
 ],
 "metadata": {
  "kernelspec": {
   "display_name": "Python 3 (ipykernel)",
   "language": "python",
   "name": "python3"
  },
  "language_info": {
   "codemirror_mode": {
    "name": "ipython",
    "version": 3
   },
   "file_extension": ".py",
   "mimetype": "text/x-python",
   "name": "python",
   "nbconvert_exporter": "python",
   "pygments_lexer": "ipython3",
   "version": "3.9.13"
  }
 },
 "nbformat": 4,
 "nbformat_minor": 5
}
