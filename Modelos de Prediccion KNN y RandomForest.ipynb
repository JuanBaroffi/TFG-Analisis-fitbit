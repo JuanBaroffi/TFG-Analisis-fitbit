{
 "cells": [
  {
   "cell_type": "code",
   "execution_count": 11,
   "id": "4401fa53",
   "metadata": {},
   "outputs": [],
   "source": [
    "import pandas as pd # Librería para analizar los datos"
   ]
  },
  {
   "cell_type": "code",
   "execution_count": 12,
   "id": "adfe5729",
   "metadata": {},
   "outputs": [
    {
     "name": "stdout",
     "output_type": "stream",
     "text": [
      "           Id                  Time  Value\n",
      "0  2022484408  4/12/2016 7:21:00 AM     97\n",
      "1  2022484408  4/12/2016 7:21:05 AM    102\n",
      "2  2022484408  4/12/2016 7:21:10 AM    105\n",
      "3  2022484408  4/12/2016 7:21:20 AM    103\n",
      "4  2022484408  4/12/2016 7:21:25 AM    101\n"
     ]
    }
   ],
   "source": [
    "# Carga el archivo CSV\n",
    "data = pd.read_csv(\"Fitabase Data 4.12.16-5.12.16/heartrate_seconds_merged.csv\")\n",
    "print(data.head())"
   ]
  },
  {
   "cell_type": "code",
   "execution_count": 13,
   "id": "519b1120",
   "metadata": {},
   "outputs": [],
   "source": [
    "from warnings import simplefilter\n",
    "simplefilter(action='ignore', category=FutureWarning)"
   ]
  },
  {
   "cell_type": "code",
   "execution_count": 14,
   "id": "07ad865d",
   "metadata": {},
   "outputs": [
    {
     "data": {
      "text/plain": [
       "Id       0\n",
       "Time     0\n",
       "Value    0\n",
       "dtype: int64"
      ]
     },
     "execution_count": 14,
     "metadata": {},
     "output_type": "execute_result"
    }
   ],
   "source": [
    "# Muestra el número de valores NaN en cada columna\n",
    "data.isna().sum()"
   ]
  },
  {
   "cell_type": "code",
   "execution_count": 15,
   "id": "4aa4ec21",
   "metadata": {},
   "outputs": [
    {
     "data": {
      "text/plain": [
       "Id       0\n",
       "Time     0\n",
       "Value    0\n",
       "dtype: int64"
      ]
     },
     "execution_count": 15,
     "metadata": {},
     "output_type": "execute_result"
    }
   ],
   "source": [
    "from sklearn.impute import SimpleImputer\n",
    "mode_imputer = SimpleImputer(strategy = 'most_frequent') # moda\n",
    "\n",
    "# Hacer inputación por cada columna\n",
    "for column in data.columns:\n",
    "    values = data[column].values.reshape(-1,1)\n",
    "    mode_imputer.fit(values)\n",
    "    data[column] = mode_imputer.transform(values)\n",
    "\n",
    "# Comprobamos que hayamos eliminadolos atípicos o erroneos.\n",
    "data.isna().sum()"
   ]
  },
  {
   "cell_type": "code",
   "execution_count": 16,
   "id": "96322b2b",
   "metadata": {
    "scrolled": true
   },
   "outputs": [
    {
     "name": "stdout",
     "output_type": "stream",
     "text": [
      "\n"
     ]
    }
   ],
   "source": [
    "import pandas as pd\n",
    "\n",
    "# Carga el archivo CSV\n",
    "df = pd.read_csv(\"Fitabase Data 4.12.16-5.12.16/heartrate_seconds_merged.csv\")\n",
    "\n",
    "# Convierte la columna de fecha a formato datetime\n",
    "df['Time'] = pd.to_datetime(df['Time'])\n",
    "\n",
    "# Agrupa por ID y fecha redondeada al minuto, calcula la media y reinicia el índice\n",
    "result_df = df.groupby(['Id', pd.Grouper(key='Time', freq='1Min')]).mean().reset_index()\n",
    "\n",
    "# Guarda el resultado en un nuevo archivo CSV\n",
    "result_df.to_csv(\"Fitabase Data 4.12.16-5.12.16/heartrate_minutes_merged.csv\", index=False)\n",
    "\n",
    "print()"
   ]
  },
  {
   "cell_type": "code",
   "execution_count": 18,
   "id": "f578c7aa",
   "metadata": {
    "scrolled": true
   },
   "outputs": [
    {
     "name": "stdout",
     "output_type": "stream",
     "text": [
      "           Id         ActivityMinute  Intensity\n",
      "0  1503960366  4/12/2016 12:00:00 AM          0\n",
      "1  1503960366  4/12/2016 12:01:00 AM          0\n",
      "2  1503960366  4/12/2016 12:02:00 AM          0\n",
      "3  1503960366  4/12/2016 12:03:00 AM          0\n",
      "4  1503960366  4/12/2016 12:04:00 AM          0\n"
     ]
    },
    {
     "data": {
      "text/plain": [
       "Id                0\n",
       "ActivityMinute    0\n",
       "Intensity         0\n",
       "dtype: int64"
      ]
     },
     "execution_count": 18,
     "metadata": {},
     "output_type": "execute_result"
    }
   ],
   "source": [
    "# Carga el archivo CSV\n",
    "data_intensities_minutes = pd.read_csv(\"Fitabase Data 4.12.16-5.12.16/minuteIntensitiesNarrow_merged.csv\")\n",
    "print(data_intensities_minutes.head())\n",
    "# Muestra el número de valores NaN en cada columna\n",
    "data_intensities_minutes.isna().sum()\n",
    "\n",
    "from sklearn.impute import SimpleImputer\n",
    "mode_imputer = SimpleImputer(strategy = 'most_frequent') # moda\n",
    "\n",
    "# Hacer inputación por cada columna\n",
    "for column in data_intensities_minutes.columns:\n",
    "    values = data_intensities_minutes[column].values.reshape(-1,1)\n",
    "    mode_imputer.fit(values)\n",
    "    data_intensities_minutes[column] = mode_imputer.transform(values)\n",
    "\n",
    "# Comprobamos que hayamos eliminadolos atípicos o erroneos.\n",
    "data_intensities_minutes.isna().sum()"
   ]
  },
  {
   "cell_type": "code",
   "execution_count": 19,
   "id": "6ebf66c6",
   "metadata": {},
   "outputs": [
    {
     "name": "stdout",
     "output_type": "stream",
     "text": [
      "           Id         ActivityMinute  Intensity\n",
      "0  1503960366  4/12/2016 12:00:00 AM          0\n",
      "1  1503960366  4/12/2016 12:01:00 AM          0\n",
      "2  1503960366  4/12/2016 12:02:00 AM          0\n",
      "3  1503960366  4/12/2016 12:03:00 AM          0\n",
      "4  1503960366  4/12/2016 12:04:00 AM          0\n"
     ]
    },
    {
     "data": {
      "text/plain": [
       "Id                0\n",
       "ActivityMinute    0\n",
       "Intensity         0\n",
       "dtype: int64"
      ]
     },
     "execution_count": 19,
     "metadata": {},
     "output_type": "execute_result"
    }
   ],
   "source": [
    "# Carga el archivo CSV\n",
    "#data_dailyActivity_merged = pd.read_csv(\"Fitabase Data 4.12.16-5.12.16/dailyActivity_merged.csv\")\n",
    "#print(data_intensities_minutes.head())\n",
    "# Muestra el número de valores NaN en cada columna\n",
    "#data_intensities_minutes.isna().sum()\n",
    "\n",
    "#from sklearn.impute import SimpleImputer\n",
    "#mode_imputer = SimpleImputer(strategy = 'most_frequent') # moda\n",
    "\n",
    "# Hacer inputación por cada columna\n",
    "#for column in data_intensities_minutes.columns:\n",
    " #   values = data_intensities_minutes[column].values.reshape(-1,1)\n",
    "  #  mode_imputer.fit(values)\n",
    "  #  data_intensities_minutes[column] = mode_imputer.transform(values)\n",
    "\n",
    "# Comprobamos que hayamos eliminadolos atípicos o erroneos.\n",
    "#data_intensities_minutes.isna().sum()"
   ]
  },
  {
   "cell_type": "markdown",
   "id": "1dbcff66",
   "metadata": {},
   "source": [
    "Sleep Enum 1->Asleep 2-->Restless 3-->Awake"
   ]
  },
  {
   "cell_type": "code",
   "execution_count": 20,
   "id": "99a44c8a",
   "metadata": {},
   "outputs": [
    {
     "name": "stdout",
     "output_type": "stream",
     "text": [
      "           Id                  date  value        logId\n",
      "0  1503960366  4/12/2016 2:47:30 AM      3  11380564589\n",
      "1  1503960366  4/12/2016 2:48:30 AM      2  11380564589\n",
      "2  1503960366  4/12/2016 2:49:30 AM      1  11380564589\n",
      "3  1503960366  4/12/2016 2:50:30 AM      1  11380564589\n",
      "4  1503960366  4/12/2016 2:51:30 AM      1  11380564589\n"
     ]
    },
    {
     "data": {
      "text/plain": [
       "Id       0\n",
       "date     0\n",
       "value    0\n",
       "logId    0\n",
       "dtype: int64"
      ]
     },
     "execution_count": 20,
     "metadata": {},
     "output_type": "execute_result"
    }
   ],
   "source": [
    "# Carga el archivo CSV\n",
    "data_minutes_sleep = pd.read_csv(\"Fitabase Data 4.12.16-5.12.16/minuteSleep_merged.csv\")\n",
    "print(data_minutes_sleep.head())\n",
    "# Muestra el número de valores NaN en cada columna\n",
    "data_minutes_sleep.isna().sum()\n",
    "\n",
    "from sklearn.impute import SimpleImputer\n",
    "mode_imputer = SimpleImputer(strategy = 'most_frequent') # moda\n",
    "\n",
    "# Hacer inputación por cada columna\n",
    "for column in data_minutes_sleep.columns:\n",
    "    values = data_minutes_sleep[column].values.reshape(-1,1)\n",
    "    mode_imputer.fit(values)\n",
    "    data_minutes_sleep[column] = mode_imputer.transform(values)\n",
    "\n",
    "# Comprobamos que hayamos eliminadolos atípicos o erroneos.\n",
    "data_minutes_sleep.isna().sum()"
   ]
  },
  {
   "cell_type": "code",
   "execution_count": null,
   "id": "a3a1fb25",
   "metadata": {},
   "outputs": [],
   "source": []
  }
 ],
 "metadata": {
  "kernelspec": {
   "display_name": "Python 3 (ipykernel)",
   "language": "python",
   "name": "python3"
  },
  "language_info": {
   "codemirror_mode": {
    "name": "ipython",
    "version": 3
   },
   "file_extension": ".py",
   "mimetype": "text/x-python",
   "name": "python",
   "nbconvert_exporter": "python",
   "pygments_lexer": "ipython3",
   "version": "3.9.13"
  }
 },
 "nbformat": 4,
 "nbformat_minor": 5
}
