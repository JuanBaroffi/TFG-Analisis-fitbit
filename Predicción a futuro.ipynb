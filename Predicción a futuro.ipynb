{
 "cells": [
  {
   "cell_type": "code",
   "execution_count": 1,
   "id": "1e39089e",
   "metadata": {},
   "outputs": [],
   "source": [
    "import numpy as np"
   ]
  },
  {
   "cell_type": "code",
   "execution_count": 2,
   "id": "2be0024a",
   "metadata": {},
   "outputs": [
    {
     "name": "stdout",
     "output_type": "stream",
     "text": [
      "Requirement already satisfied: skforecast in c:\\users\\34634\\anaconda3\\lib\\site-packages (0.11.0)\n",
      "Requirement already satisfied: scikit-learn<1.4,>=1.0 in c:\\users\\34634\\anaconda3\\lib\\site-packages (from skforecast) (1.0.2)\n",
      "Requirement already satisfied: joblib<1.4,>=1.1.0 in c:\\users\\34634\\anaconda3\\lib\\site-packages (from skforecast) (1.1.0)\n",
      "Requirement already satisfied: pandas<2.2,>=1.2 in c:\\users\\34634\\anaconda3\\lib\\site-packages (from skforecast) (2.1.4)\n",
      "Requirement already satisfied: optuna<3.5,>=2.10.0 in c:\\users\\34634\\anaconda3\\lib\\site-packages (from skforecast) (3.4.0)\n",
      "Requirement already satisfied: numpy<1.27,>=1.20 in c:\\users\\34634\\anaconda3\\lib\\site-packages (from skforecast) (1.24.4)\n",
      "Requirement already satisfied: tqdm<4.67,>=4.57.0 in c:\\users\\34634\\anaconda3\\lib\\site-packages (from skforecast) (4.64.1)\n",
      "Requirement already satisfied: PyYAML in c:\\users\\34634\\anaconda3\\lib\\site-packages (from optuna<3.5,>=2.10.0->skforecast) (6.0)\n",
      "Requirement already satisfied: packaging>=20.0 in c:\\users\\34634\\anaconda3\\lib\\site-packages (from optuna<3.5,>=2.10.0->skforecast) (21.3)\n",
      "Requirement already satisfied: alembic>=1.5.0 in c:\\users\\34634\\anaconda3\\lib\\site-packages (from optuna<3.5,>=2.10.0->skforecast) (1.13.1)\n",
      "Requirement already satisfied: sqlalchemy>=1.3.0 in c:\\users\\34634\\anaconda3\\lib\\site-packages (from optuna<3.5,>=2.10.0->skforecast) (1.4.39)\n",
      "Requirement already satisfied: colorlog in c:\\users\\34634\\anaconda3\\lib\\site-packages (from optuna<3.5,>=2.10.0->skforecast) (6.8.2)\n",
      "Requirement already satisfied: tzdata>=2022.1 in c:\\users\\34634\\anaconda3\\lib\\site-packages (from pandas<2.2,>=1.2->skforecast) (2024.1)\n",
      "Requirement already satisfied: pytz>=2020.1 in c:\\users\\34634\\anaconda3\\lib\\site-packages (from pandas<2.2,>=1.2->skforecast) (2022.1)\n",
      "Requirement already satisfied: python-dateutil>=2.8.2 in c:\\users\\34634\\anaconda3\\lib\\site-packages (from pandas<2.2,>=1.2->skforecast) (2.8.2)\n",
      "Requirement already satisfied: scipy>=1.1.0 in c:\\users\\34634\\anaconda3\\lib\\site-packages (from scikit-learn<1.4,>=1.0->skforecast) (1.9.1)\n",
      "Requirement already satisfied: threadpoolctl>=2.0.0 in c:\\users\\34634\\anaconda3\\lib\\site-packages (from scikit-learn<1.4,>=1.0->skforecast) (2.2.0)\n",
      "Requirement already satisfied: colorama in c:\\users\\34634\\anaconda3\\lib\\site-packages (from tqdm<4.67,>=4.57.0->skforecast) (0.4.5)\n",
      "Requirement already satisfied: typing-extensions>=4 in c:\\users\\34634\\anaconda3\\lib\\site-packages (from alembic>=1.5.0->optuna<3.5,>=2.10.0->skforecast) (4.3.0)\n",
      "Requirement already satisfied: Mako in c:\\users\\34634\\anaconda3\\lib\\site-packages (from alembic>=1.5.0->optuna<3.5,>=2.10.0->skforecast) (1.3.3)\n",
      "Requirement already satisfied: pyparsing!=3.0.5,>=2.0.2 in c:\\users\\34634\\anaconda3\\lib\\site-packages (from packaging>=20.0->optuna<3.5,>=2.10.0->skforecast) (3.0.9)\n",
      "Requirement already satisfied: six>=1.5 in c:\\users\\34634\\anaconda3\\lib\\site-packages (from python-dateutil>=2.8.2->pandas<2.2,>=1.2->skforecast) (1.16.0)\n",
      "Requirement already satisfied: greenlet!=0.4.17 in c:\\users\\34634\\anaconda3\\lib\\site-packages (from sqlalchemy>=1.3.0->optuna<3.5,>=2.10.0->skforecast) (1.1.1)\n",
      "Requirement already satisfied: MarkupSafe>=0.9.2 in c:\\users\\34634\\anaconda3\\lib\\site-packages (from Mako->alembic>=1.5.0->optuna<3.5,>=2.10.0->skforecast) (2.0.1)\n",
      "Requirement already satisfied: dask[dataframe] in c:\\users\\34634\\anaconda3\\lib\\site-packages (2024.4.2)\n",
      "Requirement already satisfied: click>=8.1 in c:\\users\\34634\\anaconda3\\lib\\site-packages (from dask[dataframe]) (8.1.7)\n",
      "Requirement already satisfied: pyyaml>=5.3.1 in c:\\users\\34634\\anaconda3\\lib\\site-packages (from dask[dataframe]) (6.0)\n",
      "Requirement already satisfied: toolz>=0.10.0 in c:\\users\\34634\\anaconda3\\lib\\site-packages (from dask[dataframe]) (0.11.2)\n",
      "Requirement already satisfied: cloudpickle>=1.5.0 in c:\\users\\34634\\anaconda3\\lib\\site-packages (from dask[dataframe]) (2.0.0)\n",
      "Requirement already satisfied: fsspec>=2021.09.0 in c:\\users\\34634\\anaconda3\\lib\\site-packages (from dask[dataframe]) (2022.7.1)\n",
      "Requirement already satisfied: importlib-metadata>=4.13.0 in c:\\users\\34634\\anaconda3\\lib\\site-packages (from dask[dataframe]) (7.0.2)\n",
      "Requirement already satisfied: packaging>=20.0 in c:\\users\\34634\\anaconda3\\lib\\site-packages (from dask[dataframe]) (21.3)\n",
      "Requirement already satisfied: partd>=1.2.0 in c:\\users\\34634\\anaconda3\\lib\\site-packages (from dask[dataframe]) (1.2.0)\n",
      "Requirement already satisfied: pandas>=1.3 in c:\\users\\34634\\anaconda3\\lib\\site-packages (from dask[dataframe]) (2.1.4)\n",
      "Requirement already satisfied: dask-expr<1.1,>=1.0 in c:\\users\\34634\\anaconda3\\lib\\site-packages (from dask[dataframe]) (1.0.12)\n",
      "Requirement already satisfied: colorama in c:\\users\\34634\\anaconda3\\lib\\site-packages (from click>=8.1->dask[dataframe]) (0.4.5)\n",
      "Requirement already satisfied: pyarrow>=7.0.0 in c:\\users\\34634\\anaconda3\\lib\\site-packages (from dask-expr<1.1,>=1.0->dask[dataframe]) (15.0.0)\n",
      "Requirement already satisfied: zipp>=0.5 in c:\\users\\34634\\anaconda3\\lib\\site-packages (from importlib-metadata>=4.13.0->dask[dataframe]) (3.8.0)\n",
      "Requirement already satisfied: pyparsing!=3.0.5,>=2.0.2 in c:\\users\\34634\\anaconda3\\lib\\site-packages (from packaging>=20.0->dask[dataframe]) (3.0.9)\n",
      "Requirement already satisfied: pytz>=2020.1 in c:\\users\\34634\\anaconda3\\lib\\site-packages (from pandas>=1.3->dask[dataframe]) (2022.1)\n",
      "Requirement already satisfied: tzdata>=2022.1 in c:\\users\\34634\\anaconda3\\lib\\site-packages (from pandas>=1.3->dask[dataframe]) (2024.1)\n",
      "Requirement already satisfied: python-dateutil>=2.8.2 in c:\\users\\34634\\anaconda3\\lib\\site-packages (from pandas>=1.3->dask[dataframe]) (2.8.2)\n",
      "Requirement already satisfied: numpy<2,>=1.22.4 in c:\\users\\34634\\anaconda3\\lib\\site-packages (from pandas>=1.3->dask[dataframe]) (1.24.4)\n",
      "Requirement already satisfied: locket in c:\\users\\34634\\anaconda3\\lib\\site-packages (from partd>=1.2.0->dask[dataframe]) (1.0.0)\n",
      "Requirement already satisfied: six>=1.5 in c:\\users\\34634\\anaconda3\\lib\\site-packages (from python-dateutil>=2.8.2->pandas>=1.3->dask[dataframe]) (1.16.0)\n"
     ]
    }
   ],
   "source": [
    "!pip install skforecast\n",
    "!pip install dask[dataframe]"
   ]
  },
  {
   "cell_type": "code",
   "execution_count": 3,
   "id": "011df590",
   "metadata": {},
   "outputs": [],
   "source": [
    "import pandas as pd\n",
    "import lightgbm as lgb\n",
    "import joblib\n",
    "import matplotlib.pyplot as plt\n",
    "import warnings\n",
    "\n",
    "plt.style.use('fivethirtyeight')\n",
    "plt.rcParams['lines.linewidth'] = 1.5\n",
    "plt.rcParams['font.size'] = 10\n",
    "\n",
    "from skforecast.ForecasterAutoreg import ForecasterAutoreg\n",
    "from skforecast.ForecasterAutoregCustom import ForecasterAutoregCustom\n",
    "from skforecast.ForecasterAutoregDirect import ForecasterAutoregDirect\n",
    "from skforecast.model_selection import grid_search_forecaster\n",
    "from skforecast.model_selection import backtesting_forecaster\n",
    "from skforecast.utils import save_forecaster\n",
    "from skforecast.utils import load_forecaster\n",
    "from skforecast.datasets import fetch_dataset\n",
    "\n",
    "warnings.filterwarnings('once')"
   ]
  },
  {
   "cell_type": "code",
   "execution_count": 4,
   "id": "0fdf0880",
   "metadata": {},
   "outputs": [],
   "source": [
    "model = joblib.load('ML models/LightGBM_ML.pkl')"
   ]
  },
  {
   "cell_type": "code",
   "execution_count": 5,
   "id": "93489ed5",
   "metadata": {},
   "outputs": [
    {
     "name": "stdout",
     "output_type": "stream",
     "text": [
      "Archivo : test_train_data.csv\n",
      "                Id                 Time   HeartRate  Intensity  Calories\n",
      "0       2022484408  2016-04-12 07:21:00  101.600000          1   3.32064\n",
      "1       2022484408  2016-04-12 07:22:00   87.888889          1   3.94326\n",
      "2       2022484408  2016-04-12 07:23:00   58.000000          0   1.34901\n",
      "3       2022484408  2016-04-12 07:24:00   58.000000          0   1.03770\n",
      "4       2022484408  2016-04-12 07:25:00   56.777778          0   1.03770\n",
      "...            ...                  ...         ...        ...       ...\n",
      "333141  8877689391  2016-05-12 13:55:00   60.666667          0   1.33353\n",
      "333142  8877689391  2016-05-12 13:56:00   61.875000          0   1.33353\n",
      "333143  8877689391  2016-05-12 13:57:00   58.142857          0   1.33353\n",
      "333144  8877689391  2016-05-12 13:58:00   61.200000          0   1.33353\n",
      "333145  8877689391  2016-05-12 13:59:00   58.000000          0   1.33353\n",
      "\n",
      "[333146 rows x 5 columns]\n",
      "\n",
      "\n",
      "Archivo : test_train_data_api_merged.csv\n",
      "           Id                 Time  Calories  Distance  Steps  HeartRate\n",
      "0      BSGSML  2024-02-01 00:00:00   1.30950    0.0000    0.0        NaN\n",
      "1      BSGSML  2024-02-01 00:01:00   1.30950    0.0000    0.0        NaN\n",
      "2      BSGSML  2024-02-01 00:02:00   1.30950    0.0000    0.0        NaN\n",
      "3      BSGSML  2024-02-01 00:03:00   1.30950    0.0000    0.0        NaN\n",
      "4      BSGSML  2024-02-01 00:04:00   1.30950    0.0000    0.0        NaN\n",
      "...       ...                  ...       ...       ...    ...        ...\n",
      "86395  BSGSML  2024-03-31 23:55:00   1.44144    0.0000    NaN       66.0\n",
      "86396  BSGSML  2024-03-31 23:56:00   1.31040    0.0000    NaN       61.0\n",
      "86397  BSGSML  2024-03-31 23:57:00   1.44144    0.0000    NaN       61.0\n",
      "86398  BSGSML  2024-03-31 23:58:00   1.70352    0.0000    NaN       70.0\n",
      "86399  BSGSML  2024-03-31 23:59:00   3.40704    0.0059    NaN       71.0\n",
      "\n",
      "[86400 rows x 6 columns]\n"
     ]
    }
   ],
   "source": [
    "old_data = pd.read_csv('Fitabase Data 4.12.16-5.12.16/test_train_data.csv')\n",
    "data = pd.read_csv('FitBit API Database/test_train_data_api_merged.csv')\n",
    "\n",
    "print(\"Archivo : test_train_data.csv\")\n",
    "print(old_data)\n",
    "print(\"\\n\")\n",
    "print(\"Archivo : test_train_data_api_merged.csv\")\n",
    "print(data)\n",
    "\n"
   ]
  },
  {
   "cell_type": "code",
   "execution_count": 6,
   "id": "795bf49c",
   "metadata": {},
   "outputs": [],
   "source": [
    "for column in data.columns:\n",
    "    # Verificar si la columna tiene valores NaN\n",
    "    if data[column].isna().any():\n",
    "        # Realizar un dropna en la columna si hay valores NaN\n",
    "        data = data.dropna(subset=[column])\n"
   ]
  },
  {
   "cell_type": "code",
   "execution_count": 7,
   "id": "0d175f24",
   "metadata": {},
   "outputs": [
    {
     "data": {
      "text/plain": [
       "Id           0\n",
       "Time         0\n",
       "Calories     0\n",
       "Distance     0\n",
       "Steps        0\n",
       "HeartRate    0\n",
       "dtype: int64"
      ]
     },
     "execution_count": 7,
     "metadata": {},
     "output_type": "execute_result"
    }
   ],
   "source": [
    "#Comprobamos los valores NaN de cada columna\n",
    "data.isna().sum()"
   ]
  },
  {
   "cell_type": "code",
   "execution_count": 8,
   "id": "6d38c03e",
   "metadata": {},
   "outputs": [
    {
     "name": "stdout",
     "output_type": "stream",
     "text": [
      "           Id                 Time  Calories  Distance  Steps  HeartRate\n",
      "21253  BSGSML  2024-02-15 18:13:00   1.30970       0.0    0.0       57.0\n",
      "21254  BSGSML  2024-02-15 18:14:00   1.44067       0.0    0.0       58.0\n",
      "21255  BSGSML  2024-02-15 18:15:00   1.44067       0.0    0.0       63.0\n",
      "21256  BSGSML  2024-02-15 18:16:00   1.30970       0.0    0.0       58.0\n",
      "21257  BSGSML  2024-02-15 18:17:00   1.44067       0.0    0.0       57.0\n",
      "...       ...                  ...       ...       ...    ...        ...\n",
      "83515  BSGSML  2024-03-29 23:55:00   1.57248       0.0    0.0       67.0\n",
      "83516  BSGSML  2024-03-29 23:56:00   1.57248       0.0    0.0       67.0\n",
      "83517  BSGSML  2024-03-29 23:57:00   1.57248       0.0    0.0       67.0\n",
      "83518  BSGSML  2024-03-29 23:58:00   1.57248       0.0    0.0       66.0\n",
      "83519  BSGSML  2024-03-29 23:59:00   1.57248       0.0    0.0       65.0\n",
      "\n",
      "[61232 rows x 6 columns]\n"
     ]
    }
   ],
   "source": [
    "archivo_final = \"FitBit API Database/test_train_data_api_merged.csv\"\n",
    "data = data.dropna(subset=['HeartRate'])\n",
    "data = data.dropna(subset=['Steps'])\n",
    "\n",
    "print(data)\n",
    "data.to_csv(archivo_final, index=False)"
   ]
  },
  {
   "cell_type": "code",
   "execution_count": 9,
   "id": "b2afe646",
   "metadata": {},
   "outputs": [
    {
     "name": "stdout",
     "output_type": "stream",
     "text": [
      "Número de filas con missing values: 0.0\n"
     ]
    }
   ],
   "source": [
    "print(f'Número de filas con missing values: {data.isnull().any(axis=1).mean()}')"
   ]
  },
  {
   "cell_type": "code",
   "execution_count": 10,
   "id": "33af827b",
   "metadata": {},
   "outputs": [
    {
     "data": {
      "text/html": [
       "<div>\n",
       "<style scoped>\n",
       "    .dataframe tbody tr th:only-of-type {\n",
       "        vertical-align: middle;\n",
       "    }\n",
       "\n",
       "    .dataframe tbody tr th {\n",
       "        vertical-align: top;\n",
       "    }\n",
       "\n",
       "    .dataframe thead th {\n",
       "        text-align: right;\n",
       "    }\n",
       "</style>\n",
       "<table border=\"1\" class=\"dataframe\">\n",
       "  <thead>\n",
       "    <tr style=\"text-align: right;\">\n",
       "      <th></th>\n",
       "      <th>Id</th>\n",
       "      <th>Calories</th>\n",
       "      <th>Distance</th>\n",
       "      <th>Steps</th>\n",
       "      <th>HeartRate</th>\n",
       "    </tr>\n",
       "    <tr>\n",
       "      <th>Time</th>\n",
       "      <th></th>\n",
       "      <th></th>\n",
       "      <th></th>\n",
       "      <th></th>\n",
       "      <th></th>\n",
       "    </tr>\n",
       "  </thead>\n",
       "  <tbody>\n",
       "    <tr>\n",
       "      <th>2024-02-15 18:13:00</th>\n",
       "      <td>BSGSML</td>\n",
       "      <td>1.30970</td>\n",
       "      <td>0.0</td>\n",
       "      <td>0.0</td>\n",
       "      <td>57.0</td>\n",
       "    </tr>\n",
       "    <tr>\n",
       "      <th>2024-02-15 18:14:00</th>\n",
       "      <td>BSGSML</td>\n",
       "      <td>1.44067</td>\n",
       "      <td>0.0</td>\n",
       "      <td>0.0</td>\n",
       "      <td>58.0</td>\n",
       "    </tr>\n",
       "    <tr>\n",
       "      <th>2024-02-15 18:15:00</th>\n",
       "      <td>BSGSML</td>\n",
       "      <td>1.44067</td>\n",
       "      <td>0.0</td>\n",
       "      <td>0.0</td>\n",
       "      <td>63.0</td>\n",
       "    </tr>\n",
       "    <tr>\n",
       "      <th>2024-02-15 18:16:00</th>\n",
       "      <td>BSGSML</td>\n",
       "      <td>1.30970</td>\n",
       "      <td>0.0</td>\n",
       "      <td>0.0</td>\n",
       "      <td>58.0</td>\n",
       "    </tr>\n",
       "    <tr>\n",
       "      <th>2024-02-15 18:17:00</th>\n",
       "      <td>BSGSML</td>\n",
       "      <td>1.44067</td>\n",
       "      <td>0.0</td>\n",
       "      <td>0.0</td>\n",
       "      <td>57.0</td>\n",
       "    </tr>\n",
       "    <tr>\n",
       "      <th>...</th>\n",
       "      <td>...</td>\n",
       "      <td>...</td>\n",
       "      <td>...</td>\n",
       "      <td>...</td>\n",
       "      <td>...</td>\n",
       "    </tr>\n",
       "    <tr>\n",
       "      <th>2024-03-29 23:55:00</th>\n",
       "      <td>BSGSML</td>\n",
       "      <td>1.57248</td>\n",
       "      <td>0.0</td>\n",
       "      <td>0.0</td>\n",
       "      <td>67.0</td>\n",
       "    </tr>\n",
       "    <tr>\n",
       "      <th>2024-03-29 23:56:00</th>\n",
       "      <td>BSGSML</td>\n",
       "      <td>1.57248</td>\n",
       "      <td>0.0</td>\n",
       "      <td>0.0</td>\n",
       "      <td>67.0</td>\n",
       "    </tr>\n",
       "    <tr>\n",
       "      <th>2024-03-29 23:57:00</th>\n",
       "      <td>BSGSML</td>\n",
       "      <td>1.57248</td>\n",
       "      <td>0.0</td>\n",
       "      <td>0.0</td>\n",
       "      <td>67.0</td>\n",
       "    </tr>\n",
       "    <tr>\n",
       "      <th>2024-03-29 23:58:00</th>\n",
       "      <td>BSGSML</td>\n",
       "      <td>1.57248</td>\n",
       "      <td>0.0</td>\n",
       "      <td>0.0</td>\n",
       "      <td>66.0</td>\n",
       "    </tr>\n",
       "    <tr>\n",
       "      <th>2024-03-29 23:59:00</th>\n",
       "      <td>BSGSML</td>\n",
       "      <td>1.57248</td>\n",
       "      <td>0.0</td>\n",
       "      <td>0.0</td>\n",
       "      <td>65.0</td>\n",
       "    </tr>\n",
       "  </tbody>\n",
       "</table>\n",
       "<p>62267 rows × 5 columns</p>\n",
       "</div>"
      ],
      "text/plain": [
       "                         Id  Calories  Distance  Steps  HeartRate\n",
       "Time                                                             \n",
       "2024-02-15 18:13:00  BSGSML   1.30970       0.0    0.0       57.0\n",
       "2024-02-15 18:14:00  BSGSML   1.44067       0.0    0.0       58.0\n",
       "2024-02-15 18:15:00  BSGSML   1.44067       0.0    0.0       63.0\n",
       "2024-02-15 18:16:00  BSGSML   1.30970       0.0    0.0       58.0\n",
       "2024-02-15 18:17:00  BSGSML   1.44067       0.0    0.0       57.0\n",
       "...                     ...       ...       ...    ...        ...\n",
       "2024-03-29 23:55:00  BSGSML   1.57248       0.0    0.0       67.0\n",
       "2024-03-29 23:56:00  BSGSML   1.57248       0.0    0.0       67.0\n",
       "2024-03-29 23:57:00  BSGSML   1.57248       0.0    0.0       67.0\n",
       "2024-03-29 23:58:00  BSGSML   1.57248       0.0    0.0       66.0\n",
       "2024-03-29 23:59:00  BSGSML   1.57248       0.0    0.0       65.0\n",
       "\n",
       "[62267 rows x 5 columns]"
      ]
     },
     "execution_count": 10,
     "metadata": {},
     "output_type": "execute_result"
    }
   ],
   "source": [
    "data['Time'] = pd.to_datetime(data['Time'], format='%Y-%m-%d %H:%M:%S')\n",
    "data = data.set_index('Time')\n",
    "data = data.asfreq('60S')\n",
    "data = data.sort_index()\n",
    "data"
   ]
  },
  {
   "cell_type": "code",
   "execution_count": 11,
   "id": "d8e22ca2",
   "metadata": {},
   "outputs": [
    {
     "name": "stdout",
     "output_type": "stream",
     "text": [
      "Fechas train : 2024-02-15 18:13:00 --- 2024-03-29 23:54:00  (n=62262)\n",
      "Fechas test  : 2024-03-29 23:55:00 --- 2024-03-29 23:59:00  (n=5)\n",
      "Número de filas con missing values : (datos_train) : 0.01662330153223475\n",
      "Número de filas con missing values:  (datos_test) : 0.0\n"
     ]
    }
   ],
   "source": [
    "steps = 5\n",
    "datos_train = data[:-steps]\n",
    "datos_test  = data[-steps:]\n",
    "\n",
    "print(\n",
    "    f\"Fechas train : {datos_train.index.min()} --- {datos_train.index.max()}  (n={len(datos_train)})\"\n",
    ")\n",
    "print(\n",
    "    f\"Fechas test  : {datos_test.index.min()} --- {datos_test.index.max()}  (n={len(datos_test)})\"\n",
    ")\n",
    "\n",
    "print(f'Número de filas con missing values : (datos_train) : {datos_train.isnull().any(axis=1).mean()}')\n",
    "print(f'Número de filas con missing values:  (datos_test) : {datos_test.isnull().any(axis=1).mean()}')"
   ]
  },
  {
   "cell_type": "code",
   "execution_count": 12,
   "id": "0911a4ce",
   "metadata": {},
   "outputs": [
    {
     "name": "stdout",
     "output_type": "stream",
     "text": [
      "Número de filas con missing values en datos_train: 0.0\n",
      "Número de filas con missing values en datos_test: 0.0\n"
     ]
    }
   ],
   "source": [
    "for column in datos_train.columns:\n",
    "    # Verificar si la columna tiene valores NaN\n",
    "    if datos_train[column].isna().any():\n",
    "        # Realizar un dropna en la columna si hay valores NaN\n",
    "        datos_train = datos_train.dropna(subset=[column])\n",
    "\n",
    "print(f'Número de filas con missing values en datos_train: {datos_train.isnull().any(axis=1).mean()}')\n",
    "print(f'Número de filas con missing values en datos_test: {datos_test.isnull().any(axis=1).mean()}')"
   ]
  },
  {
   "cell_type": "code",
   "execution_count": 15,
   "id": "1945869c",
   "metadata": {},
   "outputs": [
    {
     "ename": "ValueError",
     "evalue": "`y` has missing values.",
     "output_type": "error",
     "traceback": [
      "\u001b[1;31m---------------------------------------------------------------------------\u001b[0m",
      "\u001b[1;31mValueError\u001b[0m                                Traceback (most recent call last)",
      "\u001b[1;32m~\\AppData\\Local\\Temp\\ipykernel_19428\\3052506060.py\u001b[0m in \u001b[0;36m<module>\u001b[1;34m\u001b[0m\n\u001b[0;32m      5\u001b[0m              )\n\u001b[0;32m      6\u001b[0m \u001b[1;33m\u001b[0m\u001b[0m\n\u001b[1;32m----> 7\u001b[1;33m \u001b[0mforecaster\u001b[0m\u001b[1;33m.\u001b[0m\u001b[0mfit\u001b[0m\u001b[1;33m(\u001b[0m\u001b[0my\u001b[0m\u001b[1;33m=\u001b[0m\u001b[0mdatos_train\u001b[0m\u001b[1;33m[\u001b[0m\u001b[1;34m'HeartRate'\u001b[0m\u001b[1;33m]\u001b[0m\u001b[1;33m,\u001b[0m \u001b[0mexog\u001b[0m\u001b[1;33m=\u001b[0m\u001b[0mdatos_train\u001b[0m\u001b[1;33m[\u001b[0m\u001b[1;33m[\u001b[0m\u001b[1;34m'Calories'\u001b[0m\u001b[1;33m,\u001b[0m\u001b[1;34m'Steps'\u001b[0m\u001b[1;33m,\u001b[0m\u001b[1;34m'Distance'\u001b[0m\u001b[1;33m]\u001b[0m\u001b[1;33m]\u001b[0m\u001b[1;33m)\u001b[0m\u001b[1;33m\u001b[0m\u001b[1;33m\u001b[0m\u001b[0m\n\u001b[0m\u001b[0;32m      8\u001b[0m \u001b[0mforecaster\u001b[0m\u001b[1;33m\u001b[0m\u001b[1;33m\u001b[0m\u001b[0m\n",
      "\u001b[1;32m~\\anaconda3\\lib\\site-packages\\skforecast\\ForecasterAutoreg\\ForecasterAutoreg.py\u001b[0m in \u001b[0;36mfit\u001b[1;34m(self, y, exog, store_in_sample_residuals)\u001b[0m\n\u001b[0;32m    521\u001b[0m                  \u001b[0mexog\u001b[0m\u001b[1;33m.\u001b[0m\u001b[0mcolumns\u001b[0m\u001b[1;33m.\u001b[0m\u001b[0mto_list\u001b[0m\u001b[1;33m(\u001b[0m\u001b[1;33m)\u001b[0m \u001b[1;32mif\u001b[0m \u001b[0misinstance\u001b[0m\u001b[1;33m(\u001b[0m\u001b[0mexog\u001b[0m\u001b[1;33m,\u001b[0m \u001b[0mpd\u001b[0m\u001b[1;33m.\u001b[0m\u001b[0mDataFrame\u001b[0m\u001b[1;33m)\u001b[0m \u001b[1;32melse\u001b[0m \u001b[0mexog\u001b[0m\u001b[1;33m.\u001b[0m\u001b[0mname\u001b[0m\u001b[1;33m\u001b[0m\u001b[1;33m\u001b[0m\u001b[0m\n\u001b[0;32m    522\u001b[0m \u001b[1;33m\u001b[0m\u001b[0m\n\u001b[1;32m--> 523\u001b[1;33m         \u001b[0mX_train\u001b[0m\u001b[1;33m,\u001b[0m \u001b[0my_train\u001b[0m \u001b[1;33m=\u001b[0m \u001b[0mself\u001b[0m\u001b[1;33m.\u001b[0m\u001b[0mcreate_train_X_y\u001b[0m\u001b[1;33m(\u001b[0m\u001b[0my\u001b[0m\u001b[1;33m=\u001b[0m\u001b[0my\u001b[0m\u001b[1;33m,\u001b[0m \u001b[0mexog\u001b[0m\u001b[1;33m=\u001b[0m\u001b[0mexog\u001b[0m\u001b[1;33m)\u001b[0m\u001b[1;33m\u001b[0m\u001b[1;33m\u001b[0m\u001b[0m\n\u001b[0m\u001b[0;32m    524\u001b[0m         \u001b[0msample_weight\u001b[0m \u001b[1;33m=\u001b[0m \u001b[0mself\u001b[0m\u001b[1;33m.\u001b[0m\u001b[0mcreate_sample_weights\u001b[0m\u001b[1;33m(\u001b[0m\u001b[0mX_train\u001b[0m\u001b[1;33m=\u001b[0m\u001b[0mX_train\u001b[0m\u001b[1;33m)\u001b[0m\u001b[1;33m\u001b[0m\u001b[1;33m\u001b[0m\u001b[0m\n\u001b[0;32m    525\u001b[0m \u001b[1;33m\u001b[0m\u001b[0m\n",
      "\u001b[1;32m~\\anaconda3\\lib\\site-packages\\skforecast\\ForecasterAutoreg\\ForecasterAutoreg.py\u001b[0m in \u001b[0;36mcreate_train_X_y\u001b[1;34m(self, y, exog)\u001b[0m\n\u001b[0;32m    355\u001b[0m         \"\"\"\n\u001b[0;32m    356\u001b[0m \u001b[1;33m\u001b[0m\u001b[0m\n\u001b[1;32m--> 357\u001b[1;33m         \u001b[0mcheck_y\u001b[0m\u001b[1;33m(\u001b[0m\u001b[0my\u001b[0m\u001b[1;33m=\u001b[0m\u001b[0my\u001b[0m\u001b[1;33m)\u001b[0m\u001b[1;33m\u001b[0m\u001b[1;33m\u001b[0m\u001b[0m\n\u001b[0m\u001b[0;32m    358\u001b[0m         y = transform_series(\n\u001b[0;32m    359\u001b[0m                 \u001b[0mseries\u001b[0m            \u001b[1;33m=\u001b[0m \u001b[0my\u001b[0m\u001b[1;33m,\u001b[0m\u001b[1;33m\u001b[0m\u001b[1;33m\u001b[0m\u001b[0m\n",
      "\u001b[1;32m~\\anaconda3\\lib\\site-packages\\skforecast\\utils\\utils.py\u001b[0m in \u001b[0;36mcheck_y\u001b[1;34m(y)\u001b[0m\n\u001b[0;32m    254\u001b[0m \u001b[1;33m\u001b[0m\u001b[0m\n\u001b[0;32m    255\u001b[0m     \u001b[1;32mif\u001b[0m \u001b[0my\u001b[0m\u001b[1;33m.\u001b[0m\u001b[0misnull\u001b[0m\u001b[1;33m(\u001b[0m\u001b[1;33m)\u001b[0m\u001b[1;33m.\u001b[0m\u001b[0many\u001b[0m\u001b[1;33m(\u001b[0m\u001b[1;33m)\u001b[0m\u001b[1;33m:\u001b[0m\u001b[1;33m\u001b[0m\u001b[1;33m\u001b[0m\u001b[0m\n\u001b[1;32m--> 256\u001b[1;33m         \u001b[1;32mraise\u001b[0m \u001b[0mValueError\u001b[0m\u001b[1;33m(\u001b[0m\u001b[1;34m\"`y` has missing values.\"\u001b[0m\u001b[1;33m)\u001b[0m\u001b[1;33m\u001b[0m\u001b[1;33m\u001b[0m\u001b[0m\n\u001b[0m\u001b[0;32m    257\u001b[0m \u001b[1;33m\u001b[0m\u001b[0m\n\u001b[0;32m    258\u001b[0m     \u001b[1;32mreturn\u001b[0m\u001b[1;33m\u001b[0m\u001b[1;33m\u001b[0m\u001b[0m\n",
      "\u001b[1;31mValueError\u001b[0m: `y` has missing values."
     ]
    }
   ],
   "source": [
    "forecaster = ForecasterAutoreg(\n",
    "                regressor = model,\n",
    "                lags      = 7,\n",
    "                differentiation = None\n",
    "             )\n",
    "\n",
    "forecaster.fit(y=datos_train['HeartRate'], exog=datos_train[['Calories','Steps','Distance']])\n",
    "forecaster"
   ]
  },
  {
   "cell_type": "code",
   "execution_count": null,
   "id": "0ed5ab8a",
   "metadata": {},
   "outputs": [],
   "source": [
    "predicciones = forecaster.predict(steps=5,  exog=datos_train[['Calories', 'Steps', 'Distance']])"
   ]
  },
  {
   "cell_type": "code",
   "execution_count": null,
   "id": "730356be",
   "metadata": {},
   "outputs": [],
   "source": [
    "fig, ax = plt.subplots(figsize=(6, 2.5))\n",
    "datos_train['HeartRate'].plot(ax=ax, label='train')\n",
    "datos_test['HeartRate'].plot(ax=ax, label='test')\n",
    "predicciones.plot(ax=ax, label='predicciones')\n",
    "ax.legend();"
   ]
  }
 ],
 "metadata": {
  "kernelspec": {
   "display_name": "Python 3 (ipykernel)",
   "language": "python",
   "name": "python3"
  },
  "language_info": {
   "codemirror_mode": {
    "name": "ipython",
    "version": 3
   },
   "file_extension": ".py",
   "mimetype": "text/x-python",
   "name": "python",
   "nbconvert_exporter": "python",
   "pygments_lexer": "ipython3",
   "version": "3.9.13"
  }
 },
 "nbformat": 4,
 "nbformat_minor": 5
}
