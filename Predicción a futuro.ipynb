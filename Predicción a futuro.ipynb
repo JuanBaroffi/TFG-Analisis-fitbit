{
 "cells": [
  {
   "cell_type": "code",
   "execution_count": null,
   "id": "2be0024a",
   "metadata": {},
   "outputs": [],
   "source": [
    "!pip install skforecast\n",
    "!pip install dask[dataframe]"
   ]
  },
  {
   "cell_type": "code",
   "execution_count": null,
   "id": "011df590",
   "metadata": {},
   "outputs": [],
   "source": [
    "import pandas as pd\n",
    "import lightgbm as lgb\n",
    "import joblib\n",
    "import matplotlib.pyplot as plt\n",
    "import warnings\n",
    "\n",
    "plt.style.use('fivethirtyeight')\n",
    "plt.rcParams['lines.linewidth'] = 1.5\n",
    "plt.rcParams['font.size'] = 10\n",
    "\n",
    "from skforecast.ForecasterAutoreg import ForecasterAutoreg\n",
    "from skforecast.ForecasterAutoregCustom import ForecasterAutoregCustom\n",
    "from skforecast.ForecasterAutoregDirect import ForecasterAutoregDirect\n",
    "from skforecast.model_selection import grid_search_forecaster\n",
    "from skforecast.model_selection import backtesting_forecaster\n",
    "from skforecast.utils import save_forecaster\n",
    "from skforecast.utils import load_forecaster\n",
    "from skforecast.datasets import fetch_dataset\n",
    "\n",
    "warnings.filterwarnings('once')"
   ]
  },
  {
   "cell_type": "code",
   "execution_count": null,
   "id": "0fdf0880",
   "metadata": {},
   "outputs": [],
   "source": [
    "model = joblib.load('ML models/LightGBM_ML.pkl')"
   ]
  },
  {
   "cell_type": "code",
   "execution_count": null,
   "id": "93489ed5",
   "metadata": {},
   "outputs": [],
   "source": [
    "old_data = pd.read_csv('Fitabase Data 4.12.16-5.12.16/test_train_data.csv')\n",
    "data = pd.read_csv('FitBit API Database/test_train_data_api_merged.csv')\n",
    "\n",
    "print(\"Archivo : test_train_data.csv\")\n",
    "print(old_data)\n",
    "print(\"\\n\")\n",
    "print(\"Archivo : test_train_data_api_merged.csv\")\n",
    "print(data)"
   ]
  },
  {
   "cell_type": "code",
   "execution_count": null,
   "id": "0d175f24",
   "metadata": {},
   "outputs": [],
   "source": [
    "#Comprobamos los valores NaN de cada columna\n",
    "data.isna().sum()"
   ]
  },
  {
   "cell_type": "code",
   "execution_count": null,
   "id": "6d38c03e",
   "metadata": {},
   "outputs": [],
   "source": [
    "archivo_final = \"FitBit API Database/test_train_data_api_merged.csv\"\n",
    "data = data.dropna(subset=['HeartRate'])\n",
    "data = data.dropna(subset=['Steps'])\n",
    "print(data)\n",
    "data.to_csv(archivo_final, index=False)"
   ]
  },
  {
   "cell_type": "code",
   "execution_count": null,
   "id": "c171c8ca",
   "metadata": {},
   "outputs": [],
   "source": [
    "data = data.set_index('Time')\n",
    "#data = data.asfreq(freq='60s')\n",
    "data = data.sort_index()\n",
    "                   \n",
    "print(data.head())"
   ]
  },
  {
   "cell_type": "code",
   "execution_count": null,
   "id": "45796a20",
   "metadata": {},
   "outputs": [],
   "source": [
    "fig, ax = plt.subplots(figsize=(6, 2.5))\n",
    "data['HeartRate'].plot(ax=ax, label='HeartRate')\n",
    "ax.legend();"
   ]
  },
  {
   "cell_type": "code",
   "execution_count": null,
   "id": "db851157",
   "metadata": {},
   "outputs": [],
   "source": [
    "#predecir para dentro de 5 minutos\n",
    "steps = 5 \n",
    "\n",
    "datos_train = data[:-steps]\n",
    "datos_test  = data[-steps:]\n",
    "\n",
    "print(\n",
    "    f\"Fechas train : {datos_train.index.min()} --- {datos_train.index.max()}  (n={len(datos_train)})\"\n",
    ")\n",
    "print(\n",
    "    f\"Fechas test  : {datos_test.index.min()} --- {datos_test.index.max()}  (n={len(datos_test)})\"\n",
    ")\n",
    "\n",
    "\n",
    "print(datos_train.head())"
   ]
  },
  {
   "cell_type": "code",
   "execution_count": null,
   "id": "1945869c",
   "metadata": {},
   "outputs": [],
   "source": [
    "forecaster = ForecasterAutoreg(\n",
    "                regressor = model,\n",
    "                lags      = 7 ,\n",
    "                differentiation = None\n",
    "             )\n",
    "\n",
    "forecaster.fit(y=datos_train['HeartRate'], exog=datos_train[['Calories','Steps','Distance']])\n",
    "forecaster"
   ]
  },
  {
   "cell_type": "code",
   "execution_count": null,
   "id": "0ed5ab8a",
   "metadata": {},
   "outputs": [],
   "source": [
    "predicciones = forecaster.predict(steps=5,  exog=datos_train[['Calories', 'Steps', 'Distance']])"
   ]
  },
  {
   "cell_type": "code",
   "execution_count": null,
   "id": "730356be",
   "metadata": {},
   "outputs": [],
   "source": [
    "fig, ax = plt.subplots(figsize=(6, 2.5))\n",
    "datos_train['HeartRate'].plot(ax=ax, label='train')\n",
    "datos_test['HeartRate'].plot(ax=ax, label='test')\n",
    "predicciones.plot(ax=ax, label='predicciones')\n",
    "ax.legend();"
   ]
  }
 ],
 "metadata": {
  "kernelspec": {
   "display_name": "Python 3 (ipykernel)",
   "language": "python",
   "name": "python3"
  },
  "language_info": {
   "codemirror_mode": {
    "name": "ipython",
    "version": 3
   },
   "file_extension": ".py",
   "mimetype": "text/x-python",
   "name": "python",
   "nbconvert_exporter": "python",
   "pygments_lexer": "ipython3",
   "version": "3.9.13"
  }
 },
 "nbformat": 4,
 "nbformat_minor": 5
}
