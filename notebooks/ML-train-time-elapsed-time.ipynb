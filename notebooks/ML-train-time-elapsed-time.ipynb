{
 "cells": [
  {
   "cell_type": "markdown",
   "id": "0cdb2d09",
   "metadata": {},
   "source": [
    "# ML ellapsed train time"
   ]
  },
  {
   "cell_type": "code",
   "execution_count": 30,
   "id": "8daa0980",
   "metadata": {},
   "outputs": [],
   "source": [
    "import time\n",
    "import pandas as pd\n",
    "import lightgbm as lgb\n",
    "from xgboost import XGBRegressor\n",
    "from sklearn.ensemble import RandomForestRegressor, VotingRegressor\n",
    "from sklearn.compose import ColumnTransformer\n",
    "from sklearn.model_selection import train_test_split\n",
    "from sklearn.preprocessing import OneHotEncoder, StandardScaler"
   ]
  },
  {
   "cell_type": "code",
   "execution_count": 31,
   "id": "ca61b6bb",
   "metadata": {},
   "outputs": [
    {
     "data": {
      "text/html": [
       "<div>\n",
       "<style scoped>\n",
       "    .dataframe tbody tr th:only-of-type {\n",
       "        vertical-align: middle;\n",
       "    }\n",
       "\n",
       "    .dataframe tbody tr th {\n",
       "        vertical-align: top;\n",
       "    }\n",
       "\n",
       "    .dataframe thead th {\n",
       "        text-align: right;\n",
       "    }\n",
       "</style>\n",
       "<table border=\"1\" class=\"dataframe\">\n",
       "  <thead>\n",
       "    <tr style=\"text-align: right;\">\n",
       "      <th></th>\n",
       "      <th>Id</th>\n",
       "      <th>Time</th>\n",
       "      <th>HeartRate</th>\n",
       "      <th>Intensity</th>\n",
       "      <th>Calories</th>\n",
       "    </tr>\n",
       "  </thead>\n",
       "  <tbody>\n",
       "    <tr>\n",
       "      <th>0</th>\n",
       "      <td>2022484408</td>\n",
       "      <td>2016-04-12 07:21:00</td>\n",
       "      <td>101.600000</td>\n",
       "      <td>1</td>\n",
       "      <td>3.32064</td>\n",
       "    </tr>\n",
       "    <tr>\n",
       "      <th>1</th>\n",
       "      <td>2022484408</td>\n",
       "      <td>2016-04-12 07:22:00</td>\n",
       "      <td>87.888889</td>\n",
       "      <td>1</td>\n",
       "      <td>3.94326</td>\n",
       "    </tr>\n",
       "    <tr>\n",
       "      <th>2</th>\n",
       "      <td>2022484408</td>\n",
       "      <td>2016-04-12 07:23:00</td>\n",
       "      <td>58.000000</td>\n",
       "      <td>0</td>\n",
       "      <td>1.34901</td>\n",
       "    </tr>\n",
       "    <tr>\n",
       "      <th>3</th>\n",
       "      <td>2022484408</td>\n",
       "      <td>2016-04-12 07:24:00</td>\n",
       "      <td>58.000000</td>\n",
       "      <td>0</td>\n",
       "      <td>1.03770</td>\n",
       "    </tr>\n",
       "    <tr>\n",
       "      <th>4</th>\n",
       "      <td>2022484408</td>\n",
       "      <td>2016-04-12 07:25:00</td>\n",
       "      <td>56.777778</td>\n",
       "      <td>0</td>\n",
       "      <td>1.03770</td>\n",
       "    </tr>\n",
       "    <tr>\n",
       "      <th>...</th>\n",
       "      <td>...</td>\n",
       "      <td>...</td>\n",
       "      <td>...</td>\n",
       "      <td>...</td>\n",
       "      <td>...</td>\n",
       "    </tr>\n",
       "    <tr>\n",
       "      <th>333141</th>\n",
       "      <td>8877689391</td>\n",
       "      <td>2016-05-12 13:55:00</td>\n",
       "      <td>60.666667</td>\n",
       "      <td>0</td>\n",
       "      <td>1.33353</td>\n",
       "    </tr>\n",
       "    <tr>\n",
       "      <th>333142</th>\n",
       "      <td>8877689391</td>\n",
       "      <td>2016-05-12 13:56:00</td>\n",
       "      <td>61.875000</td>\n",
       "      <td>0</td>\n",
       "      <td>1.33353</td>\n",
       "    </tr>\n",
       "    <tr>\n",
       "      <th>333143</th>\n",
       "      <td>8877689391</td>\n",
       "      <td>2016-05-12 13:57:00</td>\n",
       "      <td>58.142857</td>\n",
       "      <td>0</td>\n",
       "      <td>1.33353</td>\n",
       "    </tr>\n",
       "    <tr>\n",
       "      <th>333144</th>\n",
       "      <td>8877689391</td>\n",
       "      <td>2016-05-12 13:58:00</td>\n",
       "      <td>61.200000</td>\n",
       "      <td>0</td>\n",
       "      <td>1.33353</td>\n",
       "    </tr>\n",
       "    <tr>\n",
       "      <th>333145</th>\n",
       "      <td>8877689391</td>\n",
       "      <td>2016-05-12 13:59:00</td>\n",
       "      <td>58.000000</td>\n",
       "      <td>0</td>\n",
       "      <td>1.33353</td>\n",
       "    </tr>\n",
       "  </tbody>\n",
       "</table>\n",
       "<p>333146 rows × 5 columns</p>\n",
       "</div>"
      ],
      "text/plain": [
       "                Id                 Time   HeartRate  Intensity  Calories\n",
       "0       2022484408  2016-04-12 07:21:00  101.600000          1   3.32064\n",
       "1       2022484408  2016-04-12 07:22:00   87.888889          1   3.94326\n",
       "2       2022484408  2016-04-12 07:23:00   58.000000          0   1.34901\n",
       "3       2022484408  2016-04-12 07:24:00   58.000000          0   1.03770\n",
       "4       2022484408  2016-04-12 07:25:00   56.777778          0   1.03770\n",
       "...            ...                  ...         ...        ...       ...\n",
       "333141  8877689391  2016-05-12 13:55:00   60.666667          0   1.33353\n",
       "333142  8877689391  2016-05-12 13:56:00   61.875000          0   1.33353\n",
       "333143  8877689391  2016-05-12 13:57:00   58.142857          0   1.33353\n",
       "333144  8877689391  2016-05-12 13:58:00   61.200000          0   1.33353\n",
       "333145  8877689391  2016-05-12 13:59:00   58.000000          0   1.33353\n",
       "\n",
       "[333146 rows x 5 columns]"
      ]
     },
     "execution_count": 31,
     "metadata": {},
     "output_type": "execute_result"
    }
   ],
   "source": [
    "result_df = pd.read_csv(\"../Fitabase Data 4.12.16-5.12.16/test_train_data.csv\")\n",
    "result_df"
   ]
  },
  {
   "cell_type": "code",
   "execution_count": 32,
   "id": "d319814a",
   "metadata": {},
   "outputs": [],
   "source": [
    "result_df['Time'] = pd.to_datetime(result_df['Time'])\n",
    "\n",
    "result_df['Hour'] = result_df['Time'].dt.hour\n",
    "result_df['Minutes'] = result_df['Time'].dt.minute\n",
    "result_df['Weekday'] = result_df['Time'].dt.weekday\n",
    "\n",
    "features = ['Id', 'Hour', 'Minutes', 'Intensity', 'Calories']\n",
    "target = 'HeartRate'\n",
    "\n",
    "X = result_df[features]\n",
    "y = result_df[target]\n",
    "\n",
    "X_train, X_test, y_train, y_test = train_test_split(X, y, test_size=0.17, random_state=777)\n",
    "\n",
    "categorical_features = ['Id']\n",
    "numeric_features = ['Hour', 'Minutes', 'Intensity', 'Calories']\n",
    "\n",
    "preprocessor = ColumnTransformer(\n",
    "    transformers=[\n",
    "        ('num', StandardScaler(), numeric_features),\n",
    "        ('cat', OneHotEncoder(), categorical_features)\n",
    "    ], remainder='passthrough')"
   ]
  },
  {
   "cell_type": "markdown",
   "id": "6826e61e",
   "metadata": {},
   "source": [
    "# VotingRegressor"
   ]
  },
  {
   "cell_type": "code",
   "execution_count": 33,
   "id": "f4b3c30b",
   "metadata": {},
   "outputs": [
    {
     "name": "stdout",
     "output_type": "stream",
     "text": [
      "[LightGBM] [Info] Auto-choosing row-wise multi-threading, the overhead of testing was 0.006051 seconds.\n",
      "You can set `force_row_wise=true` to remove the overhead.\n",
      "And if memory is not enough, you can set `force_col_wise=true`.\n",
      "[LightGBM] [Info] Total Bins 358\n",
      "[LightGBM] [Info] Number of data points in the train set: 276511, number of used features: 5\n",
      "[LightGBM] [Info] Start training from score 73.705764\n",
      "\u001b[94;1mTiempo de entrenamiento transcurrido de modelo VotingRegressor(LightGBM, XGBoost y RandomForestRegressor):\u001b[0m\n",
      "120.38 segundos.\n"
     ]
    }
   ],
   "source": [
    "best_params = {'learning_rate': 0.2, 'n_estimators': 200, 'num_leaves': 31, 'max_depth': 6, 'subsample': 0.8, 'colsample_bytree': 0.8}\n",
    "\n",
    "xgb_model = XGBRegressor(\n",
    "    objective='reg:squarederror',\n",
    "    random_state=42,\n",
    "    n_estimators=best_params['n_estimators'],\n",
    "    learning_rate=best_params['learning_rate'],\n",
    "    max_depth=best_params['max_depth'],\n",
    "    subsample=best_params['subsample'],\n",
    "    colsample_bytree=best_params['colsample_bytree']\n",
    ")\n",
    "\n",
    "lgb_model = lgb.LGBMRegressor(\n",
    "    objective='regression',\n",
    "    random_state=42,\n",
    "    learning_rate=best_params['learning_rate'],\n",
    "    n_estimators=best_params['n_estimators'],\n",
    "    num_leaves=best_params['num_leaves']\n",
    ")\n",
    "\n",
    "rf_model = RandomForestRegressor(random_state=42)\n",
    "\n",
    "voting_regressor = VotingRegressor(\n",
    "    estimators=[('xgb', xgb_model), ('lgb', lgb_model), ('rf', rf_model)]\n",
    ")\n",
    "\n",
    "#START TIME\n",
    "start_time = time.time()\n",
    "\n",
    "voting_regressor.fit(X_train, y_train)\n",
    "\n",
    "#END TIME\n",
    "end_time = time.time()\n",
    "\n",
    "final_time = end_time - start_time\n",
    "print(f\"\\033[94;1mTiempo de entrenamiento transcurrido de modelo VotingRegressor(LightGBM, XGBoost y RandomForestRegressor):\\033[0m\")\n",
    "print(f\"{final_time:.2f} segundos.\")"
   ]
  },
  {
   "cell_type": "markdown",
   "id": "2c096bfa",
   "metadata": {},
   "source": [
    "# LightGBM"
   ]
  },
  {
   "cell_type": "code",
   "execution_count": 34,
   "id": "39b091a7",
   "metadata": {},
   "outputs": [
    {
     "name": "stdout",
     "output_type": "stream",
     "text": [
      "[LightGBM] [Info] Auto-choosing row-wise multi-threading, the overhead of testing was 0.006493 seconds.\n",
      "You can set `force_row_wise=true` to remove the overhead.\n",
      "And if memory is not enough, you can set `force_col_wise=true`.\n",
      "[LightGBM] [Info] Total Bins 358\n",
      "[LightGBM] [Info] Number of data points in the train set: 276511, number of used features: 5\n",
      "[LightGBM] [Info] Start training from score 73.705764\n",
      "\u001b[94;1mTiempo de entrenamiento para LightGBM: 2.86 segundos\u001b[0m\n"
     ]
    }
   ],
   "source": [
    "lgb_model = lgb.LGBMRegressor(\n",
    "    objective='regression',\n",
    "    random_state=42,\n",
    "    learning_rate=best_params['learning_rate'],\n",
    "    n_estimators=best_params['n_estimators'],\n",
    "    num_leaves=best_params['num_leaves']\n",
    ")\n",
    "\n",
    "#START TIME\n",
    "start_time = time.time()\n",
    "\n",
    "lgb_model.fit(X_train, y_train)\n",
    "\n",
    "#END TIME\n",
    "end_time = time.time()\n",
    "\n",
    "lgb_time = end_time - start_time\n",
    "print(f\"\\033[94;1mTiempo de entrenamiento para LightGBM: {lgb_time:.2f} segundos\\033[0m\")"
   ]
  },
  {
   "cell_type": "markdown",
   "id": "3c87d200",
   "metadata": {},
   "source": [
    "# XGBoost"
   ]
  },
  {
   "cell_type": "code",
   "execution_count": 35,
   "id": "612e3967",
   "metadata": {},
   "outputs": [
    {
     "name": "stdout",
     "output_type": "stream",
     "text": [
      "\u001b[94;1mTiempo de entrenamiento para XGBoost: 8.65 segundos\u001b[0m\n"
     ]
    }
   ],
   "source": [
    "\n",
    "xgb_model = XGBRegressor(\n",
    "    objective='reg:squarederror',\n",
    "    random_state=42,\n",
    "    n_estimators=best_params['n_estimators'],\n",
    "    learning_rate=best_params['learning_rate'],\n",
    "    max_depth=best_params['max_depth'],\n",
    "    subsample=best_params['subsample'],\n",
    "    colsample_bytree=best_params['colsample_bytree']\n",
    ")\n",
    "#START TIME\n",
    "start_time = time.time()\n",
    "\n",
    "xgb_model.fit(X_train, y_train)\n",
    "\n",
    "#END TIME\n",
    "end_time = time.time()\n",
    "\n",
    "xgb_time = end_time - start_time\n",
    "print(f\"\\033[94;1mTiempo de entrenamiento para XGBoost: {xgb_time:.2f} segundos\\033[0m\")"
   ]
  }
 ],
 "metadata": {
  "kernelspec": {
   "display_name": "Python 3 (ipykernel)",
   "language": "python",
   "name": "python3"
  },
  "language_info": {
   "codemirror_mode": {
    "name": "ipython",
    "version": 3
   },
   "file_extension": ".py",
   "mimetype": "text/x-python",
   "name": "python",
   "nbconvert_exporter": "python",
   "pygments_lexer": "ipython3",
   "version": "3.9.13"
  }
 },
 "nbformat": 4,
 "nbformat_minor": 5
}
