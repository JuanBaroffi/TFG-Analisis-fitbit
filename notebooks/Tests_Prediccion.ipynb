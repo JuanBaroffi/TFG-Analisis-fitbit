{
 "cells": [
  {
   "cell_type": "markdown",
   "id": "c99b52ed",
   "metadata": {},
   "source": [
    "# Test modelos : Predicción a futuro"
   ]
  },
  {
   "cell_type": "code",
   "execution_count": 1,
   "id": "2be0024a",
   "metadata": {},
   "outputs": [
    {
     "name": "stdout",
     "output_type": "stream",
     "text": [
      "Requirement already satisfied: skforecast in c:\\users\\34634\\anaconda3\\lib\\site-packages (0.11.0)\n",
      "Requirement already satisfied: numpy<1.27,>=1.20 in c:\\users\\34634\\anaconda3\\lib\\site-packages (from skforecast) (1.24.4)\n",
      "Requirement already satisfied: joblib<1.4,>=1.1.0 in c:\\users\\34634\\anaconda3\\lib\\site-packages (from skforecast) (1.1.0)\n",
      "Requirement already satisfied: optuna<3.5,>=2.10.0 in c:\\users\\34634\\anaconda3\\lib\\site-packages (from skforecast) (3.4.0)\n",
      "Requirement already satisfied: scikit-learn<1.4,>=1.0 in c:\\users\\34634\\anaconda3\\lib\\site-packages (from skforecast) (1.0.2)\n",
      "Collecting pandas<2.2,>=1.2\n",
      "  Using cached pandas-2.1.4-cp39-cp39-win_amd64.whl (10.8 MB)\n",
      "Requirement already satisfied: tqdm<4.67,>=4.57.0 in c:\\users\\34634\\anaconda3\\lib\\site-packages (from skforecast) (4.64.1)\n",
      "Requirement already satisfied: sqlalchemy>=1.3.0 in c:\\users\\34634\\anaconda3\\lib\\site-packages (from optuna<3.5,>=2.10.0->skforecast) (1.4.39)\n",
      "Requirement already satisfied: packaging>=20.0 in c:\\users\\34634\\anaconda3\\lib\\site-packages (from optuna<3.5,>=2.10.0->skforecast) (21.3)\n",
      "Requirement already satisfied: PyYAML in c:\\users\\34634\\anaconda3\\lib\\site-packages (from optuna<3.5,>=2.10.0->skforecast) (6.0)\n",
      "Requirement already satisfied: alembic>=1.5.0 in c:\\users\\34634\\anaconda3\\lib\\site-packages (from optuna<3.5,>=2.10.0->skforecast) (1.13.1)\n",
      "Requirement already satisfied: colorlog in c:\\users\\34634\\anaconda3\\lib\\site-packages (from optuna<3.5,>=2.10.0->skforecast) (6.8.2)\n",
      "Requirement already satisfied: tzdata>=2022.1 in c:\\users\\34634\\anaconda3\\lib\\site-packages (from pandas<2.2,>=1.2->skforecast) (2024.1)\n",
      "Requirement already satisfied: python-dateutil>=2.8.2 in c:\\users\\34634\\anaconda3\\lib\\site-packages (from pandas<2.2,>=1.2->skforecast) (2.8.2)\n",
      "Requirement already satisfied: pytz>=2020.1 in c:\\users\\34634\\anaconda3\\lib\\site-packages (from pandas<2.2,>=1.2->skforecast) (2022.1)\n",
      "Requirement already satisfied: scipy>=1.1.0 in c:\\users\\34634\\anaconda3\\lib\\site-packages (from scikit-learn<1.4,>=1.0->skforecast) (1.9.1)\n",
      "Requirement already satisfied: threadpoolctl>=2.0.0 in c:\\users\\34634\\anaconda3\\lib\\site-packages (from scikit-learn<1.4,>=1.0->skforecast) (2.2.0)\n",
      "Requirement already satisfied: colorama in c:\\users\\34634\\anaconda3\\lib\\site-packages (from tqdm<4.67,>=4.57.0->skforecast) (0.4.5)\n",
      "Requirement already satisfied: Mako in c:\\users\\34634\\anaconda3\\lib\\site-packages (from alembic>=1.5.0->optuna<3.5,>=2.10.0->skforecast) (1.3.3)\n",
      "Requirement already satisfied: typing-extensions>=4 in c:\\users\\34634\\anaconda3\\lib\\site-packages (from alembic>=1.5.0->optuna<3.5,>=2.10.0->skforecast) (4.3.0)\n",
      "Requirement already satisfied: pyparsing!=3.0.5,>=2.0.2 in c:\\users\\34634\\anaconda3\\lib\\site-packages (from packaging>=20.0->optuna<3.5,>=2.10.0->skforecast) (3.0.9)\n",
      "Requirement already satisfied: six>=1.5 in c:\\users\\34634\\anaconda3\\lib\\site-packages (from python-dateutil>=2.8.2->pandas<2.2,>=1.2->skforecast) (1.16.0)\n",
      "Requirement already satisfied: greenlet!=0.4.17 in c:\\users\\34634\\anaconda3\\lib\\site-packages (from sqlalchemy>=1.3.0->optuna<3.5,>=2.10.0->skforecast) (1.1.1)\n",
      "Requirement already satisfied: MarkupSafe>=0.9.2 in c:\\users\\34634\\anaconda3\\lib\\site-packages (from Mako->alembic>=1.5.0->optuna<3.5,>=2.10.0->skforecast) (2.0.1)\n",
      "Installing collected packages: pandas\n",
      "  Attempting uninstall: pandas\n",
      "    Found existing installation: pandas 2.2.2\n",
      "    Uninstalling pandas-2.2.2:\n",
      "      Successfully uninstalled pandas-2.2.2\n",
      "Successfully installed pandas-2.1.4\n",
      "Requirement already satisfied: dask[dataframe] in c:\\users\\34634\\anaconda3\\lib\\site-packages (2024.5.1)\n",
      "Requirement already satisfied: cloudpickle>=1.5.0 in c:\\users\\34634\\anaconda3\\lib\\site-packages (from dask[dataframe]) (2.0.0)\n",
      "Requirement already satisfied: packaging>=20.0 in c:\\users\\34634\\anaconda3\\lib\\site-packages (from dask[dataframe]) (21.3)\n",
      "Requirement already satisfied: click>=8.1 in c:\\users\\34634\\anaconda3\\lib\\site-packages (from dask[dataframe]) (8.1.7)\n",
      "Requirement already satisfied: fsspec>=2021.09.0 in c:\\users\\34634\\anaconda3\\lib\\site-packages (from dask[dataframe]) (2022.7.1)\n",
      "Requirement already satisfied: importlib-metadata>=4.13.0 in c:\\users\\34634\\anaconda3\\lib\\site-packages (from dask[dataframe]) (7.0.2)\n",
      "Requirement already satisfied: toolz>=0.10.0 in c:\\users\\34634\\anaconda3\\lib\\site-packages (from dask[dataframe]) (0.11.2)\n",
      "Requirement already satisfied: pyyaml>=5.3.1 in c:\\users\\34634\\anaconda3\\lib\\site-packages (from dask[dataframe]) (6.0)\n",
      "Requirement already satisfied: partd>=1.2.0 in c:\\users\\34634\\anaconda3\\lib\\site-packages (from dask[dataframe]) (1.2.0)\n",
      "Requirement already satisfied: pandas>=1.3 in c:\\users\\34634\\anaconda3\\lib\\site-packages (from dask[dataframe]) (2.1.4)\n",
      "Requirement already satisfied: dask-expr<1.2,>=1.1 in c:\\users\\34634\\anaconda3\\lib\\site-packages (from dask[dataframe]) (1.1.1)\n",
      "Requirement already satisfied: colorama in c:\\users\\34634\\anaconda3\\lib\\site-packages (from click>=8.1->dask[dataframe]) (0.4.5)\n",
      "Requirement already satisfied: pyarrow>=7.0.0 in c:\\users\\34634\\anaconda3\\lib\\site-packages (from dask-expr<1.2,>=1.1->dask[dataframe]) (15.0.0)\n",
      "Requirement already satisfied: zipp>=0.5 in c:\\users\\34634\\anaconda3\\lib\\site-packages (from importlib-metadata>=4.13.0->dask[dataframe]) (3.8.0)\n",
      "Requirement already satisfied: pyparsing!=3.0.5,>=2.0.2 in c:\\users\\34634\\anaconda3\\lib\\site-packages (from packaging>=20.0->dask[dataframe]) (3.0.9)\n",
      "Requirement already satisfied: pytz>=2020.1 in c:\\users\\34634\\anaconda3\\lib\\site-packages (from pandas>=1.3->dask[dataframe]) (2022.1)\n",
      "Requirement already satisfied: python-dateutil>=2.8.2 in c:\\users\\34634\\anaconda3\\lib\\site-packages (from pandas>=1.3->dask[dataframe]) (2.8.2)\n",
      "Requirement already satisfied: numpy<2,>=1.22.4 in c:\\users\\34634\\anaconda3\\lib\\site-packages (from pandas>=1.3->dask[dataframe]) (1.24.4)\n",
      "Requirement already satisfied: tzdata>=2022.1 in c:\\users\\34634\\anaconda3\\lib\\site-packages (from pandas>=1.3->dask[dataframe]) (2024.1)\n",
      "Requirement already satisfied: locket in c:\\users\\34634\\anaconda3\\lib\\site-packages (from partd>=1.2.0->dask[dataframe]) (1.0.0)\n",
      "Requirement already satisfied: six>=1.5 in c:\\users\\34634\\anaconda3\\lib\\site-packages (from python-dateutil>=2.8.2->pandas>=1.3->dask[dataframe]) (1.16.0)\n",
      "Requirement already satisfied: lightgbm in c:\\users\\34634\\anaconda3\\lib\\site-packages (4.3.0)\n",
      "Requirement already satisfied: numpy in c:\\users\\34634\\anaconda3\\lib\\site-packages (from lightgbm) (1.24.4)\n",
      "Requirement already satisfied: scipy in c:\\users\\34634\\anaconda3\\lib\\site-packages (from lightgbm) (1.9.1)\n",
      "Requirement already satisfied: matplotlib in c:\\users\\34634\\anaconda3\\lib\\site-packages (3.5.2)\n",
      "Requirement already satisfied: kiwisolver>=1.0.1 in c:\\users\\34634\\anaconda3\\lib\\site-packages (from matplotlib) (1.4.2)\n",
      "Requirement already satisfied: pillow>=6.2.0 in c:\\users\\34634\\anaconda3\\lib\\site-packages (from matplotlib) (9.2.0)\n",
      "Requirement already satisfied: cycler>=0.10 in c:\\users\\34634\\anaconda3\\lib\\site-packages (from matplotlib) (0.11.0)\n",
      "Requirement already satisfied: numpy>=1.17 in c:\\users\\34634\\anaconda3\\lib\\site-packages (from matplotlib) (1.24.4)\n",
      "Requirement already satisfied: packaging>=20.0 in c:\\users\\34634\\anaconda3\\lib\\site-packages (from matplotlib) (21.3)\n",
      "Requirement already satisfied: pyparsing>=2.2.1 in c:\\users\\34634\\anaconda3\\lib\\site-packages (from matplotlib) (3.0.9)\n",
      "Requirement already satisfied: fonttools>=4.22.0 in c:\\users\\34634\\anaconda3\\lib\\site-packages (from matplotlib) (4.25.0)\n",
      "Requirement already satisfied: python-dateutil>=2.7 in c:\\users\\34634\\anaconda3\\lib\\site-packages (from matplotlib) (2.8.2)\n",
      "Requirement already satisfied: six>=1.5 in c:\\users\\34634\\anaconda3\\lib\\site-packages (from python-dateutil>=2.7->matplotlib) (1.16.0)\n",
      "Requirement already satisfied: xgboost in c:\\users\\34634\\anaconda3\\lib\\site-packages (2.0.3)\n",
      "Requirement already satisfied: scipy in c:\\users\\34634\\anaconda3\\lib\\site-packages (from xgboost) (1.9.1)\n",
      "Requirement already satisfied: numpy in c:\\users\\34634\\anaconda3\\lib\\site-packages (from xgboost) (1.24.4)\n",
      "Requirement already satisfied: pandas in c:\\users\\34634\\anaconda3\\lib\\site-packages (2.1.4)\n",
      "Collecting pandas\n",
      "  Using cached pandas-2.2.2-cp39-cp39-win_amd64.whl (11.6 MB)\n",
      "Requirement already satisfied: ipython in c:\\users\\34634\\anaconda3\\lib\\site-packages (8.18.1)\n",
      "Requirement already satisfied: pytz>=2020.1 in c:\\users\\34634\\anaconda3\\lib\\site-packages (from pandas) (2022.1)\n",
      "Requirement already satisfied: numpy>=1.22.4 in c:\\users\\34634\\anaconda3\\lib\\site-packages (from pandas) (1.24.4)\n",
      "Requirement already satisfied: tzdata>=2022.7 in c:\\users\\34634\\anaconda3\\lib\\site-packages (from pandas) (2024.1)\n",
      "Requirement already satisfied: python-dateutil>=2.8.2 in c:\\users\\34634\\anaconda3\\lib\\site-packages (from pandas) (2.8.2)\n",
      "Requirement already satisfied: matplotlib-inline in c:\\users\\34634\\anaconda3\\lib\\site-packages (from ipython) (0.1.6)\n",
      "Requirement already satisfied: jedi>=0.16 in c:\\users\\34634\\anaconda3\\lib\\site-packages (from ipython) (0.18.1)\n",
      "Requirement already satisfied: traitlets>=5 in c:\\users\\34634\\anaconda3\\lib\\site-packages (from ipython) (5.1.1)\n",
      "Requirement already satisfied: exceptiongroup in c:\\users\\34634\\anaconda3\\lib\\site-packages (from ipython) (1.2.1)\n",
      "Requirement already satisfied: prompt-toolkit<3.1.0,>=3.0.41 in c:\\users\\34634\\anaconda3\\lib\\site-packages (from ipython) (3.0.43)\n",
      "Requirement already satisfied: stack-data in c:\\users\\34634\\anaconda3\\lib\\site-packages (from ipython) (0.6.3)\n",
      "Requirement already satisfied: typing-extensions in c:\\users\\34634\\anaconda3\\lib\\site-packages (from ipython) (4.3.0)\n",
      "Requirement already satisfied: colorama in c:\\users\\34634\\anaconda3\\lib\\site-packages (from ipython) (0.4.5)\n",
      "Requirement already satisfied: decorator in c:\\users\\34634\\anaconda3\\lib\\site-packages (from ipython) (5.1.1)\n",
      "Requirement already satisfied: pygments>=2.4.0 in c:\\users\\34634\\anaconda3\\lib\\site-packages (from ipython) (2.11.2)\n",
      "Requirement already satisfied: parso<0.9.0,>=0.8.0 in c:\\users\\34634\\anaconda3\\lib\\site-packages (from jedi>=0.16->ipython) (0.8.3)\n",
      "Requirement already satisfied: wcwidth in c:\\users\\34634\\anaconda3\\lib\\site-packages (from prompt-toolkit<3.1.0,>=3.0.41->ipython) (0.2.5)\n",
      "Requirement already satisfied: six>=1.5 in c:\\users\\34634\\anaconda3\\lib\\site-packages (from python-dateutil>=2.8.2->pandas) (1.16.0)\n",
      "Requirement already satisfied: executing>=1.2.0 in c:\\users\\34634\\anaconda3\\lib\\site-packages (from stack-data->ipython) (2.0.1)\n",
      "Requirement already satisfied: asttokens>=2.1.0 in c:\\users\\34634\\anaconda3\\lib\\site-packages (from stack-data->ipython) (2.4.1)\n",
      "Requirement already satisfied: pure-eval in c:\\users\\34634\\anaconda3\\lib\\site-packages (from stack-data->ipython) (0.2.2)\n",
      "Installing collected packages: pandas\n",
      "  Attempting uninstall: pandas\n",
      "    Found existing installation: pandas 2.1.4\n",
      "    Uninstalling pandas-2.1.4:\n",
      "      Successfully uninstalled pandas-2.1.4\n",
      "Successfully installed pandas-2.2.2\n"
     ]
    },
    {
     "name": "stderr",
     "output_type": "stream",
     "text": [
      "ERROR: pip's dependency resolver does not currently take into account all the packages that are installed. This behaviour is the source of the following dependency conflicts.\n",
      "skforecast 0.11.0 requires pandas<2.2,>=1.2, but you have pandas 2.2.2 which is incompatible.\n"
     ]
    }
   ],
   "source": [
    "#pre-requisites\n",
    "!pip install skforecast\n",
    "!pip install dask[dataframe]\n",
    "!pip install lightgbm\n",
    "!pip install matplotlib\n",
    "!pip install xgboost\n",
    "!pip install --upgrade pandas ipython"
   ]
  },
  {
   "cell_type": "code",
   "execution_count": 17,
   "id": "011df590",
   "metadata": {},
   "outputs": [],
   "source": [
    "import importlib\n",
    "import joblib\n",
    "import lightgbm as lgb\n",
    "import matplotlib\n",
    "import matplotlib.pyplot as plt\n",
    "import numpy as np\n",
    "import pandas as pd\n",
    "import warnings\n",
    "\n",
    "plt.style.use('fivethirtyeight')\n",
    "plt.rcParams['lines.linewidth'] = 1.5\n",
    "plt.rcParams['font.size'] = 10\n",
    "\n",
    "# forecast\n",
    "from skforecast.ForecasterAutoreg import ForecasterAutoreg\n",
    "from skforecast.model_selection import grid_search_forecaster\n",
    "\n",
    "# metrics\n",
    "from sklearn.metrics import mean_squared_error\n",
    "from sklearn.metrics import r2_score\n",
    "\n",
    "# models\n",
    "from lightgbm import LGBMRegressor\n",
    "from sklearn.ensemble import RandomForestRegressor\n",
    "from sklearn.neighbors import KNeighborsRegressor\n",
    "from sklearn.neural_network import MLPRegressor\n",
    "from sklearn.svm import SVR\n",
    "from xgboost import XGBRegressor\n",
    "\n",
    "warnings.filterwarnings('once')\n"
   ]
  },
  {
   "cell_type": "code",
   "execution_count": 18,
   "id": "93489ed5",
   "metadata": {},
   "outputs": [
    {
     "name": "stdout",
     "output_type": "stream",
     "text": [
      "Archivo: test_train_data_api_merged.csv\n",
      "            Id                 Time  Calories  Distance  Steps  HeartRate\n",
      "0       BSGSML  2024-02-15 18:13:00   1.30970       0.0      0       57.0\n",
      "1       BSGSML  2024-02-15 18:14:00   1.44067       0.0      0       58.0\n",
      "2       BSGSML  2024-02-15 18:15:00   1.44067       0.0      0       63.0\n",
      "3       BSGSML  2024-02-15 18:16:00   1.30970       0.0      0       58.0\n",
      "4       BSGSML  2024-02-15 18:17:00   1.44067       0.0      0       57.0\n",
      "...        ...                  ...       ...       ...    ...        ...\n",
      "103104  BSGSML  2024-04-30 23:55:00   1.57248       0.0      0       66.0\n",
      "103105  BSGSML  2024-04-30 23:56:00   1.31040       0.0      0       65.0\n",
      "103106  BSGSML  2024-04-30 23:57:00   1.31040       0.0      0       63.0\n",
      "103107  BSGSML  2024-04-30 23:58:00   1.31040       0.0      0       65.0\n",
      "103108  BSGSML  2024-04-30 23:59:00   1.31040       0.0      0       60.0\n",
      "\n",
      "[103109 rows x 6 columns]\n"
     ]
    }
   ],
   "source": [
    "data = pd.read_csv('../FitBit API Database/test_train_data_api_merged.csv')\n",
    "print(\"Archivo: test_train_data_api_merged.csv\")\n",
    "print(data)"
   ]
  },
  {
   "cell_type": "code",
   "execution_count": 19,
   "id": "33af827b",
   "metadata": {},
   "outputs": [
    {
     "data": {
      "text/html": [
       "<div>\n",
       "<style scoped>\n",
       "    .dataframe tbody tr th:only-of-type {\n",
       "        vertical-align: middle;\n",
       "    }\n",
       "\n",
       "    .dataframe tbody tr th {\n",
       "        vertical-align: top;\n",
       "    }\n",
       "\n",
       "    .dataframe thead th {\n",
       "        text-align: right;\n",
       "    }\n",
       "</style>\n",
       "<table border=\"1\" class=\"dataframe\">\n",
       "  <thead>\n",
       "    <tr style=\"text-align: right;\">\n",
       "      <th></th>\n",
       "      <th>Id</th>\n",
       "      <th>Calories</th>\n",
       "      <th>Distance</th>\n",
       "      <th>Steps</th>\n",
       "      <th>HeartRate</th>\n",
       "    </tr>\n",
       "    <tr>\n",
       "      <th>Time</th>\n",
       "      <th></th>\n",
       "      <th></th>\n",
       "      <th></th>\n",
       "      <th></th>\n",
       "      <th></th>\n",
       "    </tr>\n",
       "  </thead>\n",
       "  <tbody>\n",
       "    <tr>\n",
       "      <th>2024-02-15 18:13:00</th>\n",
       "      <td>BSGSML</td>\n",
       "      <td>1.30970</td>\n",
       "      <td>0.0</td>\n",
       "      <td>0.0</td>\n",
       "      <td>57.0</td>\n",
       "    </tr>\n",
       "    <tr>\n",
       "      <th>2024-02-15 18:14:00</th>\n",
       "      <td>BSGSML</td>\n",
       "      <td>1.44067</td>\n",
       "      <td>0.0</td>\n",
       "      <td>0.0</td>\n",
       "      <td>58.0</td>\n",
       "    </tr>\n",
       "    <tr>\n",
       "      <th>2024-02-15 18:15:00</th>\n",
       "      <td>BSGSML</td>\n",
       "      <td>1.44067</td>\n",
       "      <td>0.0</td>\n",
       "      <td>0.0</td>\n",
       "      <td>63.0</td>\n",
       "    </tr>\n",
       "    <tr>\n",
       "      <th>2024-02-15 18:16:00</th>\n",
       "      <td>BSGSML</td>\n",
       "      <td>1.30970</td>\n",
       "      <td>0.0</td>\n",
       "      <td>0.0</td>\n",
       "      <td>58.0</td>\n",
       "    </tr>\n",
       "    <tr>\n",
       "      <th>2024-02-15 18:17:00</th>\n",
       "      <td>BSGSML</td>\n",
       "      <td>1.44067</td>\n",
       "      <td>0.0</td>\n",
       "      <td>0.0</td>\n",
       "      <td>57.0</td>\n",
       "    </tr>\n",
       "    <tr>\n",
       "      <th>...</th>\n",
       "      <td>...</td>\n",
       "      <td>...</td>\n",
       "      <td>...</td>\n",
       "      <td>...</td>\n",
       "      <td>...</td>\n",
       "    </tr>\n",
       "    <tr>\n",
       "      <th>2024-04-30 23:55:00</th>\n",
       "      <td>BSGSML</td>\n",
       "      <td>1.57248</td>\n",
       "      <td>0.0</td>\n",
       "      <td>0.0</td>\n",
       "      <td>66.0</td>\n",
       "    </tr>\n",
       "    <tr>\n",
       "      <th>2024-04-30 23:56:00</th>\n",
       "      <td>BSGSML</td>\n",
       "      <td>1.31040</td>\n",
       "      <td>0.0</td>\n",
       "      <td>0.0</td>\n",
       "      <td>65.0</td>\n",
       "    </tr>\n",
       "    <tr>\n",
       "      <th>2024-04-30 23:57:00</th>\n",
       "      <td>BSGSML</td>\n",
       "      <td>1.31040</td>\n",
       "      <td>0.0</td>\n",
       "      <td>0.0</td>\n",
       "      <td>63.0</td>\n",
       "    </tr>\n",
       "    <tr>\n",
       "      <th>2024-04-30 23:58:00</th>\n",
       "      <td>BSGSML</td>\n",
       "      <td>1.31040</td>\n",
       "      <td>0.0</td>\n",
       "      <td>0.0</td>\n",
       "      <td>65.0</td>\n",
       "    </tr>\n",
       "    <tr>\n",
       "      <th>2024-04-30 23:59:00</th>\n",
       "      <td>BSGSML</td>\n",
       "      <td>1.31040</td>\n",
       "      <td>0.0</td>\n",
       "      <td>0.0</td>\n",
       "      <td>60.0</td>\n",
       "    </tr>\n",
       "  </tbody>\n",
       "</table>\n",
       "<p>108347 rows × 5 columns</p>\n",
       "</div>"
      ],
      "text/plain": [
       "                         Id  Calories  Distance  Steps  HeartRate\n",
       "Time                                                             \n",
       "2024-02-15 18:13:00  BSGSML   1.30970       0.0    0.0       57.0\n",
       "2024-02-15 18:14:00  BSGSML   1.44067       0.0    0.0       58.0\n",
       "2024-02-15 18:15:00  BSGSML   1.44067       0.0    0.0       63.0\n",
       "2024-02-15 18:16:00  BSGSML   1.30970       0.0    0.0       58.0\n",
       "2024-02-15 18:17:00  BSGSML   1.44067       0.0    0.0       57.0\n",
       "...                     ...       ...       ...    ...        ...\n",
       "2024-04-30 23:55:00  BSGSML   1.57248       0.0    0.0       66.0\n",
       "2024-04-30 23:56:00  BSGSML   1.31040       0.0    0.0       65.0\n",
       "2024-04-30 23:57:00  BSGSML   1.31040       0.0    0.0       63.0\n",
       "2024-04-30 23:58:00  BSGSML   1.31040       0.0    0.0       65.0\n",
       "2024-04-30 23:59:00  BSGSML   1.31040       0.0    0.0       60.0\n",
       "\n",
       "[108347 rows x 5 columns]"
      ]
     },
     "execution_count": 19,
     "metadata": {},
     "output_type": "execute_result"
    }
   ],
   "source": [
    "data['Time'] = pd.to_datetime(data['Time'], format='%Y-%m-%d %H:%M:%S')\n",
    "data = data.set_index('Time')\n",
    "data = data.asfreq('60s')\n",
    "data = data.sort_index()\n",
    "\n",
    "data"
   ]
  },
  {
   "cell_type": "code",
   "execution_count": 20,
   "id": "04680990",
   "metadata": {},
   "outputs": [
    {
     "name": "stdout",
     "output_type": "stream",
     "text": [
      "Forecasting info : ( steps := 5, lags := 25)\n"
     ]
    }
   ],
   "source": [
    "steps = 5\n",
    "lags =  5 * steps\n",
    "print(f\"Forecasting info : ( steps := {steps}, lags := {lags})\")"
   ]
  },
  {
   "cell_type": "code",
   "execution_count": 21,
   "id": "d8e22ca2",
   "metadata": {},
   "outputs": [
    {
     "name": "stdout",
     "output_type": "stream",
     "text": [
      "Fechas train : 2024-02-15 18:13:00 --- 2024-04-30 23:54:00  (n=108342)\n",
      "Fechas test  : 2024-04-30 23:55:00 --- 2024-04-30 23:59:00  (n=5)\n",
      "Número de filas con missing values : (datos_train) : 0.048346901478650936\n",
      "Número de filas con missing values:  (datos_test) : 0.0\n"
     ]
    }
   ],
   "source": [
    "datos_train = data[:-steps]\n",
    "datos_test  = data[-steps:]\n",
    "\n",
    "print(\n",
    "    f\"Fechas train : {datos_train.index.min()} --- {datos_train.index.max()}  (n={len(datos_train)})\"\n",
    ")\n",
    "print(\n",
    "    f\"Fechas test  : {datos_test.index.min()} --- {datos_test.index.max()}  (n={len(datos_test)})\"\n",
    ")\n",
    "\n",
    "print(f'Número de filas con missing values : (datos_train) : {datos_train.isnull().any(axis=1).mean()}')\n",
    "print(f'Número de filas con missing values:  (datos_test) : {datos_test.isnull().any(axis=1).mean()}')"
   ]
  },
  {
   "cell_type": "code",
   "execution_count": 22,
   "id": "0911a4ce",
   "metadata": {},
   "outputs": [
    {
     "name": "stdout",
     "output_type": "stream",
     "text": [
      "                         Id  Calories  Distance  Steps  HeartRate\n",
      "Time                                                             \n",
      "2024-02-15 18:13:00  BSGSML   1.30970    0.0000    0.0       57.0\n",
      "2024-02-15 18:14:00  BSGSML   1.44067    0.0000    0.0       58.0\n",
      "2024-02-15 18:15:00  BSGSML   1.44067    0.0000    0.0       63.0\n",
      "2024-02-15 18:16:00  BSGSML   1.30970    0.0000    0.0       58.0\n",
      "2024-02-15 18:17:00  BSGSML   1.44067    0.0000    0.0       57.0\n",
      "...                     ...       ...       ...    ...        ...\n",
      "2024-04-30 23:50:00  BSGSML   3.40704    0.0044    6.0       74.0\n",
      "2024-04-30 23:51:00  BSGSML   1.70352    0.0000    0.0       73.0\n",
      "2024-04-30 23:52:00  BSGSML   1.57248    0.0000    0.0       68.0\n",
      "2024-04-30 23:53:00  BSGSML   1.31040    0.0000    0.0       68.0\n",
      "2024-04-30 23:54:00  BSGSML   1.31040    0.0000    0.0       68.0\n",
      "\n",
      "[108342 rows x 5 columns]\n"
     ]
    }
   ],
   "source": [
    "datos_train = datos_train.bfill();\n",
    "print(datos_train)"
   ]
  },
  {
   "cell_type": "code",
   "execution_count": 23,
   "id": "93faecf7",
   "metadata": {},
   "outputs": [
    {
     "name": "stdout",
     "output_type": "stream",
     "text": [
      "                         Id  Calories  Distance  Steps  HeartRate\n",
      "Time                                                             \n",
      "2024-04-30 23:55:00  BSGSML   1.57248       0.0    0.0       66.0\n",
      "2024-04-30 23:56:00  BSGSML   1.31040       0.0    0.0       65.0\n",
      "2024-04-30 23:57:00  BSGSML   1.31040       0.0    0.0       63.0\n",
      "2024-04-30 23:58:00  BSGSML   1.31040       0.0    0.0       65.0\n",
      "2024-04-30 23:59:00  BSGSML   1.31040       0.0    0.0       60.0\n"
     ]
    }
   ],
   "source": [
    "datos_test= datos_test.bfill();\n",
    "print(datos_test)"
   ]
  },
  {
   "cell_type": "code",
   "execution_count": 24,
   "id": "6bb98663",
   "metadata": {},
   "outputs": [
    {
     "name": "stdout",
     "output_type": "stream",
     "text": [
      "Número de filas con missing values : (datos_train) : 0.0\n",
      "Número de filas con missing values:  (datos_test) : 0.0\n"
     ]
    }
   ],
   "source": [
    "print(f'Número de filas con missing values : (datos_train) : {datos_train.isnull().any(axis=1).mean()}')\n",
    "print(f'Número de filas con missing values:  (datos_test) : {datos_test.isnull().any(axis=1).mean()}')"
   ]
  },
  {
   "cell_type": "markdown",
   "id": "5cfac82f",
   "metadata": {},
   "source": [
    "# LightGBM"
   ]
  },
  {
   "cell_type": "code",
   "execution_count": 25,
   "id": "1945869c",
   "metadata": {},
   "outputs": [
    {
     "name": "stdout",
     "output_type": "stream",
     "text": [
      "[LightGBM] [Info] Auto-choosing col-wise multi-threading, the overhead of testing was 0.017529 seconds.\n",
      "You can set `force_col_wise=true` to remove the overhead.\n",
      "[LightGBM] [Info] Total Bins 3610\n",
      "[LightGBM] [Info] Number of data points in the train set: 108317, number of used features: 28\n",
      "[LightGBM] [Info] Start training from score 65.772483\n"
     ]
    },
    {
     "data": {
      "text/plain": [
       "================= \n",
       "ForecasterAutoreg \n",
       "================= \n",
       "Regressor: LGBMRegressor(objective='regression', random_state=123) \n",
       "Lags: [ 1  2  3  4  5  6  7  8  9 10 11 12 13 14 15 16 17 18 19 20 21 22 23 24\n",
       " 25] \n",
       "Transformer for y: None \n",
       "Transformer for exog: None \n",
       "Window size: 25 \n",
       "Weight function included: False \n",
       "Differentiation order: None \n",
       "Exogenous included: True \n",
       "Type of exogenous variable: <class 'pandas.core.frame.DataFrame'> \n",
       "Exogenous variables names: ['Calories', 'Steps', 'Distance'] \n",
       "Training range: [Timestamp('2024-02-15 18:13:00'), Timestamp('2024-04-30 23:54:00')] \n",
       "Training index type: DatetimeIndex \n",
       "Training index frequency: 60s \n",
       "Regressor parameters: {'boosting_type': 'gbdt', 'class_weight': None, 'colsample_bytree': 1.0, 'importance_type': 'split', 'learning_rate': 0.1, 'max_depth': -1, 'min_child_samples': 20, 'min_child_weight': 0.001, 'min_split_gain': 0.0, 'n_estimators': 100, 'n_jobs': None, 'num_leaves': 31, 'objective': 'regression', 'random_state': 123, 'reg_alpha': 0.0, 'reg_lambda': 0.0, 'subsample': 1.0, 'subsample_for_bin': 200000, 'subsample_freq': 0} \n",
       "fit_kwargs: {} \n",
       "Creation date: 2024-05-21 18:41:36 \n",
       "Last fit date: 2024-05-21 18:41:38 \n",
       "Skforecast version: 0.11.0 \n",
       "Python version: 3.9.13 \n",
       "Forecaster id: None "
      ]
     },
     "execution_count": 25,
     "metadata": {},
     "output_type": "execute_result"
    }
   ],
   "source": [
    "forecaster = ForecasterAutoreg(\n",
    "                regressor = lgb.LGBMRegressor(objective='regression', random_state=123),\n",
    "                lags      = lags\n",
    "             )\n",
    "\n",
    "forecaster.fit(y=datos_train['HeartRate'], exog=datos_train[['Calories','Steps','Distance']])\n",
    "forecaster"
   ]
  },
  {
   "cell_type": "code",
   "execution_count": 26,
   "id": "0ed5ab8a",
   "metadata": {},
   "outputs": [
    {
     "data": {
      "text/plain": [
       "2024-04-30 23:55:00    69.345186\n",
       "2024-04-30 23:56:00    65.562093\n",
       "2024-04-30 23:57:00    63.960656\n",
       "2024-04-30 23:58:00    63.075829\n",
       "2024-04-30 23:59:00    62.891153\n",
       "Freq: 60s, Name: pred, dtype: float64"
      ]
     },
     "execution_count": 26,
     "metadata": {},
     "output_type": "execute_result"
    }
   ],
   "source": [
    "predicciones = forecaster.predict(steps=steps,  exog=datos_test[['Calories', 'Steps', 'Distance']])\n",
    "predicciones"
   ]
  },
  {
   "cell_type": "code",
   "execution_count": 27,
   "id": "6c84f876",
   "metadata": {},
   "outputs": [
    {
     "data": {
      "text/plain": [
       "Time\n",
       "2024-04-30 23:55:00    66.0\n",
       "2024-04-30 23:56:00    65.0\n",
       "2024-04-30 23:57:00    63.0\n",
       "2024-04-30 23:58:00    65.0\n",
       "2024-04-30 23:59:00    60.0\n",
       "Freq: 60s, Name: HeartRate, dtype: float64"
      ]
     },
     "execution_count": 27,
     "metadata": {},
     "output_type": "execute_result"
    }
   ],
   "source": [
    "datos_test['HeartRate']"
   ]
  },
  {
   "cell_type": "code",
   "execution_count": 28,
   "id": "d074ed71",
   "metadata": {},
   "outputs": [
    {
     "name": "stdout",
     "output_type": "stream",
     "text": [
      "Error de test (mse): 4.898055516634308\n"
     ]
    }
   ],
   "source": [
    "# Error test\n",
    "# ==============================================================================\n",
    "error_mse = mean_squared_error(\n",
    "                y_true = datos_test['HeartRate'],\n",
    "                y_pred = predicciones\n",
    "            )\n",
    "\n",
    "print(f\"Error de test (mse): {error_mse}\")"
   ]
  },
  {
   "cell_type": "code",
   "execution_count": 29,
   "id": "8f0bd59c",
   "metadata": {},
   "outputs": [
    {
     "data": {
      "image/png": "[encoded data removed]",
      "text/plain": [
       "<Figure size 600x250 with 1 Axes>"
      ]
     },
     "metadata": {},
     "output_type": "display_data"
    }
   ],
   "source": [
    "fig, ax = plt.subplots(figsize=(6, 2.5))\n",
    "\n",
    "\n",
    "predicciones.plot(ax=ax, label='Predicciones')\n",
    "datos_test['HeartRate'].plot(ax=ax, label='Datos_test')\n",
    "\n",
    "ax.legend()\n",
    "ax.set_xlabel('Time')\n",
    "ax.set_ylabel('HeartRate')\n",
    "\n",
    "plt.show()"
   ]
  },
  {
   "cell_type": "markdown",
   "id": "7d4db711",
   "metadata": {},
   "source": [
    "# XGBoost"
   ]
  },
  {
   "cell_type": "code",
   "execution_count": 40,
   "id": "31d12b81",
   "metadata": {},
   "outputs": [
    {
     "data": {
      "text/plain": [
       "================= \n",
       "ForecasterAutoreg \n",
       "================= \n",
       "Regressor: XGBRegressor(base_score=None, booster=None, callbacks=None,\n",
       "             colsample_bylevel=None, colsample_bynode=None,\n",
       "             colsample_bytree=None, device=None, early_stopping_rounds=None,\n",
       "             enable_categorical=False, eval_metric=None, feature_types=None,\n",
       "             gamma=None, grow_policy=None, importance_type=None,\n",
       "             interaction_constraints=None, learning_rate=None, max_bin=None,\n",
       "             max_cat_threshold=None, max_cat_to_onehot=None,\n",
       "             max_delta_step=None, max_depth=None, max_leaves=None,\n",
       "             min_child_weight=None, missing=nan, monotone_constraints=None,\n",
       "             multi_strategy=None, n_estimators=None, n_jobs=None,\n",
       "             num_parallel_tree=None, random_state=123, ...) \n",
       "Lags: [ 1  2  3  4  5  6  7  8  9 10 11 12 13 14 15 16 17 18 19 20 21 22 23 24\n",
       " 25] \n",
       "Transformer for y: None \n",
       "Transformer for exog: None \n",
       "Window size: 25 \n",
       "Weight function included: False \n",
       "Differentiation order: None \n",
       "Exogenous included: True \n",
       "Type of exogenous variable: <class 'pandas.core.frame.DataFrame'> \n",
       "Exogenous variables names: ['Calories', 'Steps', 'Distance'] \n",
       "Training range: [Timestamp('2024-02-15 18:13:00'), Timestamp('2024-04-30 23:54:00')] \n",
       "Training index type: DatetimeIndex \n",
       "Training index frequency: 60s \n",
       "Regressor parameters: {'objective': 'reg:squarederror', 'base_score': None, 'booster': None, 'callbacks': None, 'colsample_bylevel': None, 'colsample_bynode': None, 'colsample_bytree': None, 'device': None, 'early_stopping_rounds': None, 'enable_categorical': False, 'eval_metric': None, 'feature_types': None, 'gamma': None, 'grow_policy': None, 'importance_type': None, 'interaction_constraints': None, 'learning_rate': None, 'max_bin': None, 'max_cat_threshold': None, 'max_cat_to_onehot': None, 'max_delta_step': None, 'max_depth': None, 'max_leaves': None, 'min_child_weight': None, 'missing': nan, 'monotone_constraints': None, 'multi_strategy': None, 'n_estimators': None, 'n_jobs': None, 'num_parallel_tree': None, 'random_state': 123, 'reg_alpha': None, 'reg_lambda': None, 'sampling_method': None, 'scale_pos_weight': None, 'subsample': None, 'tree_method': None, 'validate_parameters': None, 'verbosity': None} \n",
       "fit_kwargs: {} \n",
       "Creation date: 2024-05-21 18:47:56 \n",
       "Last fit date: 2024-05-21 18:47:57 \n",
       "Skforecast version: 0.11.0 \n",
       "Python version: 3.9.13 \n",
       "Forecaster id: None "
      ]
     },
     "execution_count": 40,
     "metadata": {},
     "output_type": "execute_result"
    }
   ],
   "source": [
    "forecaster = ForecasterAutoreg(\n",
    "                regressor = XGBRegressor(random_state=123),\n",
    "                lags      = lags\n",
    "             )\n",
    "\n",
    "forecaster.fit(y=datos_train['HeartRate'], exog=datos_train[['Calories','Steps','Distance']])\n",
    "forecaster"
   ]
  },
  {
   "cell_type": "code",
   "execution_count": 41,
   "id": "12ea9f7f",
   "metadata": {},
   "outputs": [
    {
     "data": {
      "text/plain": [
       "2024-04-30 23:55:00    69.224411\n",
       "2024-04-30 23:56:00    65.713776\n",
       "2024-04-30 23:57:00    63.907448\n",
       "2024-04-30 23:58:00    63.162544\n",
       "2024-04-30 23:59:00    63.014301\n",
       "Freq: 60s, Name: pred, dtype: float64"
      ]
     },
     "execution_count": 41,
     "metadata": {},
     "output_type": "execute_result"
    }
   ],
   "source": [
    "predicciones = forecaster.predict(steps=steps,  exog=datos_test[['Calories', 'Steps', 'Distance']])\n",
    "predicciones"
   ]
  },
  {
   "cell_type": "code",
   "execution_count": 42,
   "id": "c41d7ca0",
   "metadata": {},
   "outputs": [
    {
     "data": {
      "text/html": [
       "<div>\n",
       "<style scoped>\n",
       "    .dataframe tbody tr th:only-of-type {\n",
       "        vertical-align: middle;\n",
       "    }\n",
       "\n",
       "    .dataframe tbody tr th {\n",
       "        vertical-align: top;\n",
       "    }\n",
       "\n",
       "    .dataframe thead th {\n",
       "        text-align: right;\n",
       "    }\n",
       "</style>\n",
       "<table border=\"1\" class=\"dataframe\">\n",
       "  <thead>\n",
       "    <tr style=\"text-align: right;\">\n",
       "      <th></th>\n",
       "      <th>Id</th>\n",
       "      <th>Calories</th>\n",
       "      <th>Distance</th>\n",
       "      <th>Steps</th>\n",
       "      <th>HeartRate</th>\n",
       "    </tr>\n",
       "    <tr>\n",
       "      <th>Time</th>\n",
       "      <th></th>\n",
       "      <th></th>\n",
       "      <th></th>\n",
       "      <th></th>\n",
       "      <th></th>\n",
       "    </tr>\n",
       "  </thead>\n",
       "  <tbody>\n",
       "    <tr>\n",
       "      <th>2024-04-30 23:55:00</th>\n",
       "      <td>BSGSML</td>\n",
       "      <td>1.57248</td>\n",
       "      <td>0.0</td>\n",
       "      <td>0.0</td>\n",
       "      <td>66.0</td>\n",
       "    </tr>\n",
       "    <tr>\n",
       "      <th>2024-04-30 23:56:00</th>\n",
       "      <td>BSGSML</td>\n",
       "      <td>1.31040</td>\n",
       "      <td>0.0</td>\n",
       "      <td>0.0</td>\n",
       "      <td>65.0</td>\n",
       "    </tr>\n",
       "    <tr>\n",
       "      <th>2024-04-30 23:57:00</th>\n",
       "      <td>BSGSML</td>\n",
       "      <td>1.31040</td>\n",
       "      <td>0.0</td>\n",
       "      <td>0.0</td>\n",
       "      <td>63.0</td>\n",
       "    </tr>\n",
       "    <tr>\n",
       "      <th>2024-04-30 23:58:00</th>\n",
       "      <td>BSGSML</td>\n",
       "      <td>1.31040</td>\n",
       "      <td>0.0</td>\n",
       "      <td>0.0</td>\n",
       "      <td>65.0</td>\n",
       "    </tr>\n",
       "    <tr>\n",
       "      <th>2024-04-30 23:59:00</th>\n",
       "      <td>BSGSML</td>\n",
       "      <td>1.31040</td>\n",
       "      <td>0.0</td>\n",
       "      <td>0.0</td>\n",
       "      <td>60.0</td>\n",
       "    </tr>\n",
       "  </tbody>\n",
       "</table>\n",
       "</div>"
      ],
      "text/plain": [
       "                         Id  Calories  Distance  Steps  HeartRate\n",
       "Time                                                             \n",
       "2024-04-30 23:55:00  BSGSML   1.57248       0.0    0.0       66.0\n",
       "2024-04-30 23:56:00  BSGSML   1.31040       0.0    0.0       65.0\n",
       "2024-04-30 23:57:00  BSGSML   1.31040       0.0    0.0       63.0\n",
       "2024-04-30 23:58:00  BSGSML   1.31040       0.0    0.0       65.0\n",
       "2024-04-30 23:59:00  BSGSML   1.31040       0.0    0.0       60.0"
      ]
     },
     "execution_count": 42,
     "metadata": {},
     "output_type": "execute_result"
    }
   ],
   "source": [
    "datos_test"
   ]
  },
  {
   "cell_type": "code",
   "execution_count": 43,
   "id": "3abc415b",
   "metadata": {},
   "outputs": [
    {
     "name": "stdout",
     "output_type": "stream",
     "text": [
      "Error de test (mse): 4.838403903742437\n"
     ]
    }
   ],
   "source": [
    "# Error test\n",
    "# ==============================================================================\n",
    "error_mse = mean_squared_error(\n",
    "                y_true = datos_test['HeartRate'],\n",
    "                y_pred = predicciones\n",
    "            )\n",
    "\n",
    "print(f\"Error de test (mse): {error_mse}\")"
   ]
  },
  {
   "cell_type": "code",
   "execution_count": 44,
   "id": "25cd9381",
   "metadata": {},
   "outputs": [
    {
     "data": {
      "image/png": "[encoded data removed]",
      "text/plain": [
       "<Figure size 600x250 with 1 Axes>"
      ]
     },
     "metadata": {},
     "output_type": "display_data"
    }
   ],
   "source": [
    "fig, ax = plt.subplots(figsize=(6, 2.5))\n",
    "\n",
    "\n",
    "datos_test['HeartRate'].plot(ax=ax, label='Datos_test')\n",
    "predicciones.plot(ax=ax, label='Predicciones')\n",
    "\n",
    "ax.legend()\n",
    "ax.set_xlabel('Time')\n",
    "ax.set_ylabel('HeartRate')\n",
    "\n",
    "plt.show()"
   ]
  },
  {
   "cell_type": "markdown",
   "id": "3fe20796",
   "metadata": {},
   "source": [
    "# Tunning XGBoost"
   ]
  },
  {
   "cell_type": "code",
   "execution_count": 46,
   "id": "5e3a4a32",
   "metadata": {},
   "outputs": [
    {
     "name": "stdout",
     "output_type": "stream",
     "text": [
      "Number of models compared: 18.\n"
     ]
    },
    {
     "data": {
      "application/vnd.jupyter.widget-view+json": {
       "model_id": "dddcbea3160f4ccda63b8336943889b5",
       "version_major": 2,
       "version_minor": 0
      },
      "text/plain": [
       "lags grid:   0%|          | 0/2 [00:00<?, ?it/s]"
      ]
     },
     "metadata": {},
     "output_type": "display_data"
    },
    {
     "data": {
      "application/vnd.jupyter.widget-view+json": {
       "model_id": "",
       "version_major": 2,
       "version_minor": 0
      },
      "text/plain": [
       "params grid:   0%|          | 0/9 [00:00<?, ?it/s]"
      ]
     },
     "metadata": {},
     "output_type": "display_data"
    },
    {
     "name": "stdout",
     "output_type": "stream",
     "text": [
      "`Forecaster` refitted using the best-found lags and parameters, and the whole data set: \n",
      "  Lags: [ 1  2  3  4  5  6  7  8  9 10 11 12 13 14 15 16 17 18 19 20] \n",
      "  Parameters: {'max_depth': 3, 'n_estimators': 100}\n",
      "  Backtesting metric: 39.92395972258101\n",
      "\n"
     ]
    }
   ],
   "source": [
    "lags_grid = [1, 20]\n",
    "\n",
    "param_grid = {'n_estimators': [100,200, 500],\n",
    "               'max_depth': [3, 5, 10]}\n",
    "\n",
    "resultados_grid = grid_search_forecaster(\n",
    "                         forecaster         = forecaster,\n",
    "                         y                  = datos_train['HeartRate'],\n",
    "                         param_grid         = param_grid,\n",
    "                         lags_grid          = lags_grid,\n",
    "                         steps              = steps,\n",
    "                         refit              = False,\n",
    "                         metric             = 'mean_squared_error',\n",
    "                         initial_train_size = int(len(datos_train)*0.5),\n",
    "                         fixed_train_size   = False,\n",
    "                         return_best        = True,\n",
    "                         n_jobs             = 'auto',\n",
    "                         verbose            = False\n",
    "                   )\n",
    "\n",
    "resultados_grid.head()\n",
    "best_params = {'n_estimators': resultados_grid.iloc[0]['n_estimators'],\n",
    "               'max_depth': resultados_grid.iloc[0]['max_depth']}\n",
    "\n",
    "tunned_XGBoost_model = XGBRegressor(random_state=123, **best_params)\n",
    "forecaster = ForecasterAutoreg(\n",
    "                 regressor = tunned_XGBoost_model,\n",
    "                 lags      = len(resultados_grid.iloc[0]['lags']),\n",
    "                \n",
    "              )\n",
    "\n",
    "forecaster.fit(y=datos_train['HeartRate'], exog=datos_train[['Calories','Steps','Distance']])"
   ]
  },
  {
   "cell_type": "code",
   "execution_count": 47,
   "id": "a2f987d1",
   "metadata": {},
   "outputs": [
    {
     "data": {
      "text/plain": [
       "2024-04-30 23:55:00    69.852966\n",
       "2024-04-30 23:56:00    64.405212\n",
       "2024-04-30 23:57:00    62.884987\n",
       "2024-04-30 23:58:00    61.715897\n",
       "2024-04-30 23:59:00    61.077805\n",
       "Freq: 60s, Name: pred, dtype: float64"
      ]
     },
     "execution_count": 47,
     "metadata": {},
     "output_type": "execute_result"
    }
   ],
   "source": [
    "predicciones = forecaster.predict(steps=steps,  exog=datos_test[['Calories', 'Steps', 'Distance']])\n",
    "predicciones"
   ]
  },
  {
   "cell_type": "code",
   "execution_count": 48,
   "id": "e05327d7",
   "metadata": {},
   "outputs": [
    {
     "data": {
      "text/html": [
       "<div>\n",
       "<style scoped>\n",
       "    .dataframe tbody tr th:only-of-type {\n",
       "        vertical-align: middle;\n",
       "    }\n",
       "\n",
       "    .dataframe tbody tr th {\n",
       "        vertical-align: top;\n",
       "    }\n",
       "\n",
       "    .dataframe thead th {\n",
       "        text-align: right;\n",
       "    }\n",
       "</style>\n",
       "<table border=\"1\" class=\"dataframe\">\n",
       "  <thead>\n",
       "    <tr style=\"text-align: right;\">\n",
       "      <th></th>\n",
       "      <th>Id</th>\n",
       "      <th>Calories</th>\n",
       "      <th>Distance</th>\n",
       "      <th>Steps</th>\n",
       "      <th>HeartRate</th>\n",
       "    </tr>\n",
       "    <tr>\n",
       "      <th>Time</th>\n",
       "      <th></th>\n",
       "      <th></th>\n",
       "      <th></th>\n",
       "      <th></th>\n",
       "      <th></th>\n",
       "    </tr>\n",
       "  </thead>\n",
       "  <tbody>\n",
       "    <tr>\n",
       "      <th>2024-04-30 23:55:00</th>\n",
       "      <td>BSGSML</td>\n",
       "      <td>1.57248</td>\n",
       "      <td>0.0</td>\n",
       "      <td>0.0</td>\n",
       "      <td>66.0</td>\n",
       "    </tr>\n",
       "    <tr>\n",
       "      <th>2024-04-30 23:56:00</th>\n",
       "      <td>BSGSML</td>\n",
       "      <td>1.31040</td>\n",
       "      <td>0.0</td>\n",
       "      <td>0.0</td>\n",
       "      <td>65.0</td>\n",
       "    </tr>\n",
       "    <tr>\n",
       "      <th>2024-04-30 23:57:00</th>\n",
       "      <td>BSGSML</td>\n",
       "      <td>1.31040</td>\n",
       "      <td>0.0</td>\n",
       "      <td>0.0</td>\n",
       "      <td>63.0</td>\n",
       "    </tr>\n",
       "    <tr>\n",
       "      <th>2024-04-30 23:58:00</th>\n",
       "      <td>BSGSML</td>\n",
       "      <td>1.31040</td>\n",
       "      <td>0.0</td>\n",
       "      <td>0.0</td>\n",
       "      <td>65.0</td>\n",
       "    </tr>\n",
       "    <tr>\n",
       "      <th>2024-04-30 23:59:00</th>\n",
       "      <td>BSGSML</td>\n",
       "      <td>1.31040</td>\n",
       "      <td>0.0</td>\n",
       "      <td>0.0</td>\n",
       "      <td>60.0</td>\n",
       "    </tr>\n",
       "  </tbody>\n",
       "</table>\n",
       "</div>"
      ],
      "text/plain": [
       "                         Id  Calories  Distance  Steps  HeartRate\n",
       "Time                                                             \n",
       "2024-04-30 23:55:00  BSGSML   1.57248       0.0    0.0       66.0\n",
       "2024-04-30 23:56:00  BSGSML   1.31040       0.0    0.0       65.0\n",
       "2024-04-30 23:57:00  BSGSML   1.31040       0.0    0.0       63.0\n",
       "2024-04-30 23:58:00  BSGSML   1.31040       0.0    0.0       65.0\n",
       "2024-04-30 23:59:00  BSGSML   1.31040       0.0    0.0       60.0"
      ]
     },
     "execution_count": 48,
     "metadata": {},
     "output_type": "execute_result"
    }
   ],
   "source": [
    "datos_test"
   ]
  },
  {
   "cell_type": "code",
   "execution_count": 50,
   "id": "cfe10f8d",
   "metadata": {},
   "outputs": [
    {
     "name": "stdout",
     "output_type": "stream",
     "text": [
      "Error de test (mse): 5.431869492132682\n"
     ]
    }
   ],
   "source": [
    "# # Error test\n",
    "# # ==============================================================================\n",
    "error_mse = mean_squared_error(\n",
    "                 y_true = datos_test['HeartRate'],\n",
    "                 y_pred = predicciones\n",
    "             )\n",
    "\n",
    "print(f\"Error de test (mse): {error_mse}\")"
   ]
  },
  {
   "cell_type": "code",
   "execution_count": 51,
   "id": "fab88d95",
   "metadata": {},
   "outputs": [
    {
     "data": {
      "image/png": "[encoded data removed]",
      "text/plain": [
       "<Figure size 600x250 with 1 Axes>"
      ]
     },
     "metadata": {},
     "output_type": "display_data"
    }
   ],
   "source": [
    "fig, ax = plt.subplots(figsize=(6, 2.5))\n",
    "\n",
    "datos_test['HeartRate'].plot(ax=ax, label='Datos_test')\n",
    "predicciones.plot(ax=ax, label='Predicciones')\n",
    "\n",
    "ax.legend()\n",
    "ax.set_xlabel('Time')\n",
    "ax.set_ylabel('HeartRate')\n",
    "plt.show()"
   ]
  },
  {
   "cell_type": "markdown",
   "id": "a51608be",
   "metadata": {},
   "source": [
    "# KNN Regressor"
   ]
  },
  {
   "cell_type": "code",
   "execution_count": 52,
   "id": "91d53944",
   "metadata": {},
   "outputs": [],
   "source": [
    "n_neighbors = 5\n",
    "knn_model = KNeighborsRegressor(n_neighbors=n_neighbors)"
   ]
  },
  {
   "cell_type": "code",
   "execution_count": 53,
   "id": "9a38c520",
   "metadata": {},
   "outputs": [
    {
     "name": "stderr",
     "output_type": "stream",
     "text": [
      "C:\\Users\\34634\\anaconda3\\lib\\site-packages\\pandas\\core\\algorithms.py:1743: DeprecationWarning: is_sparse is deprecated and will be removed in a future version. Check `isinstance(dtype, pd.SparseDtype)` instead.\n",
      "  return lib.map_infer(values, mapper, convert=convert)\n",
      "C:\\Users\\34634\\anaconda3\\lib\\site-packages\\pandas\\core\\algorithms.py:1743: DeprecationWarning: is_sparse is deprecated and will be removed in a future version. Check `isinstance(dtype, pd.SparseDtype)` instead.\n",
      "  return lib.map_infer(values, mapper, convert=convert)\n"
     ]
    },
    {
     "data": {
      "text/plain": [
       "================= \n",
       "ForecasterAutoreg \n",
       "================= \n",
       "Regressor: KNeighborsRegressor() \n",
       "Lags: [ 1  2  3  4  5  6  7  8  9 10 11 12 13 14 15 16 17 18 19 20 21 22 23 24\n",
       " 25] \n",
       "Transformer for y: None \n",
       "Transformer for exog: None \n",
       "Window size: 25 \n",
       "Weight function included: False \n",
       "Differentiation order: None \n",
       "Exogenous included: True \n",
       "Type of exogenous variable: <class 'pandas.core.frame.DataFrame'> \n",
       "Exogenous variables names: ['Calories', 'Steps', 'Distance'] \n",
       "Training range: [Timestamp('2024-02-15 18:13:00'), Timestamp('2024-04-30 23:54:00')] \n",
       "Training index type: DatetimeIndex \n",
       "Training index frequency: 60s \n",
       "Regressor parameters: {'algorithm': 'auto', 'leaf_size': 30, 'metric': 'minkowski', 'metric_params': None, 'n_jobs': None, 'n_neighbors': 5, 'p': 2, 'weights': 'uniform'} \n",
       "fit_kwargs: {} \n",
       "Creation date: 2024-05-21 19:05:16 \n",
       "Last fit date: 2024-05-21 19:05:16 \n",
       "Skforecast version: 0.11.0 \n",
       "Python version: 3.9.13 \n",
       "Forecaster id: None "
      ]
     },
     "execution_count": 53,
     "metadata": {},
     "output_type": "execute_result"
    }
   ],
   "source": [
    "forecaster = ForecasterAutoreg(\n",
    "                regressor = knn_model,\n",
    "                lags      = lags\n",
    "             )\n",
    "\n",
    "forecaster.fit(y=datos_train['HeartRate'], exog=datos_train[['Calories','Steps','Distance']])\n",
    "forecaster"
   ]
  },
  {
   "cell_type": "code",
   "execution_count": 54,
   "id": "0188ef1f",
   "metadata": {},
   "outputs": [
    {
     "data": {
      "text/plain": [
       "2024-04-30 23:55:00    70.8\n",
       "2024-04-30 23:56:00    70.4\n",
       "2024-04-30 23:57:00    71.8\n",
       "2024-04-30 23:58:00    70.8\n",
       "2024-04-30 23:59:00    68.6\n",
       "Freq: 60s, Name: pred, dtype: float64"
      ]
     },
     "execution_count": 54,
     "metadata": {},
     "output_type": "execute_result"
    }
   ],
   "source": [
    "predicciones = forecaster.predict(steps=steps,  exog=datos_test[['Calories', 'Steps', 'Distance']])\n",
    "predicciones"
   ]
  },
  {
   "cell_type": "code",
   "execution_count": 55,
   "id": "a3460410",
   "metadata": {},
   "outputs": [
    {
     "data": {
      "text/html": [
       "<div>\n",
       "<style scoped>\n",
       "    .dataframe tbody tr th:only-of-type {\n",
       "        vertical-align: middle;\n",
       "    }\n",
       "\n",
       "    .dataframe tbody tr th {\n",
       "        vertical-align: top;\n",
       "    }\n",
       "\n",
       "    .dataframe thead th {\n",
       "        text-align: right;\n",
       "    }\n",
       "</style>\n",
       "<table border=\"1\" class=\"dataframe\">\n",
       "  <thead>\n",
       "    <tr style=\"text-align: right;\">\n",
       "      <th></th>\n",
       "      <th>Id</th>\n",
       "      <th>Calories</th>\n",
       "      <th>Distance</th>\n",
       "      <th>Steps</th>\n",
       "      <th>HeartRate</th>\n",
       "    </tr>\n",
       "    <tr>\n",
       "      <th>Time</th>\n",
       "      <th></th>\n",
       "      <th></th>\n",
       "      <th></th>\n",
       "      <th></th>\n",
       "      <th></th>\n",
       "    </tr>\n",
       "  </thead>\n",
       "  <tbody>\n",
       "    <tr>\n",
       "      <th>2024-04-30 23:55:00</th>\n",
       "      <td>BSGSML</td>\n",
       "      <td>1.57248</td>\n",
       "      <td>0.0</td>\n",
       "      <td>0.0</td>\n",
       "      <td>66.0</td>\n",
       "    </tr>\n",
       "    <tr>\n",
       "      <th>2024-04-30 23:56:00</th>\n",
       "      <td>BSGSML</td>\n",
       "      <td>1.31040</td>\n",
       "      <td>0.0</td>\n",
       "      <td>0.0</td>\n",
       "      <td>65.0</td>\n",
       "    </tr>\n",
       "    <tr>\n",
       "      <th>2024-04-30 23:57:00</th>\n",
       "      <td>BSGSML</td>\n",
       "      <td>1.31040</td>\n",
       "      <td>0.0</td>\n",
       "      <td>0.0</td>\n",
       "      <td>63.0</td>\n",
       "    </tr>\n",
       "    <tr>\n",
       "      <th>2024-04-30 23:58:00</th>\n",
       "      <td>BSGSML</td>\n",
       "      <td>1.31040</td>\n",
       "      <td>0.0</td>\n",
       "      <td>0.0</td>\n",
       "      <td>65.0</td>\n",
       "    </tr>\n",
       "    <tr>\n",
       "      <th>2024-04-30 23:59:00</th>\n",
       "      <td>BSGSML</td>\n",
       "      <td>1.31040</td>\n",
       "      <td>0.0</td>\n",
       "      <td>0.0</td>\n",
       "      <td>60.0</td>\n",
       "    </tr>\n",
       "  </tbody>\n",
       "</table>\n",
       "</div>"
      ],
      "text/plain": [
       "                         Id  Calories  Distance  Steps  HeartRate\n",
       "Time                                                             \n",
       "2024-04-30 23:55:00  BSGSML   1.57248       0.0    0.0       66.0\n",
       "2024-04-30 23:56:00  BSGSML   1.31040       0.0    0.0       65.0\n",
       "2024-04-30 23:57:00  BSGSML   1.31040       0.0    0.0       63.0\n",
       "2024-04-30 23:58:00  BSGSML   1.31040       0.0    0.0       65.0\n",
       "2024-04-30 23:59:00  BSGSML   1.31040       0.0    0.0       60.0"
      ]
     },
     "execution_count": 55,
     "metadata": {},
     "output_type": "execute_result"
    }
   ],
   "source": [
    "datos_test"
   ]
  },
  {
   "cell_type": "code",
   "execution_count": 56,
   "id": "fb733058",
   "metadata": {},
   "outputs": [
    {
     "name": "stdout",
     "output_type": "stream",
     "text": [
      "Error de test (mse): 47.447999999999965\n"
     ]
    }
   ],
   "source": [
    "# Error test\n",
    "# ==============================================================================\n",
    "error_mse = mean_squared_error(\n",
    "                y_true = datos_test['HeartRate'],\n",
    "                y_pred = predicciones\n",
    "            )\n",
    "\n",
    "print(f\"Error de test (mse): {error_mse}\")"
   ]
  },
  {
   "cell_type": "code",
   "execution_count": 57,
   "id": "fc625b57",
   "metadata": {},
   "outputs": [
    {
     "data": {
      "image/png": "[encoded data removed]",
      "text/plain": [
       "<Figure size 600x250 with 1 Axes>"
      ]
     },
     "metadata": {},
     "output_type": "display_data"
    }
   ],
   "source": [
    "fig, ax = plt.subplots(figsize=(6, 2.5))\n",
    "\n",
    "\n",
    "datos_test['HeartRate'].plot(ax=ax, label='Datos_test')\n",
    "predicciones.plot(ax=ax, label='Predicciones')\n",
    "\n",
    "ax.legend()\n",
    "ax.set_xlabel('Time')\n",
    "ax.set_ylabel('HeartRate')\n",
    "\n",
    "plt.show()"
   ]
  },
  {
   "cell_type": "markdown",
   "id": "2b9f8b82",
   "metadata": {},
   "source": [
    "# Random Forest Regressor"
   ]
  },
  {
   "cell_type": "code",
   "execution_count": 58,
   "id": "e2e54504",
   "metadata": {},
   "outputs": [],
   "source": [
    "n_estimators = 100 \n",
    "max_depth = None \n",
    "\n",
    "random_forest_model = RandomForestRegressor(n_estimators=n_estimators, max_depth=max_depth, random_state=123)"
   ]
  },
  {
   "cell_type": "code",
   "execution_count": 59,
   "id": "e4ac1030",
   "metadata": {},
   "outputs": [
    {
     "name": "stderr",
     "output_type": "stream",
     "text": [
      "C:\\Users\\34634\\anaconda3\\lib\\site-packages\\pandas\\core\\algorithms.py:1743: DeprecationWarning: is_sparse is deprecated and will be removed in a future version. Check `isinstance(dtype, pd.SparseDtype)` instead.\n",
      "  return lib.map_infer(values, mapper, convert=convert)\n",
      "C:\\Users\\34634\\anaconda3\\lib\\site-packages\\pandas\\core\\algorithms.py:1743: DeprecationWarning: is_sparse is deprecated and will be removed in a future version. Check `isinstance(dtype, pd.SparseDtype)` instead.\n",
      "  return lib.map_infer(values, mapper, convert=convert)\n"
     ]
    },
    {
     "data": {
      "text/plain": [
       "================= \n",
       "ForecasterAutoreg \n",
       "================= \n",
       "Regressor: RandomForestRegressor(random_state=123) \n",
       "Lags: [ 1  2  3  4  5  6  7  8  9 10 11 12 13 14 15 16 17 18 19 20 21 22 23 24\n",
       " 25] \n",
       "Transformer for y: None \n",
       "Transformer for exog: None \n",
       "Window size: 25 \n",
       "Weight function included: False \n",
       "Differentiation order: None \n",
       "Exogenous included: True \n",
       "Type of exogenous variable: <class 'pandas.core.frame.DataFrame'> \n",
       "Exogenous variables names: ['Calories', 'Steps', 'Distance'] \n",
       "Training range: [Timestamp('2024-02-15 18:13:00'), Timestamp('2024-04-30 23:54:00')] \n",
       "Training index type: DatetimeIndex \n",
       "Training index frequency: 60s \n",
       "Regressor parameters: {'bootstrap': True, 'ccp_alpha': 0.0, 'criterion': 'squared_error', 'max_depth': None, 'max_features': 'auto', 'max_leaf_nodes': None, 'max_samples': None, 'min_impurity_decrease': 0.0, 'min_samples_leaf': 1, 'min_samples_split': 2, 'min_weight_fraction_leaf': 0.0, 'n_estimators': 100, 'n_jobs': None, 'oob_score': False, 'random_state': 123, 'verbose': 0, 'warm_start': False} \n",
       "fit_kwargs: {} \n",
       "Creation date: 2024-05-21 19:08:29 \n",
       "Last fit date: 2024-05-21 19:10:50 \n",
       "Skforecast version: 0.11.0 \n",
       "Python version: 3.9.13 \n",
       "Forecaster id: None "
      ]
     },
     "execution_count": 59,
     "metadata": {},
     "output_type": "execute_result"
    }
   ],
   "source": [
    "forecaster = ForecasterAutoreg(\n",
    "                regressor = random_forest_model,\n",
    "                lags      = lags\n",
    "             )\n",
    "\n",
    "forecaster.fit(y=datos_train['HeartRate'], exog=datos_train[['Calories','Steps','Distance']])\n",
    "forecaster"
   ]
  },
  {
   "cell_type": "code",
   "execution_count": 60,
   "id": "858ca27d",
   "metadata": {},
   "outputs": [
    {
     "data": {
      "text/plain": [
       "2024-04-30 23:55:00    69.25\n",
       "2024-04-30 23:56:00    66.60\n",
       "2024-04-30 23:57:00    65.77\n",
       "2024-04-30 23:58:00    64.69\n",
       "2024-04-30 23:59:00    64.09\n",
       "Freq: 60s, Name: pred, dtype: float64"
      ]
     },
     "execution_count": 60,
     "metadata": {},
     "output_type": "execute_result"
    }
   ],
   "source": [
    "predicciones = forecaster.predict(steps=steps,  exog=datos_test[['Calories', 'Steps', 'Distance']])\n",
    "predicciones"
   ]
  },
  {
   "cell_type": "code",
   "execution_count": 61,
   "id": "ab6072d6",
   "metadata": {},
   "outputs": [
    {
     "data": {
      "text/html": [
       "<div>\n",
       "<style scoped>\n",
       "    .dataframe tbody tr th:only-of-type {\n",
       "        vertical-align: middle;\n",
       "    }\n",
       "\n",
       "    .dataframe tbody tr th {\n",
       "        vertical-align: top;\n",
       "    }\n",
       "\n",
       "    .dataframe thead th {\n",
       "        text-align: right;\n",
       "    }\n",
       "</style>\n",
       "<table border=\"1\" class=\"dataframe\">\n",
       "  <thead>\n",
       "    <tr style=\"text-align: right;\">\n",
       "      <th></th>\n",
       "      <th>Id</th>\n",
       "      <th>Calories</th>\n",
       "      <th>Distance</th>\n",
       "      <th>Steps</th>\n",
       "      <th>HeartRate</th>\n",
       "    </tr>\n",
       "    <tr>\n",
       "      <th>Time</th>\n",
       "      <th></th>\n",
       "      <th></th>\n",
       "      <th></th>\n",
       "      <th></th>\n",
       "      <th></th>\n",
       "    </tr>\n",
       "  </thead>\n",
       "  <tbody>\n",
       "    <tr>\n",
       "      <th>2024-04-30 23:55:00</th>\n",
       "      <td>BSGSML</td>\n",
       "      <td>1.57248</td>\n",
       "      <td>0.0</td>\n",
       "      <td>0.0</td>\n",
       "      <td>66.0</td>\n",
       "    </tr>\n",
       "    <tr>\n",
       "      <th>2024-04-30 23:56:00</th>\n",
       "      <td>BSGSML</td>\n",
       "      <td>1.31040</td>\n",
       "      <td>0.0</td>\n",
       "      <td>0.0</td>\n",
       "      <td>65.0</td>\n",
       "    </tr>\n",
       "    <tr>\n",
       "      <th>2024-04-30 23:57:00</th>\n",
       "      <td>BSGSML</td>\n",
       "      <td>1.31040</td>\n",
       "      <td>0.0</td>\n",
       "      <td>0.0</td>\n",
       "      <td>63.0</td>\n",
       "    </tr>\n",
       "    <tr>\n",
       "      <th>2024-04-30 23:58:00</th>\n",
       "      <td>BSGSML</td>\n",
       "      <td>1.31040</td>\n",
       "      <td>0.0</td>\n",
       "      <td>0.0</td>\n",
       "      <td>65.0</td>\n",
       "    </tr>\n",
       "    <tr>\n",
       "      <th>2024-04-30 23:59:00</th>\n",
       "      <td>BSGSML</td>\n",
       "      <td>1.31040</td>\n",
       "      <td>0.0</td>\n",
       "      <td>0.0</td>\n",
       "      <td>60.0</td>\n",
       "    </tr>\n",
       "  </tbody>\n",
       "</table>\n",
       "</div>"
      ],
      "text/plain": [
       "                         Id  Calories  Distance  Steps  HeartRate\n",
       "Time                                                             \n",
       "2024-04-30 23:55:00  BSGSML   1.57248       0.0    0.0       66.0\n",
       "2024-04-30 23:56:00  BSGSML   1.31040       0.0    0.0       65.0\n",
       "2024-04-30 23:57:00  BSGSML   1.31040       0.0    0.0       63.0\n",
       "2024-04-30 23:58:00  BSGSML   1.31040       0.0    0.0       65.0\n",
       "2024-04-30 23:59:00  BSGSML   1.31040       0.0    0.0       60.0"
      ]
     },
     "execution_count": 61,
     "metadata": {},
     "output_type": "execute_result"
    }
   ],
   "source": [
    "datos_test"
   ]
  },
  {
   "cell_type": "code",
   "execution_count": 62,
   "id": "2c6adb99",
   "metadata": {},
   "outputs": [
    {
     "name": "stdout",
     "output_type": "stream",
     "text": [
      "Error de test (mse): 7.523919999999997\n"
     ]
    }
   ],
   "source": [
    "# Error test\n",
    "# ==============================================================================\n",
    "error_mse = mean_squared_error(\n",
    "                y_true = datos_test['HeartRate'],\n",
    "                y_pred = predicciones\n",
    "            )\n",
    "\n",
    "print(f\"Error de test (mse): {error_mse}\")"
   ]
  },
  {
   "cell_type": "code",
   "execution_count": 63,
   "id": "7ee67b67",
   "metadata": {},
   "outputs": [
    {
     "data": {
      "image/png": "[encoded data removed]",
      "text/plain": [
       "<Figure size 600x250 with 1 Axes>"
      ]
     },
     "metadata": {},
     "output_type": "display_data"
    }
   ],
   "source": [
    "fig, ax = plt.subplots(figsize=(6, 2.5))\n",
    "\n",
    "\n",
    "datos_test['HeartRate'].plot(ax=ax, label='Datos_test')\n",
    "predicciones.plot(ax=ax, label='Predicciones')\n",
    "\n",
    "ax.legend()\n",
    "ax.set_xlabel('Time')\n",
    "ax.set_ylabel('HeartRate')\n",
    "\n",
    "plt.show()"
   ]
  },
  {
   "cell_type": "markdown",
   "id": "6e497621",
   "metadata": {},
   "source": [
    "# MLP Regressor"
   ]
  },
  {
   "cell_type": "code",
   "execution_count": 64,
   "id": "a6e48391",
   "metadata": {},
   "outputs": [],
   "source": [
    "MLP_model = MLPRegressor(random_state=123, max_iter=2000)"
   ]
  },
  {
   "cell_type": "code",
   "execution_count": 65,
   "id": "250e3664",
   "metadata": {},
   "outputs": [
    {
     "name": "stderr",
     "output_type": "stream",
     "text": [
      "C:\\Users\\34634\\anaconda3\\lib\\site-packages\\pandas\\core\\algorithms.py:1743: DeprecationWarning: is_sparse is deprecated and will be removed in a future version. Check `isinstance(dtype, pd.SparseDtype)` instead.\n",
      "  return lib.map_infer(values, mapper, convert=convert)\n",
      "C:\\Users\\34634\\anaconda3\\lib\\site-packages\\pandas\\core\\algorithms.py:1743: DeprecationWarning: is_sparse is deprecated and will be removed in a future version. Check `isinstance(dtype, pd.SparseDtype)` instead.\n",
      "  return lib.map_infer(values, mapper, convert=convert)\n"
     ]
    },
    {
     "data": {
      "text/plain": [
       "================= \n",
       "ForecasterAutoreg \n",
       "================= \n",
       "Regressor: MLPRegressor(max_iter=2000, random_state=123) \n",
       "Lags: [ 1  2  3  4  5  6  7  8  9 10 11 12 13 14 15 16 17 18 19 20 21 22 23 24\n",
       " 25] \n",
       "Transformer for y: None \n",
       "Transformer for exog: None \n",
       "Window size: 25 \n",
       "Weight function included: False \n",
       "Differentiation order: None \n",
       "Exogenous included: True \n",
       "Type of exogenous variable: <class 'pandas.core.frame.DataFrame'> \n",
       "Exogenous variables names: ['Calories', 'Steps', 'Distance'] \n",
       "Training range: [Timestamp('2024-02-15 18:13:00'), Timestamp('2024-04-30 23:54:00')] \n",
       "Training index type: DatetimeIndex \n",
       "Training index frequency: 60s \n",
       "Regressor parameters: {'activation': 'relu', 'alpha': 0.0001, 'batch_size': 'auto', 'beta_1': 0.9, 'beta_2': 0.999, 'early_stopping': False, 'epsilon': 1e-08, 'hidden_layer_sizes': (100,), 'learning_rate': 'constant', 'learning_rate_init': 0.001, 'max_fun': 15000, 'max_iter': 2000, 'momentum': 0.9, 'n_iter_no_change': 10, 'nesterovs_momentum': True, 'power_t': 0.5, 'random_state': 123, 'shuffle': True, 'solver': 'adam', 'tol': 0.0001, 'validation_fraction': 0.1, 'verbose': False, 'warm_start': False} \n",
       "fit_kwargs: {} \n",
       "Creation date: 2024-05-21 19:10:54 \n",
       "Last fit date: 2024-05-21 19:14:56 \n",
       "Skforecast version: 0.11.0 \n",
       "Python version: 3.9.13 \n",
       "Forecaster id: None "
      ]
     },
     "execution_count": 65,
     "metadata": {},
     "output_type": "execute_result"
    }
   ],
   "source": [
    "forecaster = ForecasterAutoreg(\n",
    "                regressor = MLP_model,\n",
    "                lags      = lags\n",
    "             )\n",
    "\n",
    "forecaster.fit(y=datos_train['HeartRate'], exog=datos_train[['Calories','Steps','Distance']])\n",
    "forecaster"
   ]
  },
  {
   "cell_type": "code",
   "execution_count": 66,
   "id": "e5cb1d62",
   "metadata": {},
   "outputs": [
    {
     "data": {
      "text/plain": [
       "2024-04-30 23:55:00    67.740671\n",
       "2024-04-30 23:56:00    64.149869\n",
       "2024-04-30 23:57:00    62.112436\n",
       "2024-04-30 23:58:00    60.338409\n",
       "2024-04-30 23:59:00    58.857160\n",
       "Freq: 60s, Name: pred, dtype: float64"
      ]
     },
     "execution_count": 66,
     "metadata": {},
     "output_type": "execute_result"
    }
   ],
   "source": [
    "predicciones = forecaster.predict(steps=steps,  exog=datos_test[['Calories', 'Steps', 'Distance']])\n",
    "predicciones"
   ]
  },
  {
   "cell_type": "code",
   "execution_count": 67,
   "id": "92ecdec9",
   "metadata": {},
   "outputs": [
    {
     "data": {
      "text/html": [
       "<div>\n",
       "<style scoped>\n",
       "    .dataframe tbody tr th:only-of-type {\n",
       "        vertical-align: middle;\n",
       "    }\n",
       "\n",
       "    .dataframe tbody tr th {\n",
       "        vertical-align: top;\n",
       "    }\n",
       "\n",
       "    .dataframe thead th {\n",
       "        text-align: right;\n",
       "    }\n",
       "</style>\n",
       "<table border=\"1\" class=\"dataframe\">\n",
       "  <thead>\n",
       "    <tr style=\"text-align: right;\">\n",
       "      <th></th>\n",
       "      <th>Id</th>\n",
       "      <th>Calories</th>\n",
       "      <th>Distance</th>\n",
       "      <th>Steps</th>\n",
       "      <th>HeartRate</th>\n",
       "    </tr>\n",
       "    <tr>\n",
       "      <th>Time</th>\n",
       "      <th></th>\n",
       "      <th></th>\n",
       "      <th></th>\n",
       "      <th></th>\n",
       "      <th></th>\n",
       "    </tr>\n",
       "  </thead>\n",
       "  <tbody>\n",
       "    <tr>\n",
       "      <th>2024-04-30 23:55:00</th>\n",
       "      <td>BSGSML</td>\n",
       "      <td>1.57248</td>\n",
       "      <td>0.0</td>\n",
       "      <td>0.0</td>\n",
       "      <td>66.0</td>\n",
       "    </tr>\n",
       "    <tr>\n",
       "      <th>2024-04-30 23:56:00</th>\n",
       "      <td>BSGSML</td>\n",
       "      <td>1.31040</td>\n",
       "      <td>0.0</td>\n",
       "      <td>0.0</td>\n",
       "      <td>65.0</td>\n",
       "    </tr>\n",
       "    <tr>\n",
       "      <th>2024-04-30 23:57:00</th>\n",
       "      <td>BSGSML</td>\n",
       "      <td>1.31040</td>\n",
       "      <td>0.0</td>\n",
       "      <td>0.0</td>\n",
       "      <td>63.0</td>\n",
       "    </tr>\n",
       "    <tr>\n",
       "      <th>2024-04-30 23:58:00</th>\n",
       "      <td>BSGSML</td>\n",
       "      <td>1.31040</td>\n",
       "      <td>0.0</td>\n",
       "      <td>0.0</td>\n",
       "      <td>65.0</td>\n",
       "    </tr>\n",
       "    <tr>\n",
       "      <th>2024-04-30 23:59:00</th>\n",
       "      <td>BSGSML</td>\n",
       "      <td>1.31040</td>\n",
       "      <td>0.0</td>\n",
       "      <td>0.0</td>\n",
       "      <td>60.0</td>\n",
       "    </tr>\n",
       "  </tbody>\n",
       "</table>\n",
       "</div>"
      ],
      "text/plain": [
       "                         Id  Calories  Distance  Steps  HeartRate\n",
       "Time                                                             \n",
       "2024-04-30 23:55:00  BSGSML   1.57248       0.0    0.0       66.0\n",
       "2024-04-30 23:56:00  BSGSML   1.31040       0.0    0.0       65.0\n",
       "2024-04-30 23:57:00  BSGSML   1.31040       0.0    0.0       63.0\n",
       "2024-04-30 23:58:00  BSGSML   1.31040       0.0    0.0       65.0\n",
       "2024-04-30 23:59:00  BSGSML   1.31040       0.0    0.0       60.0"
      ]
     },
     "execution_count": 67,
     "metadata": {},
     "output_type": "execute_result"
    }
   ],
   "source": [
    "datos_test"
   ]
  },
  {
   "cell_type": "code",
   "execution_count": 68,
   "id": "a8a769b6",
   "metadata": {},
   "outputs": [
    {
     "name": "stdout",
     "output_type": "stream",
     "text": [
      "Error de test (mse): 5.515388618485106\n"
     ]
    }
   ],
   "source": [
    "# Error test\n",
    "# ==============================================================================\n",
    "error_mse = mean_squared_error(\n",
    "                y_true = datos_test['HeartRate'],\n",
    "                y_pred = predicciones\n",
    "            )\n",
    "\n",
    "print(f\"Error de test (mse): {error_mse}\")"
   ]
  },
  {
   "cell_type": "code",
   "execution_count": 69,
   "id": "2ca05554",
   "metadata": {},
   "outputs": [
    {
     "data": {
      "image/png": "[encoded data removed]",
      "text/plain": [
       "<Figure size 600x250 with 1 Axes>"
      ]
     },
     "metadata": {},
     "output_type": "display_data"
    }
   ],
   "source": [
    "fig, ax = plt.subplots(figsize=(6, 2.5))\n",
    "\n",
    "datos_test['HeartRate'].plot(ax=ax, label='Datos_test')\n",
    "predicciones.plot(ax=ax, label='Predicciones')\n",
    "\n",
    "ax.legend()\n",
    "ax.set_xlabel('Time')\n",
    "ax.set_ylabel('HeartRate')\n",
    "\n",
    "plt.show()"
   ]
  }
 ],
 "metadata": {
  "kernelspec": {
   "display_name": "Python 3 (ipykernel)",
   "language": "python",
   "name": "python3"
  },
  "language_info": {
   "codemirror_mode": {
    "name": "ipython",
    "version": 3
   },
   "file_extension": ".py",
   "mimetype": "text/x-python",
   "name": "python",
   "nbconvert_exporter": "python",
   "pygments_lexer": "ipython3",
   "version": "3.9.13"
  }
 },
 "nbformat": 4,
 "nbformat_minor": 5
}
