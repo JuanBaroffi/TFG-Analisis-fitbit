{
 "cells": [
  {
   "cell_type": "markdown",
   "id": "ee7f5d19",
   "metadata": {},
   "source": [
    "# Preparación de los datos"
   ]
  },
  {
   "cell_type": "code",
   "execution_count": 3,
   "id": "4401fa53",
   "metadata": {},
   "outputs": [],
   "source": [
    "# Importaciones necesarias para el correcto funcionamiento de todos lo modelos y demás operaciones con los datos\n",
    "import pandas as pd \n",
    "import numpy as np\n",
    "import sklearn"
   ]
  },
  {
   "cell_type": "code",
   "execution_count": 4,
   "id": "adfe5729",
   "metadata": {},
   "outputs": [
    {
     "name": "stdout",
     "output_type": "stream",
     "text": [
      "           Id                  Time  Value\n",
      "0  2022484408  4/12/2016 7:21:00 AM     97\n",
      "1  2022484408  4/12/2016 7:21:05 AM    102\n",
      "2  2022484408  4/12/2016 7:21:10 AM    105\n",
      "3  2022484408  4/12/2016 7:21:20 AM    103\n",
      "4  2022484408  4/12/2016 7:21:25 AM    101\n"
     ]
    }
   ],
   "source": [
    "# Carga el archivo CSV\n",
    "data_heartrate_seconds = pd.read_csv(\"Fitabase Data 4.12.16-5.12.16/heartrate_seconds_merged.csv\")\n",
    "print(data_heartrate_seconds.head())"
   ]
  },
  {
   "cell_type": "code",
   "execution_count": 5,
   "id": "519b1120",
   "metadata": {},
   "outputs": [],
   "source": [
    "from warnings import simplefilter\n",
    "simplefilter(action='ignore', category=FutureWarning)"
   ]
  },
  {
   "cell_type": "code",
   "execution_count": 6,
   "id": "07ad865d",
   "metadata": {},
   "outputs": [
    {
     "data": {
      "text/plain": [
       "Id       0\n",
       "Time     0\n",
       "Value    0\n",
       "dtype: int64"
      ]
     },
     "execution_count": 6,
     "metadata": {},
     "output_type": "execute_result"
    }
   ],
   "source": [
    "data_heartrate_seconds.isna().sum()"
   ]
  },
  {
   "cell_type": "code",
   "execution_count": 7,
   "id": "4aa4ec21",
   "metadata": {},
   "outputs": [
    {
     "data": {
      "text/plain": [
       "Id       0\n",
       "Time     0\n",
       "Value    0\n",
       "dtype: int64"
      ]
     },
     "execution_count": 7,
     "metadata": {},
     "output_type": "execute_result"
    }
   ],
   "source": [
    "from sklearn.impute import SimpleImputer\n",
    "mode_imputer = SimpleImputer(strategy = 'most_frequent') # moda\n",
    "\n",
    "# Sustituyendo aquellos valores Nan con la moda previamente calculada\n",
    "for column in data_heartrate_seconds.columns:\n",
    "    values = data_heartrate_seconds[column].values.reshape(-1,1)\n",
    "    mode_imputer.fit(values)\n",
    "    data_heartrate_seconds[column] = mode_imputer.transform(values)\n",
    "\n",
    "# Comprobamos que hayamos eliminadolos atípicos o erroneos.\n",
    "data_heartrate_seconds.isna().sum()"
   ]
  },
  {
   "cell_type": "code",
   "execution_count": 8,
   "id": "96322b2b",
   "metadata": {
    "scrolled": true
   },
   "outputs": [],
   "source": [
    "data_heartrate_seconds['Time'] = pd.to_datetime(data_heartrate_seconds['Time'])\n",
    "\n",
    "# Agrupa por ID y fecha redondeada al minuto, calcula la media\n",
    "result_df = data_heartrate_seconds.groupby(['Id', pd.Grouper(key='Time', freq='1Min')]).mean().reset_index()\n",
    "\n",
    "result_df.to_csv(\"Fitabase Data 4.12.16-5.12.16/heartrate_minutes_merged.csv\", index=False)"
   ]
  },
  {
   "cell_type": "code",
   "execution_count": 9,
   "id": "f578c7aa",
   "metadata": {
    "scrolled": true
   },
   "outputs": [
    {
     "name": "stdout",
     "output_type": "stream",
     "text": [
      "           Id         ActivityMinute  Intensity\n",
      "0  1503960366  4/12/2016 12:00:00 AM          0\n",
      "1  1503960366  4/12/2016 12:01:00 AM          0\n",
      "2  1503960366  4/12/2016 12:02:00 AM          0\n",
      "3  1503960366  4/12/2016 12:03:00 AM          0\n",
      "4  1503960366  4/12/2016 12:04:00 AM          0\n"
     ]
    },
    {
     "data": {
      "text/plain": [
       "Id                0\n",
       "ActivityMinute    0\n",
       "Intensity         0\n",
       "dtype: int64"
      ]
     },
     "execution_count": 9,
     "metadata": {},
     "output_type": "execute_result"
    }
   ],
   "source": [
    "data_intensities_minutes = pd.read_csv(\"Fitabase Data 4.12.16-5.12.16/minuteIntensitiesNarrow_merged.csv\")\n",
    "print(data_intensities_minutes.head())\n",
    "\n",
    "data_intensities_minutes.isna().sum()\n",
    "\n",
    "mode_imputer = SimpleImputer(strategy = 'most_frequent') # moda\n",
    "\n",
    "for column in data_intensities_minutes.columns:\n",
    "    values = data_intensities_minutes[column].values.reshape(-1,1)\n",
    "    mode_imputer.fit(values)\n",
    "    data_intensities_minutes[column] = mode_imputer.transform(values)\n",
    "\n",
    "data_intensities_minutes.isna().sum()"
   ]
  },
  {
   "cell_type": "code",
   "execution_count": 10,
   "id": "7a509a76",
   "metadata": {},
   "outputs": [
    {
     "name": "stdout",
     "output_type": "stream",
     "text": [
      "Id                0\n",
      "ActivityMinute    0\n",
      "Calories          0\n",
      "dtype: int64\n",
      "Id                0\n",
      "ActivityMinute    0\n",
      "Calories          0\n",
      "dtype: int64\n"
     ]
    }
   ],
   "source": [
    "# Cargar el archivo CSV de calorías\n",
    "data_calories = pd.read_csv(\"Fitabase Data 4.12.16-5.12.16/minuteCaloriesNarrow_merged.csv\")\n",
    "\n",
    "# Muestra el número de valores NaN en cada columna\n",
    "print(data_calories.isna().sum())\n",
    "\n",
    "# Realizar la imputación para los valores faltantes en 'calories'\n",
    "mode_imputer = SimpleImputer(strategy='most_frequent')\n",
    "for column in data_calories.columns:\n",
    "    values = data_calories[column].values.reshape(-1, 1)\n",
    "    mode_imputer.fit(values)\n",
    "    data_calories[column] = mode_imputer.transform(values)\n",
    "\n",
    "print(data_calories.isna().sum())"
   ]
  },
  {
   "cell_type": "markdown",
   "id": "dcfa2b9a",
   "metadata": {},
   "source": [
    "A continuacion imprimeros todos los dataset, leídos hasta el momento"
   ]
  },
  {
   "cell_type": "code",
   "execution_count": 11,
   "id": "bcc4acf2",
   "metadata": {},
   "outputs": [
    {
     "name": "stdout",
     "output_type": "stream",
     "text": [
      "Ahora imprimeros la pulsaciones por minito (heartrate_seconds_merged.csv.csv) \n",
      "\n",
      "           Id                Time       Value\n",
      "0  2022484408 2016-04-12 07:21:00  101.600000\n",
      "1  2022484408 2016-04-12 07:22:00   87.888889\n",
      "2  2022484408 2016-04-12 07:23:00   58.000000\n",
      "3  2022484408 2016-04-12 07:24:00   58.000000\n",
      "4  2022484408 2016-04-12 07:25:00   56.777778\n",
      "\n",
      "\n",
      "Ahora imprimeros las intensidades por minuto (data_intensities_minutes.csv) \n",
      "\n",
      "           Id         ActivityMinute  Intensity\n",
      "0  1503960366  4/12/2016 12:00:00 AM          0\n",
      "1  1503960366  4/12/2016 12:01:00 AM          0\n",
      "2  1503960366  4/12/2016 12:02:00 AM          0\n",
      "3  1503960366  4/12/2016 12:03:00 AM          0\n",
      "4  1503960366  4/12/2016 12:04:00 AM          0\n",
      "\n",
      "\n",
      "Ahora imprimeros la cabecera de (minuteCaloriesNarrow_merged.csv)\n",
      "           Id         ActivityMinute  Calories\n",
      "0  1503960366  4/12/2016 12:00:00 AM    0.7865\n",
      "1  1503960366  4/12/2016 12:01:00 AM    0.7865\n",
      "2  1503960366  4/12/2016 12:02:00 AM    0.7865\n",
      "3  1503960366  4/12/2016 12:03:00 AM    0.7865\n",
      "4  1503960366  4/12/2016 12:04:00 AM    0.7865\n",
      "\n",
      "\n"
     ]
    }
   ],
   "source": [
    "print(\"Ahora imprimeros la pulsaciones por minito (heartrate_seconds_merged.csv.csv) \\n\")\n",
    "print(result_df.head())\n",
    "\n",
    "print(\"\\n\")\n",
    "print(\"Ahora imprimeros las intensidades por minuto (data_intensities_minutes.csv) \\n\")\n",
    "print(data_intensities_minutes.head())\n",
    "print(\"\\n\")\n",
    "\n",
    "print(\"Ahora imprimeros la cabecera de (minuteCaloriesNarrow_merged.csv)\")\n",
    "print(data_calories.head())\n",
    "print(\"\\n\")"
   ]
  },
  {
   "cell_type": "code",
   "execution_count": 12,
   "id": "b8740aa6",
   "metadata": {},
   "outputs": [],
   "source": [
    "data_calories['ActivityMinute'] = pd.to_datetime(data_calories['ActivityMinute'])"
   ]
  },
  {
   "cell_type": "code",
   "execution_count": 13,
   "id": "61b26bcd",
   "metadata": {},
   "outputs": [
    {
     "name": "stdout",
     "output_type": "stream",
     "text": [
      "                Id                Time       Value      ActivityMinute  \\\n",
      "0       2022484408 2016-04-12 07:21:00  101.600000 2016-04-12 07:21:00   \n",
      "1       2022484408 2016-04-12 07:22:00   87.888889 2016-04-12 07:22:00   \n",
      "2       2022484408 2016-04-12 07:23:00   58.000000 2016-04-12 07:23:00   \n",
      "3       2022484408 2016-04-12 07:24:00   58.000000 2016-04-12 07:24:00   \n",
      "4       2022484408 2016-04-12 07:25:00   56.777778 2016-04-12 07:25:00   \n",
      "...            ...                 ...         ...                 ...   \n",
      "333141  8877689391 2016-05-12 13:55:00   60.666667 2016-05-12 13:55:00   \n",
      "333142  8877689391 2016-05-12 13:56:00   61.875000 2016-05-12 13:56:00   \n",
      "333143  8877689391 2016-05-12 13:57:00   58.142857 2016-05-12 13:57:00   \n",
      "333144  8877689391 2016-05-12 13:58:00   61.200000 2016-05-12 13:58:00   \n",
      "333145  8877689391 2016-05-12 13:59:00   58.000000 2016-05-12 13:59:00   \n",
      "\n",
      "        Calories  \n",
      "0        3.32064  \n",
      "1        3.94326  \n",
      "2        1.34901  \n",
      "3        1.03770  \n",
      "4        1.03770  \n",
      "...          ...  \n",
      "333141   1.33353  \n",
      "333142   1.33353  \n",
      "333143   1.33353  \n",
      "333144   1.33353  \n",
      "333145   1.33353  \n",
      "\n",
      "[333146 rows x 5 columns]\n"
     ]
    }
   ],
   "source": [
    "merged_df = pd.merge(result_df, data_calories, left_on=['Id', 'Time'], right_on=['Id', 'ActivityMinute'])\n",
    "print(merged_df)"
   ]
  },
  {
   "cell_type": "code",
   "execution_count": 14,
   "id": "c5feb7d8",
   "metadata": {},
   "outputs": [
    {
     "name": "stdout",
     "output_type": "stream",
     "text": [
      "           Id                Time   HeartRate  Calories\n",
      "0  2022484408 2016-04-12 07:21:00  101.600000   3.32064\n",
      "1  2022484408 2016-04-12 07:22:00   87.888889   3.94326\n",
      "2  2022484408 2016-04-12 07:23:00   58.000000   1.34901\n",
      "3  2022484408 2016-04-12 07:24:00   58.000000   1.03770\n",
      "4  2022484408 2016-04-12 07:25:00   56.777778   1.03770\n"
     ]
    }
   ],
   "source": [
    "result_df = merged_df[['Id', 'Time', 'Value', 'Calories']]\n",
    "result_df.columns = ['Id', 'Time', 'HeartRate', 'Calories']\n",
    "\n",
    "print(result_df.head())\n",
    "\n",
    "result_df.to_csv(\"Fitabase Data 4.12.16-5.12.16/test_train_data.csv\", index=False)"
   ]
  },
  {
   "cell_type": "code",
   "execution_count": 15,
   "id": "26b60ee2",
   "metadata": {},
   "outputs": [
    {
     "name": "stdout",
     "output_type": "stream",
     "text": [
      "                Id                Time   HeartRate  Calories  \\\n",
      "0       2022484408 2016-04-12 07:21:00  101.600000   3.32064   \n",
      "1       2022484408 2016-04-12 07:22:00   87.888889   3.94326   \n",
      "2       2022484408 2016-04-12 07:23:00   58.000000   1.34901   \n",
      "3       2022484408 2016-04-12 07:24:00   58.000000   1.03770   \n",
      "4       2022484408 2016-04-12 07:25:00   56.777778   1.03770   \n",
      "...            ...                 ...         ...       ...   \n",
      "333141  8877689391 2016-05-12 13:55:00   60.666667   1.33353   \n",
      "333142  8877689391 2016-05-12 13:56:00   61.875000   1.33353   \n",
      "333143  8877689391 2016-05-12 13:57:00   58.142857   1.33353   \n",
      "333144  8877689391 2016-05-12 13:58:00   61.200000   1.33353   \n",
      "333145  8877689391 2016-05-12 13:59:00   58.000000   1.33353   \n",
      "\n",
      "            ActivityMinute  Intensity  \n",
      "0      2016-04-12 07:21:00          1  \n",
      "1      2016-04-12 07:22:00          1  \n",
      "2      2016-04-12 07:23:00          0  \n",
      "3      2016-04-12 07:24:00          0  \n",
      "4      2016-04-12 07:25:00          0  \n",
      "...                    ...        ...  \n",
      "333141 2016-05-12 13:55:00          0  \n",
      "333142 2016-05-12 13:56:00          0  \n",
      "333143 2016-05-12 13:57:00          0  \n",
      "333144 2016-05-12 13:58:00          0  \n",
      "333145 2016-05-12 13:59:00          0  \n",
      "\n",
      "[333146 rows x 6 columns]\n"
     ]
    }
   ],
   "source": [
    "data_intensities_minutes['ActivityMinute'] = pd.to_datetime(data_intensities_minutes['ActivityMinute'])\n",
    "\n",
    "merged_df = pd.merge(result_df, data_intensities_minutes, left_on=['Id', 'Time'], right_on=['Id', 'ActivityMinute'])\n",
    "print(merged_df)"
   ]
  },
  {
   "cell_type": "code",
   "execution_count": 16,
   "id": "20285a18",
   "metadata": {},
   "outputs": [
    {
     "name": "stdout",
     "output_type": "stream",
     "text": [
      "\n",
      "           Id                Time   HeartRate  Intensity  Calories\n",
      "0  2022484408 2016-04-12 07:21:00  101.600000          1   3.32064\n",
      "1  2022484408 2016-04-12 07:22:00   87.888889          1   3.94326\n",
      "2  2022484408 2016-04-12 07:23:00   58.000000          0   1.34901\n",
      "3  2022484408 2016-04-12 07:24:00   58.000000          0   1.03770\n",
      "4  2022484408 2016-04-12 07:25:00   56.777778          0   1.03770\n"
     ]
    }
   ],
   "source": [
    "result_df = merged_df[['Id', 'Time', 'HeartRate', 'Intensity', 'Calories']]\n",
    "\n",
    "print()\n",
    "print(result_df.head())"
   ]
  },
  {
   "cell_type": "code",
   "execution_count": 17,
   "id": "4405dc43",
   "metadata": {},
   "outputs": [
    {
     "name": "stdout",
     "output_type": "stream",
     "text": [
      "           Id                Time   HeartRate  Intensity  Calories\n",
      "0  2022484408 2016-04-12 07:21:00  101.600000          1   3.32064\n",
      "1  2022484408 2016-04-12 07:22:00   87.888889          1   3.94326\n",
      "2  2022484408 2016-04-12 07:23:00   58.000000          0   1.34901\n",
      "3  2022484408 2016-04-12 07:24:00   58.000000          0   1.03770\n",
      "4  2022484408 2016-04-12 07:25:00   56.777778          0   1.03770\n"
     ]
    }
   ],
   "source": [
    "result_df.to_csv(\"Fitabase Data 4.12.16-5.12.16/test_train_data.csv\", index=False)\n",
    "print(result_df.head())"
   ]
  }
 ],
 "metadata": {
  "kernelspec": {
   "display_name": "Python 3 (ipykernel)",
   "language": "python",
   "name": "python3"
  },
  "language_info": {
   "codemirror_mode": {
    "name": "ipython",
    "version": 3
   },
   "file_extension": ".py",
   "mimetype": "text/x-python",
   "name": "python",
   "nbconvert_exporter": "python",
   "pygments_lexer": "ipython3",
   "version": "3.9.13"
  }
 },
 "nbformat": 4,
 "nbformat_minor": 5
}
