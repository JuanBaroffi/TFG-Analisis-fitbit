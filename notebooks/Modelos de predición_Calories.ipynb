{
 "cells": [
  {
   "cell_type": "code",
   "execution_count": 1,
   "id": "9eb26c28",
   "metadata": {},
   "outputs": [
    {
     "name": "stdout",
     "output_type": "stream",
     "text": [
      "Requirement already satisfied: keras in c:\\users\\34634\\anaconda3\\lib\\site-packages (2.15.0)\n"
     ]
    },
    {
     "name": "stderr",
     "output_type": "stream",
     "text": [
      "C:\\Users\\34634\\anaconda3\\lib\\site-packages\\pandas\\core\\computation\\expressions.py:21: UserWarning: Pandas requires version '2.8.4' or newer of 'numexpr' (version '2.8.3' currently installed).\n",
      "  from pandas.core.computation.check import NUMEXPR_INSTALLED\n",
      "C:\\Users\\34634\\anaconda3\\lib\\site-packages\\pandas\\core\\arrays\\masked.py:60: UserWarning: Pandas requires version '1.3.6' or newer of 'bottleneck' (version '1.3.5' currently installed).\n",
      "  from pandas.core import (\n"
     ]
    },
    {
     "name": "stdout",
     "output_type": "stream",
     "text": [
      "XGBoost ya está instalado en el sistema.\n",
      "LightGBM ya está instalado en el sistema.\n",
      "WARNING:tensorflow:From C:\\Users\\34634\\anaconda3\\lib\\site-packages\\keras\\src\\losses.py:2976: The name tf.losses.sparse_softmax_cross_entropy is deprecated. Please use tf.compat.v1.losses.sparse_softmax_cross_entropy instead.\n",
      "\n",
      "TensorFlow ya está instalado en el sistema.\n"
     ]
    }
   ],
   "source": [
    "!pip install keras\n",
    "\n",
    "import importlib\n",
    "\n",
    "try:\n",
    "    importlib.import_module('xgboost')\n",
    "    print(\"XGBoost ya está instalado en el sistema.\")\n",
    "except ImportError:\n",
    "    subprocess.run(['pip', 'install', 'xgboost'])\n",
    "    \n",
    "try:\n",
    "    importlib.import_module('lightgbm')\n",
    "    print(\"LightGBM ya está instalado en el sistema.\")\n",
    "except ImportError:\n",
    "    subprocess.run(['pip', 'install', 'lightgbm'])\n",
    "    \n",
    "try:\n",
    "    importlib.import_module('tensorflow')\n",
    "    print(\"TensorFlow ya está instalado en el sistema.\")\n",
    "except ImportError:\n",
    "    subprocess.run(['pip', 'install', 'tensorflow', 'scikit-learn'])"
   ]
  },
  {
   "cell_type": "code",
   "execution_count": 2,
   "id": "985269d7",
   "metadata": {},
   "outputs": [],
   "source": [
    "# Importaciones necesarias para el correcto funcionamiento de todos lo modelos y demás operaciones con los datos\n",
    "import joblib\n",
    "import subprocess\n",
    "import warnings\n",
    "import numpy as np\n",
    "import pandas as pd\n",
    "import sklearn\n",
    "import lightgbm as lgb\n",
    "\n",
    "#Froms\n",
    "from keras.layers import Dense, LSTM\n",
    "from keras.models import Sequential\n",
    "from packaging import version\n",
    "from sklearn.compose import ColumnTransformer\n",
    "from sklearn.ensemble import RandomForestRegressor, VotingRegressor\n",
    "from sklearn.linear_model import LinearRegression\n",
    "from sklearn.metrics import make_scorer, r2_score\n",
    "from sklearn.model_selection import GridSearchCV, KFold, cross_val_score, train_test_split\n",
    "from sklearn.neighbors import KNeighborsRegressor\n",
    "from sklearn.neural_network import MLPRegressor\n",
    "from sklearn.metrics import mean_squared_error\n",
    "\n",
    "from sklearn.pipeline import Pipeline\n",
    "from sklearn.preprocessing import OneHotEncoder, StandardScaler\n",
    "from sklearn.svm import SVR\n",
    "from sklearn.tree import DecisionTreeRegressor\n",
    "from xgboost import XGBRegressor"
   ]
  },
  {
   "cell_type": "code",
   "execution_count": 4,
   "id": "43671316",
   "metadata": {},
   "outputs": [
    {
     "data": {
      "text/plain": [
       "CompletedProcess(args=['pip', 'install', '--upgrade', 'lightgbm', 'pandas', 'dask'], returncode=1)"
      ]
     },
     "execution_count": 4,
     "metadata": {},
     "output_type": "execute_result"
    }
   ],
   "source": [
    "subprocess.run(['pip', 'install', '--upgrade', 'lightgbm', 'pandas', 'dask'])"
   ]
  },
  {
   "cell_type": "code",
   "execution_count": 18,
   "id": "62491463",
   "metadata": {},
   "outputs": [
    {
     "data": {
      "text/html": [
       "<div>\n",
       "<style scoped>\n",
       "    .dataframe tbody tr th:only-of-type {\n",
       "        vertical-align: middle;\n",
       "    }\n",
       "\n",
       "    .dataframe tbody tr th {\n",
       "        vertical-align: top;\n",
       "    }\n",
       "\n",
       "    .dataframe thead th {\n",
       "        text-align: right;\n",
       "    }\n",
       "</style>\n",
       "<table border=\"1\" class=\"dataframe\">\n",
       "  <thead>\n",
       "    <tr style=\"text-align: right;\">\n",
       "      <th></th>\n",
       "      <th>Id</th>\n",
       "      <th>Time</th>\n",
       "      <th>HeartRate</th>\n",
       "      <th>Intensity</th>\n",
       "      <th>Calories</th>\n",
       "    </tr>\n",
       "  </thead>\n",
       "  <tbody>\n",
       "    <tr>\n",
       "      <th>0</th>\n",
       "      <td>2022484408</td>\n",
       "      <td>2016-04-12 07:21:00</td>\n",
       "      <td>101.600000</td>\n",
       "      <td>1</td>\n",
       "      <td>3.32064</td>\n",
       "    </tr>\n",
       "    <tr>\n",
       "      <th>1</th>\n",
       "      <td>2022484408</td>\n",
       "      <td>2016-04-12 07:22:00</td>\n",
       "      <td>87.888889</td>\n",
       "      <td>1</td>\n",
       "      <td>3.94326</td>\n",
       "    </tr>\n",
       "    <tr>\n",
       "      <th>2</th>\n",
       "      <td>2022484408</td>\n",
       "      <td>2016-04-12 07:23:00</td>\n",
       "      <td>58.000000</td>\n",
       "      <td>0</td>\n",
       "      <td>1.34901</td>\n",
       "    </tr>\n",
       "    <tr>\n",
       "      <th>3</th>\n",
       "      <td>2022484408</td>\n",
       "      <td>2016-04-12 07:24:00</td>\n",
       "      <td>58.000000</td>\n",
       "      <td>0</td>\n",
       "      <td>1.03770</td>\n",
       "    </tr>\n",
       "    <tr>\n",
       "      <th>4</th>\n",
       "      <td>2022484408</td>\n",
       "      <td>2016-04-12 07:25:00</td>\n",
       "      <td>56.777778</td>\n",
       "      <td>0</td>\n",
       "      <td>1.03770</td>\n",
       "    </tr>\n",
       "    <tr>\n",
       "      <th>...</th>\n",
       "      <td>...</td>\n",
       "      <td>...</td>\n",
       "      <td>...</td>\n",
       "      <td>...</td>\n",
       "      <td>...</td>\n",
       "    </tr>\n",
       "    <tr>\n",
       "      <th>333141</th>\n",
       "      <td>8877689391</td>\n",
       "      <td>2016-05-12 13:55:00</td>\n",
       "      <td>60.666667</td>\n",
       "      <td>0</td>\n",
       "      <td>1.33353</td>\n",
       "    </tr>\n",
       "    <tr>\n",
       "      <th>333142</th>\n",
       "      <td>8877689391</td>\n",
       "      <td>2016-05-12 13:56:00</td>\n",
       "      <td>61.875000</td>\n",
       "      <td>0</td>\n",
       "      <td>1.33353</td>\n",
       "    </tr>\n",
       "    <tr>\n",
       "      <th>333143</th>\n",
       "      <td>8877689391</td>\n",
       "      <td>2016-05-12 13:57:00</td>\n",
       "      <td>58.142857</td>\n",
       "      <td>0</td>\n",
       "      <td>1.33353</td>\n",
       "    </tr>\n",
       "    <tr>\n",
       "      <th>333144</th>\n",
       "      <td>8877689391</td>\n",
       "      <td>2016-05-12 13:58:00</td>\n",
       "      <td>61.200000</td>\n",
       "      <td>0</td>\n",
       "      <td>1.33353</td>\n",
       "    </tr>\n",
       "    <tr>\n",
       "      <th>333145</th>\n",
       "      <td>8877689391</td>\n",
       "      <td>2016-05-12 13:59:00</td>\n",
       "      <td>58.000000</td>\n",
       "      <td>0</td>\n",
       "      <td>1.33353</td>\n",
       "    </tr>\n",
       "  </tbody>\n",
       "</table>\n",
       "<p>333146 rows × 5 columns</p>\n",
       "</div>"
      ],
      "text/plain": [
       "                Id                 Time   HeartRate  Intensity  Calories\n",
       "0       2022484408  2016-04-12 07:21:00  101.600000          1   3.32064\n",
       "1       2022484408  2016-04-12 07:22:00   87.888889          1   3.94326\n",
       "2       2022484408  2016-04-12 07:23:00   58.000000          0   1.34901\n",
       "3       2022484408  2016-04-12 07:24:00   58.000000          0   1.03770\n",
       "4       2022484408  2016-04-12 07:25:00   56.777778          0   1.03770\n",
       "...            ...                  ...         ...        ...       ...\n",
       "333141  8877689391  2016-05-12 13:55:00   60.666667          0   1.33353\n",
       "333142  8877689391  2016-05-12 13:56:00   61.875000          0   1.33353\n",
       "333143  8877689391  2016-05-12 13:57:00   58.142857          0   1.33353\n",
       "333144  8877689391  2016-05-12 13:58:00   61.200000          0   1.33353\n",
       "333145  8877689391  2016-05-12 13:59:00   58.000000          0   1.33353\n",
       "\n",
       "[333146 rows x 5 columns]"
      ]
     },
     "execution_count": 18,
     "metadata": {},
     "output_type": "execute_result"
    }
   ],
   "source": [
    "result_df = pd.read_csv(\"../Fitabase Data 4.12.16-5.12.16/test_train_data.csv\")\n",
    "result_df"
   ]
  },
  {
   "cell_type": "code",
   "execution_count": 19,
   "id": "f4783885",
   "metadata": {},
   "outputs": [
    {
     "name": "stdout",
     "output_type": "stream",
     "text": [
      "PyArrow versión 15.0.0 ya está instalada.\n"
     ]
    }
   ],
   "source": [
    "required_version = '14.0.1'\n",
    "\n",
    "try:\n",
    "    pyarrow_version = importlib.import_module('pyarrow').__version__\n",
    "    if version.parse(pyarrow_version) < version.parse(required_version):\n",
    "        print(f\"PyArrow versión {pyarrow_version} encontrada. Actualizando a la versión {required_version}.\")\n",
    "        subprocess.run(['pip', 'install', f'pyarrow>={required_version}'])\n",
    "    else:\n",
    "        print(f\"PyArrow versión {pyarrow_version} ya está instalada.\")\n",
    "except ImportError:\n",
    "    subprocess.run(['pip', 'install', f'pyarrow>={required_version}'])\n"
   ]
  },
  {
   "cell_type": "code",
   "execution_count": 20,
   "id": "d2d34064",
   "metadata": {},
   "outputs": [],
   "source": [
    "result_df['Time'] = pd.to_datetime(result_df['Time'])\n",
    "\n",
    "result_df['Hour'] = result_df['Time'].dt.hour\n",
    "result_df['Minutes'] = result_df['Time'].dt.minute\n",
    "result_df['Weekday'] = result_df['Time'].dt.weekday\n",
    "\n",
    "features = ['Id', 'Hour', 'Minutes', 'HeartRate']\n",
    "target = 'Calories'\n",
    "\n",
    "result_df = result_df.drop('Intensity', axis=1)\n",
    "\n",
    "X = result_df[features]\n",
    "y = result_df[target]\n",
    "\n",
    "X_train, X_test, y_train, y_test = train_test_split(X, y, test_size=0.17, random_state=777)\n",
    "\n",
    "categorical_features = ['Id']\n",
    "numeric_features = ['Hour', 'Minutes', 'Calories']\n",
    "\n",
    "preprocessor = ColumnTransformer(\n",
    "    transformers=[\n",
    "        ('num', StandardScaler(), numeric_features),\n",
    "        ('cat', OneHotEncoder(), categorical_features)\n",
    "    ], remainder='passthrough')"
   ]
  },
  {
   "cell_type": "markdown",
   "id": "63a9252c",
   "metadata": {},
   "source": [
    "# XGBoost: Calories prediction"
   ]
  },
  {
   "cell_type": "code",
   "execution_count": 21,
   "id": "43d9fbfa",
   "metadata": {},
   "outputs": [
    {
     "name": "stdout",
     "output_type": "stream",
     "text": [
      "\u001b[94;1mPromedio R2 Score (XGBoost): 0.7888487394332563\u001b[0m\n"
     ]
    }
   ],
   "source": [
    "num_splits = 5 \n",
    "xgb_model = XGBRegressor(objective='reg:squarederror', random_state=42)\n",
    "xgb_scores = cross_val_score(xgb_model, X, y, scoring='r2', cv=KFold(n_splits=num_splits, shuffle=True, random_state=42))\n",
    "\n",
    "print(f\"\\033[94;1mPromedio R2 Score (XGBoost): {xgb_scores.mean()}\\033[0m\")"
   ]
  },
  {
   "cell_type": "markdown",
   "id": "4eba3f25",
   "metadata": {},
   "source": [
    "# LightGBM: Calories prediction"
   ]
  },
  {
   "cell_type": "code",
   "execution_count": 23,
   "id": "9ed17244",
   "metadata": {},
   "outputs": [
    {
     "name": "stdout",
     "output_type": "stream",
     "text": [
      "[LightGBM] [Info] Total Bins 354\n",
      "[LightGBM] [Info] Number of data points in the train set: 266516, number of used features: 4\n",
      "[LightGBM] [Info] Start training from score 2.039297\n",
      "[LightGBM] [Info] Total Bins 354\n",
      "[LightGBM] [Info] Number of data points in the train set: 266517, number of used features: 4\n",
      "[LightGBM] [Info] Start training from score 2.038624\n",
      "[LightGBM] [Info] Total Bins 354\n",
      "[LightGBM] [Info] Number of data points in the train set: 266517, number of used features: 4\n",
      "[LightGBM] [Info] Start training from score 2.038586\n",
      "[LightGBM] [Info] Total Bins 354\n",
      "[LightGBM] [Info] Number of data points in the train set: 266517, number of used features: 4\n",
      "[LightGBM] [Info] Start training from score 2.041327\n",
      "[LightGBM] [Info] Total Bins 354\n",
      "[LightGBM] [Info] Number of data points in the train set: 266517, number of used features: 4\n",
      "[LightGBM] [Info] Start training from score 2.040324\n",
      "\u001b[94;1mPromedio R2 Score (LightGBM): 0.7919600931850364\u001b[0m\n"
     ]
    }
   ],
   "source": [
    "best_params = {'learning_rate': 0.2, 'n_estimators': 200, 'num_leaves': 40}\n",
    "best_model = lgb.LGBMRegressor(objective='regression', random_state=42, force_row_wise=True, **best_params)\n",
    "\n",
    "num_splits = 5 \n",
    "lgb_scores = cross_val_score(best_model, X, y, scoring='r2', cv=KFold(n_splits=num_splits, shuffle=True, random_state=42))\n",
    "\n",
    "print(f\"\\033[94;1mPromedio R2 Score (LightGBM): {lgb_scores.mean()}\\033[0m\")"
   ]
  },
  {
   "cell_type": "code",
   "execution_count": null,
   "id": "4597d98f",
   "metadata": {},
   "outputs": [],
   "source": []
  },
  {
   "cell_type": "code",
   "execution_count": null,
   "id": "6d042892",
   "metadata": {},
   "outputs": [],
   "source": []
  },
  {
   "cell_type": "code",
   "execution_count": null,
   "id": "ea8a77a0",
   "metadata": {},
   "outputs": [],
   "source": []
  },
  {
   "cell_type": "code",
   "execution_count": null,
   "id": "d4709777",
   "metadata": {},
   "outputs": [],
   "source": []
  },
  {
   "cell_type": "code",
   "execution_count": null,
   "id": "54a6d446",
   "metadata": {},
   "outputs": [],
   "source": []
  },
  {
   "cell_type": "code",
   "execution_count": null,
   "id": "3aa34ead",
   "metadata": {},
   "outputs": [],
   "source": []
  },
  {
   "cell_type": "code",
   "execution_count": null,
   "id": "0db44799",
   "metadata": {},
   "outputs": [],
   "source": []
  }
 ],
 "metadata": {
  "kernelspec": {
   "display_name": "Python 3 (ipykernel)",
   "language": "python",
   "name": "python3"
  },
  "language_info": {
   "codemirror_mode": {
    "name": "ipython",
    "version": 3
   },
   "file_extension": ".py",
   "mimetype": "text/x-python",
   "name": "python",
   "nbconvert_exporter": "python",
   "pygments_lexer": "ipython3",
   "version": "3.9.13"
  }
 },
 "nbformat": 4,
 "nbformat_minor": 5
}
