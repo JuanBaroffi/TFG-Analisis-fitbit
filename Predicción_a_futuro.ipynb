{
 "cells": [
  {
   "cell_type": "code",
   "execution_count": 6,
   "id": "318435cd",
   "metadata": {},
   "outputs": [
    {
     "name": "stdout",
     "output_type": "stream",
     "text": [
      "Requirement already satisfied: skforecast in c:\\users\\34634\\anaconda3\\lib\\site-packages (0.11.0)\n",
      "Requirement already satisfied: pandas<2.2,>=1.2 in c:\\users\\34634\\anaconda3\\lib\\site-packages (from skforecast) (2.1.4)\n",
      "Requirement already satisfied: optuna<3.5,>=2.10.0 in c:\\users\\34634\\anaconda3\\lib\\site-packages (from skforecast) (3.4.0)\n",
      "Requirement already satisfied: tqdm<4.67,>=4.57.0 in c:\\users\\34634\\anaconda3\\lib\\site-packages (from skforecast) (4.64.1)\n",
      "Requirement already satisfied: scikit-learn<1.4,>=1.0 in c:\\users\\34634\\anaconda3\\lib\\site-packages (from skforecast) (1.0.2)\n",
      "Requirement already satisfied: numpy<1.27,>=1.20 in c:\\users\\34634\\anaconda3\\lib\\site-packages (from skforecast) (1.24.4)\n",
      "Requirement already satisfied: joblib<1.4,>=1.1.0 in c:\\users\\34634\\anaconda3\\lib\\site-packages (from skforecast) (1.1.0)\n",
      "Requirement already satisfied: packaging>=20.0 in c:\\users\\34634\\anaconda3\\lib\\site-packages (from optuna<3.5,>=2.10.0->skforecast) (21.3)\n",
      "Requirement already satisfied: colorlog in c:\\users\\34634\\anaconda3\\lib\\site-packages (from optuna<3.5,>=2.10.0->skforecast) (6.8.2)\n",
      "Requirement already satisfied: PyYAML in c:\\users\\34634\\anaconda3\\lib\\site-packages (from optuna<3.5,>=2.10.0->skforecast) (6.0)\n",
      "Requirement already satisfied: alembic>=1.5.0 in c:\\users\\34634\\anaconda3\\lib\\site-packages (from optuna<3.5,>=2.10.0->skforecast) (1.13.1)\n",
      "Requirement already satisfied: sqlalchemy>=1.3.0 in c:\\users\\34634\\anaconda3\\lib\\site-packages (from optuna<3.5,>=2.10.0->skforecast) (1.4.39)\n",
      "Requirement already satisfied: python-dateutil>=2.8.2 in c:\\users\\34634\\anaconda3\\lib\\site-packages (from pandas<2.2,>=1.2->skforecast) (2.8.2)\n",
      "Requirement already satisfied: tzdata>=2022.1 in c:\\users\\34634\\anaconda3\\lib\\site-packages (from pandas<2.2,>=1.2->skforecast) (2024.1)\n",
      "Requirement already satisfied: pytz>=2020.1 in c:\\users\\34634\\anaconda3\\lib\\site-packages (from pandas<2.2,>=1.2->skforecast) (2022.1)\n",
      "Requirement already satisfied: threadpoolctl>=2.0.0 in c:\\users\\34634\\anaconda3\\lib\\site-packages (from scikit-learn<1.4,>=1.0->skforecast) (2.2.0)\n",
      "Requirement already satisfied: scipy>=1.1.0 in c:\\users\\34634\\anaconda3\\lib\\site-packages (from scikit-learn<1.4,>=1.0->skforecast) (1.9.1)\n",
      "Requirement already satisfied: colorama in c:\\users\\34634\\anaconda3\\lib\\site-packages (from tqdm<4.67,>=4.57.0->skforecast) (0.4.5)\n",
      "Requirement already satisfied: Mako in c:\\users\\34634\\anaconda3\\lib\\site-packages (from alembic>=1.5.0->optuna<3.5,>=2.10.0->skforecast) (1.3.3)\n",
      "Requirement already satisfied: typing-extensions>=4 in c:\\users\\34634\\anaconda3\\lib\\site-packages (from alembic>=1.5.0->optuna<3.5,>=2.10.0->skforecast) (4.3.0)\n",
      "Requirement already satisfied: pyparsing!=3.0.5,>=2.0.2 in c:\\users\\34634\\anaconda3\\lib\\site-packages (from packaging>=20.0->optuna<3.5,>=2.10.0->skforecast) (3.0.9)\n",
      "Requirement already satisfied: six>=1.5 in c:\\users\\34634\\anaconda3\\lib\\site-packages (from python-dateutil>=2.8.2->pandas<2.2,>=1.2->skforecast) (1.16.0)\n",
      "Requirement already satisfied: greenlet!=0.4.17 in c:\\users\\34634\\anaconda3\\lib\\site-packages (from sqlalchemy>=1.3.0->optuna<3.5,>=2.10.0->skforecast) (1.1.1)\n",
      "Requirement already satisfied: MarkupSafe>=0.9.2 in c:\\users\\34634\\anaconda3\\lib\\site-packages (from Mako->alembic>=1.5.0->optuna<3.5,>=2.10.0->skforecast) (2.0.1)\n"
     ]
    },
    {
     "name": "stderr",
     "output_type": "stream",
     "text": [
      "sys:1: ResourceWarning: unclosed socket <zmq.Socket(zmq.PUSH) at 0x1f44d4c3640>\n",
      "ResourceWarning: Enable tracemalloc to get the object allocation traceback\n",
      "C:\\Users\\34634\\anaconda3\\lib\\site-packages\\IPython\\utils\\_process_win32.py:145: ResourceWarning: unclosed file <_io.BufferedWriter name=4>\n",
      "  return process_handler(cmd, _system_body)\n",
      "ResourceWarning: Enable tracemalloc to get the object allocation traceback\n",
      "C:\\Users\\34634\\anaconda3\\lib\\site-packages\\IPython\\utils\\_process_win32.py:145: ResourceWarning: unclosed file <_io.BufferedReader name=5>\n",
      "  return process_handler(cmd, _system_body)\n",
      "ResourceWarning: Enable tracemalloc to get the object allocation traceback\n",
      "C:\\Users\\34634\\anaconda3\\lib\\site-packages\\IPython\\utils\\_process_win32.py:145: ResourceWarning: unclosed file <_io.BufferedReader name=6>\n",
      "  return process_handler(cmd, _system_body)\n",
      "ResourceWarning: Enable tracemalloc to get the object allocation traceback\n"
     ]
    },
    {
     "name": "stdout",
     "output_type": "stream",
     "text": [
      "Requirement already satisfied: dask[dataframe] in c:\\users\\34634\\anaconda3\\lib\\site-packages (2024.4.2)\n",
      "Requirement already satisfied: pyyaml>=5.3.1 in c:\\users\\34634\\anaconda3\\lib\\site-packages (from dask[dataframe]) (6.0)\n",
      "Requirement already satisfied: fsspec>=2021.09.0 in c:\\users\\34634\\anaconda3\\lib\\site-packages (from dask[dataframe]) (2022.7.1)\n",
      "Requirement already satisfied: cloudpickle>=1.5.0 in c:\\users\\34634\\anaconda3\\lib\\site-packages (from dask[dataframe]) (2.0.0)\n",
      "Requirement already satisfied: toolz>=0.10.0 in c:\\users\\34634\\anaconda3\\lib\\site-packages (from dask[dataframe]) (0.11.2)\n",
      "Requirement already satisfied: packaging>=20.0 in c:\\users\\34634\\anaconda3\\lib\\site-packages (from dask[dataframe]) (21.3)\n",
      "Requirement already satisfied: importlib-metadata>=4.13.0 in c:\\users\\34634\\anaconda3\\lib\\site-packages (from dask[dataframe]) (7.0.2)\n",
      "Requirement already satisfied: partd>=1.2.0 in c:\\users\\34634\\anaconda3\\lib\\site-packages (from dask[dataframe]) (1.2.0)\n",
      "Requirement already satisfied: click>=8.1 in c:\\users\\34634\\anaconda3\\lib\\site-packages (from dask[dataframe]) (8.1.7)\n",
      "Requirement already satisfied: pandas>=1.3 in c:\\users\\34634\\anaconda3\\lib\\site-packages (from dask[dataframe]) (2.1.4)\n",
      "Requirement already satisfied: dask-expr<1.1,>=1.0 in c:\\users\\34634\\anaconda3\\lib\\site-packages (from dask[dataframe]) (1.0.12)\n",
      "Requirement already satisfied: colorama in c:\\users\\34634\\anaconda3\\lib\\site-packages (from click>=8.1->dask[dataframe]) (0.4.5)\n",
      "Requirement already satisfied: pyarrow>=7.0.0 in c:\\users\\34634\\anaconda3\\lib\\site-packages (from dask-expr<1.1,>=1.0->dask[dataframe]) (15.0.0)\n",
      "Requirement already satisfied: zipp>=0.5 in c:\\users\\34634\\anaconda3\\lib\\site-packages (from importlib-metadata>=4.13.0->dask[dataframe]) (3.8.0)\n",
      "Requirement already satisfied: pyparsing!=3.0.5,>=2.0.2 in c:\\users\\34634\\anaconda3\\lib\\site-packages (from packaging>=20.0->dask[dataframe]) (3.0.9)\n",
      "Requirement already satisfied: numpy<2,>=1.22.4 in c:\\users\\34634\\anaconda3\\lib\\site-packages (from pandas>=1.3->dask[dataframe]) (1.24.4)\n",
      "Requirement already satisfied: pytz>=2020.1 in c:\\users\\34634\\anaconda3\\lib\\site-packages (from pandas>=1.3->dask[dataframe]) (2022.1)\n",
      "Requirement already satisfied: tzdata>=2022.1 in c:\\users\\34634\\anaconda3\\lib\\site-packages (from pandas>=1.3->dask[dataframe]) (2024.1)\n",
      "Requirement already satisfied: python-dateutil>=2.8.2 in c:\\users\\34634\\anaconda3\\lib\\site-packages (from pandas>=1.3->dask[dataframe]) (2.8.2)\n",
      "Requirement already satisfied: locket in c:\\users\\34634\\anaconda3\\lib\\site-packages (from partd>=1.2.0->dask[dataframe]) (1.0.0)\n",
      "Requirement already satisfied: six>=1.5 in c:\\users\\34634\\anaconda3\\lib\\site-packages (from python-dateutil>=2.8.2->pandas>=1.3->dask[dataframe]) (1.16.0)\n"
     ]
    },
    {
     "name": "stderr",
     "output_type": "stream",
     "text": [
      "sys:1: ResourceWarning: unclosed socket <zmq.Socket(zmq.PUSH) at 0x1f44dcff280>\n",
      "ResourceWarning: Enable tracemalloc to get the object allocation traceback\n"
     ]
    },
    {
     "name": "stdout",
     "output_type": "stream",
     "text": [
      "Requirement already satisfied: skforecast in c:\\users\\34634\\anaconda3\\lib\\site-packages (0.11.0)\n",
      "Requirement already satisfied: tqdm<4.67,>=4.57.0 in c:\\users\\34634\\anaconda3\\lib\\site-packages (from skforecast) (4.64.1)\n",
      "Requirement already satisfied: joblib<1.4,>=1.1.0 in c:\\users\\34634\\anaconda3\\lib\\site-packages (from skforecast) (1.1.0)\n",
      "Requirement already satisfied: optuna<3.5,>=2.10.0 in c:\\users\\34634\\anaconda3\\lib\\site-packages (from skforecast) (3.4.0)\n",
      "Requirement already satisfied: scikit-learn<1.4,>=1.0 in c:\\users\\34634\\anaconda3\\lib\\site-packages (from skforecast) (1.0.2)\n",
      "Requirement already satisfied: pandas<2.2,>=1.2 in c:\\users\\34634\\anaconda3\\lib\\site-packages (from skforecast) (2.1.4)\n",
      "Requirement already satisfied: numpy<1.27,>=1.20 in c:\\users\\34634\\anaconda3\\lib\\site-packages (from skforecast) (1.24.4)\n",
      "Requirement already satisfied: PyYAML in c:\\users\\34634\\anaconda3\\lib\\site-packages (from optuna<3.5,>=2.10.0->skforecast) (6.0)\n",
      "Requirement already satisfied: colorlog in c:\\users\\34634\\anaconda3\\lib\\site-packages (from optuna<3.5,>=2.10.0->skforecast) (6.8.2)\n",
      "Requirement already satisfied: sqlalchemy>=1.3.0 in c:\\users\\34634\\anaconda3\\lib\\site-packages (from optuna<3.5,>=2.10.0->skforecast) (1.4.39)\n",
      "Requirement already satisfied: packaging>=20.0 in c:\\users\\34634\\anaconda3\\lib\\site-packages (from optuna<3.5,>=2.10.0->skforecast) (21.3)\n",
      "Requirement already satisfied: alembic>=1.5.0 in c:\\users\\34634\\anaconda3\\lib\\site-packages (from optuna<3.5,>=2.10.0->skforecast) (1.13.1)\n",
      "Requirement already satisfied: tzdata>=2022.1 in c:\\users\\34634\\anaconda3\\lib\\site-packages (from pandas<2.2,>=1.2->skforecast) (2024.1)\n",
      "Requirement already satisfied: python-dateutil>=2.8.2 in c:\\users\\34634\\anaconda3\\lib\\site-packages (from pandas<2.2,>=1.2->skforecast) (2.8.2)\n",
      "Requirement already satisfied: pytz>=2020.1 in c:\\users\\34634\\anaconda3\\lib\\site-packages (from pandas<2.2,>=1.2->skforecast) (2022.1)\n",
      "Requirement already satisfied: threadpoolctl>=2.0.0 in c:\\users\\34634\\anaconda3\\lib\\site-packages (from scikit-learn<1.4,>=1.0->skforecast) (2.2.0)\n",
      "Requirement already satisfied: scipy>=1.1.0 in c:\\users\\34634\\anaconda3\\lib\\site-packages (from scikit-learn<1.4,>=1.0->skforecast) (1.9.1)\n",
      "Requirement already satisfied: colorama in c:\\users\\34634\\anaconda3\\lib\\site-packages (from tqdm<4.67,>=4.57.0->skforecast) (0.4.5)\n",
      "Requirement already satisfied: Mako in c:\\users\\34634\\anaconda3\\lib\\site-packages (from alembic>=1.5.0->optuna<3.5,>=2.10.0->skforecast) (1.3.3)\n",
      "Requirement already satisfied: typing-extensions>=4 in c:\\users\\34634\\anaconda3\\lib\\site-packages (from alembic>=1.5.0->optuna<3.5,>=2.10.0->skforecast) (4.3.0)\n",
      "Requirement already satisfied: pyparsing!=3.0.5,>=2.0.2 in c:\\users\\34634\\anaconda3\\lib\\site-packages (from packaging>=20.0->optuna<3.5,>=2.10.0->skforecast) (3.0.9)\n",
      "Requirement already satisfied: six>=1.5 in c:\\users\\34634\\anaconda3\\lib\\site-packages (from python-dateutil>=2.8.2->pandas<2.2,>=1.2->skforecast) (1.16.0)\n",
      "Requirement already satisfied: greenlet!=0.4.17 in c:\\users\\34634\\anaconda3\\lib\\site-packages (from sqlalchemy>=1.3.0->optuna<3.5,>=2.10.0->skforecast) (1.1.1)\n",
      "Requirement already satisfied: MarkupSafe>=0.9.2 in c:\\users\\34634\\anaconda3\\lib\\site-packages (from Mako->alembic>=1.5.0->optuna<3.5,>=2.10.0->skforecast) (2.0.1)\n"
     ]
    },
    {
     "name": "stderr",
     "output_type": "stream",
     "text": [
      "sys:1: ResourceWarning: unclosed socket <zmq.Socket(zmq.PUSH) at 0x1f44dcff460>\n",
      "ResourceWarning: Enable tracemalloc to get the object allocation traceback\n"
     ]
    },
    {
     "name": "stdout",
     "output_type": "stream",
     "text": [
      "Requirement already satisfied: dask[dataframe] in c:\\users\\34634\\anaconda3\\lib\\site-packages (2024.4.2)\n",
      "Requirement already satisfied: fsspec>=2021.09.0 in c:\\users\\34634\\anaconda3\\lib\\site-packages (from dask[dataframe]) (2022.7.1)\n",
      "Requirement already satisfied: partd>=1.2.0 in c:\\users\\34634\\anaconda3\\lib\\site-packages (from dask[dataframe]) (1.2.0)\n",
      "Requirement already satisfied: click>=8.1 in c:\\users\\34634\\anaconda3\\lib\\site-packages (from dask[dataframe]) (8.1.7)\n",
      "Requirement already satisfied: toolz>=0.10.0 in c:\\users\\34634\\anaconda3\\lib\\site-packages (from dask[dataframe]) (0.11.2)\n",
      "Requirement already satisfied: importlib-metadata>=4.13.0 in c:\\users\\34634\\anaconda3\\lib\\site-packages (from dask[dataframe]) (7.0.2)\n",
      "Requirement already satisfied: cloudpickle>=1.5.0 in c:\\users\\34634\\anaconda3\\lib\\site-packages (from dask[dataframe]) (2.0.0)\n",
      "Requirement already satisfied: packaging>=20.0 in c:\\users\\34634\\anaconda3\\lib\\site-packages (from dask[dataframe]) (21.3)\n",
      "Requirement already satisfied: pyyaml>=5.3.1 in c:\\users\\34634\\anaconda3\\lib\\site-packages (from dask[dataframe]) (6.0)\n",
      "Requirement already satisfied: pandas>=1.3 in c:\\users\\34634\\anaconda3\\lib\\site-packages (from dask[dataframe]) (2.1.4)\n",
      "Requirement already satisfied: dask-expr<1.1,>=1.0 in c:\\users\\34634\\anaconda3\\lib\\site-packages (from dask[dataframe]) (1.0.12)\n",
      "Requirement already satisfied: colorama in c:\\users\\34634\\anaconda3\\lib\\site-packages (from click>=8.1->dask[dataframe]) (0.4.5)\n",
      "Requirement already satisfied: pyarrow>=7.0.0 in c:\\users\\34634\\anaconda3\\lib\\site-packages (from dask-expr<1.1,>=1.0->dask[dataframe]) (15.0.0)\n",
      "Requirement already satisfied: zipp>=0.5 in c:\\users\\34634\\anaconda3\\lib\\site-packages (from importlib-metadata>=4.13.0->dask[dataframe]) (3.8.0)\n",
      "Requirement already satisfied: pyparsing!=3.0.5,>=2.0.2 in c:\\users\\34634\\anaconda3\\lib\\site-packages (from packaging>=20.0->dask[dataframe]) (3.0.9)\n",
      "Requirement already satisfied: numpy<2,>=1.22.4 in c:\\users\\34634\\anaconda3\\lib\\site-packages (from pandas>=1.3->dask[dataframe]) (1.24.4)\n",
      "Requirement already satisfied: tzdata>=2022.1 in c:\\users\\34634\\anaconda3\\lib\\site-packages (from pandas>=1.3->dask[dataframe]) (2024.1)\n",
      "Requirement already satisfied: pytz>=2020.1 in c:\\users\\34634\\anaconda3\\lib\\site-packages (from pandas>=1.3->dask[dataframe]) (2022.1)\n",
      "Requirement already satisfied: python-dateutil>=2.8.2 in c:\\users\\34634\\anaconda3\\lib\\site-packages (from pandas>=1.3->dask[dataframe]) (2.8.2)\n",
      "Requirement already satisfied: locket in c:\\users\\34634\\anaconda3\\lib\\site-packages (from partd>=1.2.0->dask[dataframe]) (1.0.0)\n",
      "Requirement already satisfied: six>=1.5 in c:\\users\\34634\\anaconda3\\lib\\site-packages (from python-dateutil>=2.8.2->pandas>=1.3->dask[dataframe]) (1.16.0)\n"
     ]
    },
    {
     "name": "stderr",
     "output_type": "stream",
     "text": [
      "sys:1: ResourceWarning: unclosed socket <zmq.Socket(zmq.PUSH) at 0x1f44dcff2e0>\n",
      "ResourceWarning: Enable tracemalloc to get the object allocation traceback\n"
     ]
    },
    {
     "name": "stdout",
     "output_type": "stream",
     "text": [
      "Requirement already satisfied: lightgbm in c:\\users\\34634\\anaconda3\\lib\\site-packages (4.3.0)\n",
      "Requirement already satisfied: numpy in c:\\users\\34634\\anaconda3\\lib\\site-packages (from lightgbm) (1.24.4)\n",
      "Requirement already satisfied: scipy in c:\\users\\34634\\anaconda3\\lib\\site-packages (from lightgbm) (1.9.1)\n",
      "Requirement already satisfied: matplotlib in c:\\users\\34634\\anaconda3\\lib\\site-packages (3.5.2)\n",
      "Requirement already satisfied: cycler>=0.10 in c:\\users\\34634\\anaconda3\\lib\\site-packages (from matplotlib) (0.11.0)\n",
      "Requirement already satisfied: python-dateutil>=2.7 in c:\\users\\34634\\anaconda3\\lib\\site-packages (from matplotlib) (2.8.2)\n",
      "Requirement already satisfied: kiwisolver>=1.0.1 in c:\\users\\34634\\anaconda3\\lib\\site-packages (from matplotlib) (1.4.2)\n",
      "Requirement already satisfied: fonttools>=4.22.0 in c:\\users\\34634\\anaconda3\\lib\\site-packages (from matplotlib) (4.25.0)\n",
      "Requirement already satisfied: packaging>=20.0 in c:\\users\\34634\\anaconda3\\lib\\site-packages (from matplotlib) (21.3)\n",
      "Requirement already satisfied: pillow>=6.2.0 in c:\\users\\34634\\anaconda3\\lib\\site-packages (from matplotlib) (9.2.0)\n",
      "Requirement already satisfied: pyparsing>=2.2.1 in c:\\users\\34634\\anaconda3\\lib\\site-packages (from matplotlib) (3.0.9)\n",
      "Requirement already satisfied: numpy>=1.17 in c:\\users\\34634\\anaconda3\\lib\\site-packages (from matplotlib) (1.24.4)\n",
      "Requirement already satisfied: six>=1.5 in c:\\users\\34634\\anaconda3\\lib\\site-packages (from python-dateutil>=2.7->matplotlib) (1.16.0)\n"
     ]
    },
    {
     "name": "stderr",
     "output_type": "stream",
     "text": [
      "sys:1: ResourceWarning: unclosed socket <zmq.Socket(zmq.PUSH) at 0x1f44dcff520>\n",
      "ResourceWarning: Enable tracemalloc to get the object allocation traceback\n"
     ]
    },
    {
     "name": "stdout",
     "output_type": "stream",
     "text": [
      "Requirement already satisfied: xgboost in c:\\users\\34634\\anaconda3\\lib\\site-packages (2.0.3)\n",
      "Requirement already satisfied: numpy in c:\\users\\34634\\anaconda3\\lib\\site-packages (from xgboost) (1.24.4)\n",
      "Requirement already satisfied: scipy in c:\\users\\34634\\anaconda3\\lib\\site-packages (from xgboost) (1.9.1)\n"
     ]
    },
    {
     "name": "stderr",
     "output_type": "stream",
     "text": [
      "sys:1: ResourceWarning: unclosed socket <zmq.Socket(zmq.PUSH) at 0x1f44dcff4c0>\n",
      "ResourceWarning: Enable tracemalloc to get the object allocation traceback\n"
     ]
    }
   ],
   "source": [
    "!pip install skforecast\n",
    "!pip install dask[dataframe]\n",
    "!pip install skforecast\n",
    "!pip install dask[dataframe]\n",
    "!pip install lightgbm\n",
    "!pip install matplotlib\n",
    "!pip install xgboost"
   ]
  },
  {
   "cell_type": "code",
   "execution_count": 7,
   "id": "b5418048",
   "metadata": {},
   "outputs": [],
   "source": [
    "import pandas as pd\n",
    "import numpy as np\n",
    "import lightgbm as lgb\n",
    "import joblib\n",
    "import matplotlib.pyplot as plt\n",
    "import warnings\n",
    "import csv\n",
    "\n",
    "plt.style.use('fivethirtyeight')\n",
    "plt.rcParams['lines.linewidth'] = 1.5\n",
    "plt.rcParams['font.size'] = 10\n",
    "\n",
    "from sklearn.metrics import mean_squared_error\n",
    "from skforecast.ForecasterAutoreg import ForecasterAutoreg\n",
    "from skforecast.ForecasterAutoregCustom import ForecasterAutoregCustom\n",
    "from skforecast.ForecasterAutoregDirect import ForecasterAutoregDirect\n",
    "from skforecast.model_selection import grid_search_forecaster\n",
    "from skforecast.model_selection import backtesting_forecaster\n",
    "from sklearn.neighbors import KNeighborsRegressor\n",
    "from sklearn.ensemble import RandomForestRegressor\n",
    "from lightgbm import LGBMRegressor\n",
    "from sklearn.svm import SVR\n",
    "from sklearn.neural_network import MLPRegressor\n",
    "from xgboost import XGBRegressor\n",
    "\n",
    "warnings.filterwarnings('once')"
   ]
  },
  {
   "cell_type": "code",
   "execution_count": 8,
   "id": "cb0cf713",
   "metadata": {},
   "outputs": [],
   "source": [
    "steps = [5,10,15,20,25,30]\n",
    "lags = [2,5,7,10]"
   ]
  },
  {
   "cell_type": "code",
   "execution_count": 9,
   "id": "4e443e94",
   "metadata": {},
   "outputs": [
    {
     "name": "stdout",
     "output_type": "stream",
     "text": [
      "Archivo : test_train_data.csv\n",
      "                Id                 Time   HeartRate  Intensity  Calories\n",
      "0       2022484408  2016-04-12 07:21:00  101.600000          1   3.32064\n",
      "1       2022484408  2016-04-12 07:22:00   87.888889          1   3.94326\n",
      "2       2022484408  2016-04-12 07:23:00   58.000000          0   1.34901\n",
      "3       2022484408  2016-04-12 07:24:00   58.000000          0   1.03770\n",
      "4       2022484408  2016-04-12 07:25:00   56.777778          0   1.03770\n",
      "...            ...                  ...         ...        ...       ...\n",
      "333141  8877689391  2016-05-12 13:55:00   60.666667          0   1.33353\n",
      "333142  8877689391  2016-05-12 13:56:00   61.875000          0   1.33353\n",
      "333143  8877689391  2016-05-12 13:57:00   58.142857          0   1.33353\n",
      "333144  8877689391  2016-05-12 13:58:00   61.200000          0   1.33353\n",
      "333145  8877689391  2016-05-12 13:59:00   58.000000          0   1.33353\n",
      "\n",
      "[333146 rows x 5 columns]\n",
      "\n",
      "\n",
      "Archivo : test_train_data_api_merged.csv\n",
      "           Id                 Time  Calories  Distance  Steps  HeartRate\n",
      "0      BSGSML  2024-02-15 18:13:00   1.30970       0.0    0.0       57.0\n",
      "1      BSGSML  2024-02-15 18:14:00   1.44067       0.0    0.0       58.0\n",
      "2      BSGSML  2024-02-15 18:15:00   1.44067       0.0    0.0       63.0\n",
      "3      BSGSML  2024-02-15 18:16:00   1.30970       0.0    0.0       58.0\n",
      "4      BSGSML  2024-02-15 18:17:00   1.44067       0.0    0.0       57.0\n",
      "...       ...                  ...       ...       ...    ...        ...\n",
      "20289  BSGSML  2024-02-29 23:55:00   1.31030       0.0    0.0       55.0\n",
      "20290  BSGSML  2024-02-29 23:56:00   1.31030       0.0    0.0       55.0\n",
      "20291  BSGSML  2024-02-29 23:57:00   1.44133       0.0    0.0       55.0\n",
      "20292  BSGSML  2024-02-29 23:58:00   1.31030       0.0    0.0       56.0\n",
      "20293  BSGSML  2024-02-29 23:59:00   1.31030       0.0    0.0       50.0\n",
      "\n",
      "[20294 rows x 6 columns]\n"
     ]
    }
   ],
   "source": [
    "old_data = pd.read_csv('Fitabase Data 4.12.16-5.12.16/test_train_data.csv')\n",
    "data = pd.read_csv('FitBit API Database/test_train_data_api_merged.csv')\n",
    "\n",
    "print(\"Archivo : test_train_data.csv\")\n",
    "print(old_data)\n",
    "print(\"\\n\")\n",
    "print(\"Archivo : test_train_data_api_merged.csv\")\n",
    "print(data)"
   ]
  },
  {
   "cell_type": "code",
   "execution_count": 11,
   "id": "0178fd01",
   "metadata": {},
   "outputs": [],
   "source": [
    "modelos = [\n",
    "    (\"LightGBM\", lgb.LGBMRegressor(objective='regression', random_state=123)),\n",
    "    (\"XGBoost\", XGBRegressor(random_state=123)),\n",
    "    (\"KNN\", KNeighborsRegressor(n_neighbors=5)),\n",
    "    (\"RandomForest\", RandomForestRegressor(n_estimators=100, max_depth=None, random_state=123)),\n",
    "    (\"MLP\",MLPRegressor(random_state=123, max_iter=2000))\n",
    "]\n"
   ]
  },
  {
   "cell_type": "code",
   "execution_count": null,
   "id": "7b720a8a",
   "metadata": {},
   "outputs": [
    {
     "name": "stderr",
     "output_type": "stream",
     "text": [
      "C:\\Users\\34634\\anaconda3\\lib\\site-packages\\joblib\\externals\\loky\\backend\\context.py:150: UserWarning: Could not find the number of physical cores for the following reason:\n",
      "[WinError 2] El sistema no puede encontrar el archivo especificado\n",
      "Returning the number of logical cores instead. You can silence this warning by setting LOKY_MAX_CPU_COUNT to the number of cores you want to use.\n",
      "  warnings.warn(\n",
      "  File \"C:\\Users\\34634\\anaconda3\\lib\\site-packages\\joblib\\externals\\loky\\backend\\context.py\", line 227, in _count_physical_cores\n",
      "    cpu_info = subprocess.run(\n",
      "  File \"C:\\Users\\34634\\anaconda3\\lib\\subprocess.py\", line 505, in run\n",
      "    with Popen(*popenargs, **kwargs) as process:\n",
      "  File \"C:\\Users\\34634\\anaconda3\\lib\\subprocess.py\", line 951, in __init__\n",
      "    self._execute_child(args, executable, preexec_fn, close_fds,\n",
      "  File \"C:\\Users\\34634\\anaconda3\\lib\\subprocess.py\", line 1420, in _execute_child\n",
      "    hp, ht, pid, tid = _winapi.CreateProcess(executable, args,\n"
     ]
    },
    {
     "name": "stdout",
     "output_type": "stream",
     "text": [
      "[LightGBM] [Info] Auto-choosing row-wise multi-threading, the overhead of testing was 0.000620 seconds.\n",
      "You can set `force_row_wise=true` to remove the overhead.\n",
      "And if memory is not enough, you can set `force_col_wise=true`.\n",
      "[LightGBM] [Info] Total Bins 591\n",
      "[LightGBM] [Info] Number of data points in the train set: 20287, number of used features: 5\n",
      "[LightGBM] [Info] Start training from score 65.931680\n",
      "mse: 18.29665713319097\n",
      "[LightGBM] [Info] Auto-choosing row-wise multi-threading, the overhead of testing was 0.000698 seconds.\n",
      "You can set `force_row_wise=true` to remove the overhead.\n",
      "And if memory is not enough, you can set `force_col_wise=true`.\n",
      "[LightGBM] [Info] Total Bins 882\n",
      "[LightGBM] [Info] Number of data points in the train set: 20284, number of used features: 8\n",
      "[LightGBM] [Info] Start training from score 65.932656\n",
      "mse: 12.270804839130614\n",
      "[LightGBM] [Info] Auto-choosing col-wise multi-threading, the overhead of testing was 0.000794 seconds.\n",
      "You can set `force_col_wise=true` to remove the overhead.\n",
      "[LightGBM] [Info] Total Bins 1076\n",
      "[LightGBM] [Info] Number of data points in the train set: 20282, number of used features: 10\n",
      "[LightGBM] [Info] Start training from score 65.933241\n",
      "mse: 11.511943844791325\n",
      "[LightGBM] [Info] Auto-choosing col-wise multi-threading, the overhead of testing was 0.002043 seconds.\n",
      "You can set `force_col_wise=true` to remove the overhead.\n",
      "[LightGBM] [Info] Total Bins 1367\n",
      "[LightGBM] [Info] Number of data points in the train set: 20279, number of used features: 13\n",
      "[LightGBM] [Info] Start training from score 65.932541\n",
      "mse: 11.572672457596259\n",
      "[LightGBM] [Info] Auto-choosing row-wise multi-threading, the overhead of testing was 0.000594 seconds.\n",
      "You can set `force_row_wise=true` to remove the overhead.\n",
      "And if memory is not enough, you can set `force_col_wise=true`.\n",
      "[LightGBM] [Info] Total Bins 591\n",
      "[LightGBM] [Info] Number of data points in the train set: 20282, number of used features: 5\n",
      "[LightGBM] [Info] Start training from score 65.934227\n",
      "mse: 6.97460902248938\n",
      "[LightGBM] [Info] Auto-choosing col-wise multi-threading, the overhead of testing was 0.000647 seconds.\n",
      "You can set `force_col_wise=true` to remove the overhead.\n",
      "[LightGBM] [Info] Total Bins 882\n",
      "[LightGBM] [Info] Number of data points in the train set: 20279, number of used features: 8\n",
      "[LightGBM] [Info] Start training from score 65.935204\n",
      "mse: 4.912177270624015\n",
      "[LightGBM] [Info] Auto-choosing row-wise multi-threading, the overhead of testing was 0.001169 seconds.\n",
      "You can set `force_row_wise=true` to remove the overhead.\n",
      "And if memory is not enough, you can set `force_col_wise=true`.\n",
      "[LightGBM] [Info] Total Bins 1076\n",
      "[LightGBM] [Info] Number of data points in the train set: 20277, number of used features: 10\n",
      "[LightGBM] [Info] Start training from score 65.935789\n",
      "mse: 4.299743158325316\n",
      "[LightGBM] [Info] Auto-choosing col-wise multi-threading, the overhead of testing was 0.001511 seconds.\n",
      "You can set `force_col_wise=true` to remove the overhead.\n",
      "[LightGBM] [Info] Total Bins 1367\n",
      "[LightGBM] [Info] Number of data points in the train set: 20274, number of used features: 13\n",
      "[LightGBM] [Info] Start training from score 65.935089\n",
      "mse: 4.092581621216633\n",
      "[LightGBM] [Info] Auto-choosing row-wise multi-threading, the overhead of testing was 0.001151 seconds.\n",
      "You can set `force_row_wise=true` to remove the overhead.\n",
      "And if memory is not enough, you can set `force_col_wise=true`.\n",
      "[LightGBM] [Info] Total Bins 591\n",
      "[LightGBM] [Info] Number of data points in the train set: 20277, number of used features: 5\n",
      "[LightGBM] [Info] Start training from score 65.937121\n",
      "mse: 5.455022774097389\n",
      "[LightGBM] [Info] Auto-choosing col-wise multi-threading, the overhead of testing was 0.001793 seconds.\n",
      "You can set `force_col_wise=true` to remove the overhead.\n",
      "[LightGBM] [Info] Total Bins 882\n",
      "[LightGBM] [Info] Number of data points in the train set: 20274, number of used features: 8\n",
      "[LightGBM] [Info] Start training from score 65.938098\n",
      "mse: 3.750114117259948\n",
      "[LightGBM] [Info] Auto-choosing col-wise multi-threading, the overhead of testing was 0.001604 seconds.\n",
      "You can set `force_col_wise=true` to remove the overhead.\n",
      "[LightGBM] [Info] Total Bins 1076\n",
      "[LightGBM] [Info] Number of data points in the train set: 20272, number of used features: 10\n",
      "[LightGBM] [Info] Start training from score 65.938684\n",
      "mse: 5.117578785004823\n",
      "[LightGBM] [Info] Auto-choosing col-wise multi-threading, the overhead of testing was 0.001712 seconds.\n",
      "You can set `force_col_wise=true` to remove the overhead.\n",
      "[LightGBM] [Info] Total Bins 1367\n",
      "[LightGBM] [Info] Number of data points in the train set: 20269, number of used features: 13\n",
      "[LightGBM] [Info] Start training from score 65.937984\n",
      "mse: 5.282715838444828\n",
      "[LightGBM] [Info] Auto-choosing row-wise multi-threading, the overhead of testing was 0.000474 seconds.\n",
      "You can set `force_row_wise=true` to remove the overhead.\n",
      "And if memory is not enough, you can set `force_col_wise=true`.\n",
      "[LightGBM] [Info] Total Bins 591\n",
      "[LightGBM] [Info] Number of data points in the train set: 20272, number of used features: 5\n",
      "[LightGBM] [Info] Start training from score 65.940164\n",
      "mse: 7.3211129951428315\n",
      "[LightGBM] [Info] Auto-choosing col-wise multi-threading, the overhead of testing was 0.002184 seconds.\n",
      "You can set `force_col_wise=true` to remove the overhead.\n",
      "[LightGBM] [Info] Total Bins 882\n",
      "[LightGBM] [Info] Number of data points in the train set: 20269, number of used features: 8\n",
      "[LightGBM] [Info] Start training from score 65.941142\n",
      "mse: 7.719860669377309\n",
      "[LightGBM] [Info] Auto-choosing col-wise multi-threading, the overhead of testing was 0.001862 seconds.\n",
      "You can set `force_col_wise=true` to remove the overhead.\n",
      "[LightGBM] [Info] Total Bins 1076\n",
      "[LightGBM] [Info] Number of data points in the train set: 20267, number of used features: 10\n",
      "[LightGBM] [Info] Start training from score 65.941728\n",
      "mse: 7.7474998720581905\n",
      "[LightGBM] [Info] Auto-choosing col-wise multi-threading, the overhead of testing was 0.002392 seconds.\n",
      "You can set `force_col_wise=true` to remove the overhead.\n",
      "[LightGBM] [Info] Total Bins 1367\n",
      "[LightGBM] [Info] Number of data points in the train set: 20264, number of used features: 13\n",
      "[LightGBM] [Info] Start training from score 65.941028\n",
      "mse: 7.706005090960348\n",
      "[LightGBM] [Info] Auto-choosing col-wise multi-threading, the overhead of testing was 0.002130 seconds.\n",
      "You can set `force_col_wise=true` to remove the overhead.\n",
      "[LightGBM] [Info] Total Bins 591\n",
      "[LightGBM] [Info] Number of data points in the train set: 20267, number of used features: 5\n",
      "[LightGBM] [Info] Start training from score 65.943998\n",
      "mse: 12.425406475863117\n",
      "[LightGBM] [Info] Auto-choosing col-wise multi-threading, the overhead of testing was 0.001519 seconds.\n",
      "You can set `force_col_wise=true` to remove the overhead.\n",
      "[LightGBM] [Info] Total Bins 882\n",
      "[LightGBM] [Info] Number of data points in the train set: 20264, number of used features: 8\n",
      "[LightGBM] [Info] Start training from score 65.944976\n",
      "mse: 5.910827819851222\n",
      "[LightGBM] [Info] Auto-choosing col-wise multi-threading, the overhead of testing was 0.002000 seconds.\n",
      "You can set `force_col_wise=true` to remove the overhead.\n",
      "[LightGBM] [Info] Total Bins 1076\n",
      "[LightGBM] [Info] Number of data points in the train set: 20262, number of used features: 10\n",
      "[LightGBM] [Info] Start training from score 65.945563\n",
      "mse: 5.330743553482927\n",
      "[LightGBM] [Info] Auto-choosing col-wise multi-threading, the overhead of testing was 0.003262 seconds.\n",
      "You can set `force_col_wise=true` to remove the overhead.\n",
      "[LightGBM] [Info] Total Bins 1367\n",
      "[LightGBM] [Info] Number of data points in the train set: 20259, number of used features: 13\n",
      "[LightGBM] [Info] Start training from score 65.944864\n",
      "mse: 5.720019519441082\n",
      "[LightGBM] [Info] Auto-choosing row-wise multi-threading, the overhead of testing was 0.000919 seconds.\n",
      "You can set `force_row_wise=true` to remove the overhead.\n",
      "And if memory is not enough, you can set `force_col_wise=true`.\n",
      "[LightGBM] [Info] Total Bins 591\n",
      "[LightGBM] [Info] Number of data points in the train set: 20262, number of used features: 5\n",
      "[LightGBM] [Info] Start training from score 65.946896\n",
      "mse: 6.625906538447881\n",
      "[LightGBM] [Info] Auto-choosing col-wise multi-threading, the overhead of testing was 0.001599 seconds.\n",
      "You can set `force_col_wise=true` to remove the overhead.\n",
      "[LightGBM] [Info] Total Bins 882\n",
      "[LightGBM] [Info] Number of data points in the train set: 20259, number of used features: 8\n",
      "[LightGBM] [Info] Start training from score 65.947875\n"
     ]
    },
    {
     "name": "stdout",
     "output_type": "stream",
     "text": [
      "mse: 5.416750821478494\n",
      "[LightGBM] [Info] Auto-choosing col-wise multi-threading, the overhead of testing was 0.001595 seconds.\n",
      "You can set `force_col_wise=true` to remove the overhead.\n",
      "[LightGBM] [Info] Total Bins 1076\n",
      "[LightGBM] [Info] Number of data points in the train set: 20257, number of used features: 10\n",
      "[LightGBM] [Info] Start training from score 65.948462\n",
      "mse: 5.238815725696202\n",
      "[LightGBM] [Info] Auto-choosing col-wise multi-threading, the overhead of testing was 0.002955 seconds.\n",
      "You can set `force_col_wise=true` to remove the overhead.\n",
      "[LightGBM] [Info] Total Bins 1367\n",
      "[LightGBM] [Info] Number of data points in the train set: 20254, number of used features: 13\n",
      "[LightGBM] [Info] Start training from score 65.947763\n",
      "mse: 5.099608377071204\n",
      "mse: 9.336941761095659\n",
      "mse: 9.69849955443642\n",
      "mse: 10.174817495018942\n",
      "mse: 9.263180770137115\n",
      "mse: 3.9474637668245123\n",
      "mse: 3.7480691558288526\n",
      "mse: 3.733396573900245\n",
      "mse: 3.9573020189403905\n",
      "mse: 4.394836894296653\n",
      "mse: 4.52195168856706\n",
      "mse: 4.582240018635639\n",
      "mse: 7.820445757855001\n",
      "mse: 16.020496474106768\n",
      "mse: 14.787468366807298\n",
      "mse: 15.207723796823121\n",
      "mse: 15.672039986949676\n",
      "mse: 6.238170644742204\n",
      "mse: 5.647205303391092\n",
      "mse: 5.812082838990027\n",
      "mse: 5.5727489463507665\n",
      "mse: 6.54588560887593\n",
      "mse: 6.359668521601998\n",
      "mse: 6.634283500572686\n",
      "mse: 5.817396350800603\n"
     ]
    },
    {
     "name": "stderr",
     "output_type": "stream",
     "text": [
      "C:\\Users\\34634\\anaconda3\\lib\\site-packages\\pandas\\core\\algorithms.py:1814: DeprecationWarning: is_sparse is deprecated and will be removed in a future version. Check `isinstance(dtype, pd.SparseDtype)` instead.\n",
      "  return lib.map_infer(values, mapper, convert=convert)\n",
      "C:\\Users\\34634\\anaconda3\\lib\\site-packages\\pandas\\core\\algorithms.py:1814: DeprecationWarning: is_sparse is deprecated and will be removed in a future version. Check `isinstance(dtype, pd.SparseDtype)` instead.\n",
      "  return lib.map_infer(values, mapper, convert=convert)\n"
     ]
    },
    {
     "name": "stdout",
     "output_type": "stream",
     "text": [
      "mse: 17.624000000000002\n"
     ]
    },
    {
     "name": "stderr",
     "output_type": "stream",
     "text": [
      "C:\\Users\\34634\\anaconda3\\lib\\site-packages\\pandas\\core\\algorithms.py:1814: DeprecationWarning: is_sparse is deprecated and will be removed in a future version. Check `isinstance(dtype, pd.SparseDtype)` instead.\n",
      "  return lib.map_infer(values, mapper, convert=convert)\n",
      "C:\\Users\\34634\\anaconda3\\lib\\site-packages\\pandas\\core\\algorithms.py:1814: DeprecationWarning: is_sparse is deprecated and will be removed in a future version. Check `isinstance(dtype, pd.SparseDtype)` instead.\n",
      "  return lib.map_infer(values, mapper, convert=convert)\n"
     ]
    },
    {
     "name": "stdout",
     "output_type": "stream",
     "text": [
      "mse: 16.895999999999994\n"
     ]
    },
    {
     "name": "stderr",
     "output_type": "stream",
     "text": [
      "C:\\Users\\34634\\anaconda3\\lib\\site-packages\\pandas\\core\\algorithms.py:1814: DeprecationWarning: is_sparse is deprecated and will be removed in a future version. Check `isinstance(dtype, pd.SparseDtype)` instead.\n",
      "  return lib.map_infer(values, mapper, convert=convert)\n",
      "C:\\Users\\34634\\anaconda3\\lib\\site-packages\\pandas\\core\\algorithms.py:1814: DeprecationWarning: is_sparse is deprecated and will be removed in a future version. Check `isinstance(dtype, pd.SparseDtype)` instead.\n",
      "  return lib.map_infer(values, mapper, convert=convert)\n"
     ]
    },
    {
     "name": "stdout",
     "output_type": "stream",
     "text": [
      "mse: 4.767999999999995\n"
     ]
    },
    {
     "name": "stderr",
     "output_type": "stream",
     "text": [
      "C:\\Users\\34634\\anaconda3\\lib\\site-packages\\pandas\\core\\algorithms.py:1814: DeprecationWarning: is_sparse is deprecated and will be removed in a future version. Check `isinstance(dtype, pd.SparseDtype)` instead.\n",
      "  return lib.map_infer(values, mapper, convert=convert)\n",
      "C:\\Users\\34634\\anaconda3\\lib\\site-packages\\pandas\\core\\algorithms.py:1814: DeprecationWarning: is_sparse is deprecated and will be removed in a future version. Check `isinstance(dtype, pd.SparseDtype)` instead.\n",
      "  return lib.map_infer(values, mapper, convert=convert)\n"
     ]
    },
    {
     "name": "stdout",
     "output_type": "stream",
     "text": [
      "mse: 6.480000000000002\n"
     ]
    },
    {
     "name": "stderr",
     "output_type": "stream",
     "text": [
      "C:\\Users\\34634\\anaconda3\\lib\\site-packages\\pandas\\core\\algorithms.py:1814: DeprecationWarning: is_sparse is deprecated and will be removed in a future version. Check `isinstance(dtype, pd.SparseDtype)` instead.\n",
      "  return lib.map_infer(values, mapper, convert=convert)\n",
      "C:\\Users\\34634\\anaconda3\\lib\\site-packages\\pandas\\core\\algorithms.py:1814: DeprecationWarning: is_sparse is deprecated and will be removed in a future version. Check `isinstance(dtype, pd.SparseDtype)` instead.\n",
      "  return lib.map_infer(values, mapper, convert=convert)\n"
     ]
    },
    {
     "name": "stdout",
     "output_type": "stream",
     "text": [
      "mse: 5.296000000000001\n"
     ]
    },
    {
     "name": "stderr",
     "output_type": "stream",
     "text": [
      "C:\\Users\\34634\\anaconda3\\lib\\site-packages\\pandas\\core\\algorithms.py:1814: DeprecationWarning: is_sparse is deprecated and will be removed in a future version. Check `isinstance(dtype, pd.SparseDtype)` instead.\n",
      "  return lib.map_infer(values, mapper, convert=convert)\n",
      "C:\\Users\\34634\\anaconda3\\lib\\site-packages\\pandas\\core\\algorithms.py:1814: DeprecationWarning: is_sparse is deprecated and will be removed in a future version. Check `isinstance(dtype, pd.SparseDtype)` instead.\n",
      "  return lib.map_infer(values, mapper, convert=convert)\n"
     ]
    },
    {
     "name": "stdout",
     "output_type": "stream",
     "text": [
      "mse: 18.35199999999999\n"
     ]
    },
    {
     "name": "stderr",
     "output_type": "stream",
     "text": [
      "C:\\Users\\34634\\anaconda3\\lib\\site-packages\\pandas\\core\\algorithms.py:1814: DeprecationWarning: is_sparse is deprecated and will be removed in a future version. Check `isinstance(dtype, pd.SparseDtype)` instead.\n",
      "  return lib.map_infer(values, mapper, convert=convert)\n",
      "C:\\Users\\34634\\anaconda3\\lib\\site-packages\\pandas\\core\\algorithms.py:1814: DeprecationWarning: is_sparse is deprecated and will be removed in a future version. Check `isinstance(dtype, pd.SparseDtype)` instead.\n",
      "  return lib.map_infer(values, mapper, convert=convert)\n"
     ]
    },
    {
     "name": "stdout",
     "output_type": "stream",
     "text": [
      "mse: 8.331999999999999\n"
     ]
    },
    {
     "name": "stderr",
     "output_type": "stream",
     "text": [
      "C:\\Users\\34634\\anaconda3\\lib\\site-packages\\pandas\\core\\algorithms.py:1814: DeprecationWarning: is_sparse is deprecated and will be removed in a future version. Check `isinstance(dtype, pd.SparseDtype)` instead.\n",
      "  return lib.map_infer(values, mapper, convert=convert)\n",
      "C:\\Users\\34634\\anaconda3\\lib\\site-packages\\pandas\\core\\algorithms.py:1814: DeprecationWarning: is_sparse is deprecated and will be removed in a future version. Check `isinstance(dtype, pd.SparseDtype)` instead.\n",
      "  return lib.map_infer(values, mapper, convert=convert)\n"
     ]
    },
    {
     "name": "stdout",
     "output_type": "stream",
     "text": [
      "mse: 2.9479999999999955\n"
     ]
    },
    {
     "name": "stderr",
     "output_type": "stream",
     "text": [
      "C:\\Users\\34634\\anaconda3\\lib\\site-packages\\pandas\\core\\algorithms.py:1814: DeprecationWarning: is_sparse is deprecated and will be removed in a future version. Check `isinstance(dtype, pd.SparseDtype)` instead.\n",
      "  return lib.map_infer(values, mapper, convert=convert)\n",
      "C:\\Users\\34634\\anaconda3\\lib\\site-packages\\pandas\\core\\algorithms.py:1814: DeprecationWarning: is_sparse is deprecated and will be removed in a future version. Check `isinstance(dtype, pd.SparseDtype)` instead.\n",
      "  return lib.map_infer(values, mapper, convert=convert)\n"
     ]
    },
    {
     "name": "stdout",
     "output_type": "stream",
     "text": [
      "mse: 4.264000000000004\n"
     ]
    },
    {
     "name": "stderr",
     "output_type": "stream",
     "text": [
      "C:\\Users\\34634\\anaconda3\\lib\\site-packages\\pandas\\core\\algorithms.py:1814: DeprecationWarning: is_sparse is deprecated and will be removed in a future version. Check `isinstance(dtype, pd.SparseDtype)` instead.\n",
      "  return lib.map_infer(values, mapper, convert=convert)\n",
      "C:\\Users\\34634\\anaconda3\\lib\\site-packages\\pandas\\core\\algorithms.py:1814: DeprecationWarning: is_sparse is deprecated and will be removed in a future version. Check `isinstance(dtype, pd.SparseDtype)` instead.\n",
      "  return lib.map_infer(values, mapper, convert=convert)\n"
     ]
    },
    {
     "name": "stdout",
     "output_type": "stream",
     "text": [
      "mse: 5.0053333333333345\n"
     ]
    },
    {
     "name": "stderr",
     "output_type": "stream",
     "text": [
      "C:\\Users\\34634\\anaconda3\\lib\\site-packages\\pandas\\core\\algorithms.py:1814: DeprecationWarning: is_sparse is deprecated and will be removed in a future version. Check `isinstance(dtype, pd.SparseDtype)` instead.\n",
      "  return lib.map_infer(values, mapper, convert=convert)\n",
      "C:\\Users\\34634\\anaconda3\\lib\\site-packages\\pandas\\core\\algorithms.py:1814: DeprecationWarning: is_sparse is deprecated and will be removed in a future version. Check `isinstance(dtype, pd.SparseDtype)` instead.\n",
      "  return lib.map_infer(values, mapper, convert=convert)\n"
     ]
    },
    {
     "name": "stdout",
     "output_type": "stream",
     "text": [
      "mse: 9.565333333333333\n"
     ]
    },
    {
     "name": "stderr",
     "output_type": "stream",
     "text": [
      "C:\\Users\\34634\\anaconda3\\lib\\site-packages\\pandas\\core\\algorithms.py:1814: DeprecationWarning: is_sparse is deprecated and will be removed in a future version. Check `isinstance(dtype, pd.SparseDtype)` instead.\n",
      "  return lib.map_infer(values, mapper, convert=convert)\n",
      "C:\\Users\\34634\\anaconda3\\lib\\site-packages\\pandas\\core\\algorithms.py:1814: DeprecationWarning: is_sparse is deprecated and will be removed in a future version. Check `isinstance(dtype, pd.SparseDtype)` instead.\n",
      "  return lib.map_infer(values, mapper, convert=convert)\n"
     ]
    },
    {
     "name": "stdout",
     "output_type": "stream",
     "text": [
      "mse: 3.946666666666666\n"
     ]
    },
    {
     "name": "stderr",
     "output_type": "stream",
     "text": [
      "C:\\Users\\34634\\anaconda3\\lib\\site-packages\\pandas\\core\\algorithms.py:1814: DeprecationWarning: is_sparse is deprecated and will be removed in a future version. Check `isinstance(dtype, pd.SparseDtype)` instead.\n",
      "  return lib.map_infer(values, mapper, convert=convert)\n",
      "C:\\Users\\34634\\anaconda3\\lib\\site-packages\\pandas\\core\\algorithms.py:1814: DeprecationWarning: is_sparse is deprecated and will be removed in a future version. Check `isinstance(dtype, pd.SparseDtype)` instead.\n",
      "  return lib.map_infer(values, mapper, convert=convert)\n"
     ]
    },
    {
     "name": "stdout",
     "output_type": "stream",
     "text": [
      "mse: 5.790000000000007\n"
     ]
    },
    {
     "name": "stderr",
     "output_type": "stream",
     "text": [
      "C:\\Users\\34634\\anaconda3\\lib\\site-packages\\pandas\\core\\algorithms.py:1814: DeprecationWarning: is_sparse is deprecated and will be removed in a future version. Check `isinstance(dtype, pd.SparseDtype)` instead.\n",
      "  return lib.map_infer(values, mapper, convert=convert)\n",
      "C:\\Users\\34634\\anaconda3\\lib\\site-packages\\pandas\\core\\algorithms.py:1814: DeprecationWarning: is_sparse is deprecated and will be removed in a future version. Check `isinstance(dtype, pd.SparseDtype)` instead.\n",
      "  return lib.map_infer(values, mapper, convert=convert)\n"
     ]
    },
    {
     "name": "stdout",
     "output_type": "stream",
     "text": [
      "mse: 7.861999999999999\n"
     ]
    },
    {
     "name": "stderr",
     "output_type": "stream",
     "text": [
      "C:\\Users\\34634\\anaconda3\\lib\\site-packages\\pandas\\core\\algorithms.py:1814: DeprecationWarning: is_sparse is deprecated and will be removed in a future version. Check `isinstance(dtype, pd.SparseDtype)` instead.\n",
      "  return lib.map_infer(values, mapper, convert=convert)\n",
      "C:\\Users\\34634\\anaconda3\\lib\\site-packages\\pandas\\core\\algorithms.py:1814: DeprecationWarning: is_sparse is deprecated and will be removed in a future version. Check `isinstance(dtype, pd.SparseDtype)` instead.\n",
      "  return lib.map_infer(values, mapper, convert=convert)\n"
     ]
    },
    {
     "name": "stdout",
     "output_type": "stream",
     "text": [
      "mse: 8.112000000000004\n"
     ]
    },
    {
     "name": "stderr",
     "output_type": "stream",
     "text": [
      "C:\\Users\\34634\\anaconda3\\lib\\site-packages\\pandas\\core\\algorithms.py:1814: DeprecationWarning: is_sparse is deprecated and will be removed in a future version. Check `isinstance(dtype, pd.SparseDtype)` instead.\n",
      "  return lib.map_infer(values, mapper, convert=convert)\n",
      "C:\\Users\\34634\\anaconda3\\lib\\site-packages\\pandas\\core\\algorithms.py:1814: DeprecationWarning: is_sparse is deprecated and will be removed in a future version. Check `isinstance(dtype, pd.SparseDtype)` instead.\n",
      "  return lib.map_infer(values, mapper, convert=convert)\n"
     ]
    },
    {
     "name": "stdout",
     "output_type": "stream",
     "text": [
      "mse: 12.262\n"
     ]
    },
    {
     "name": "stderr",
     "output_type": "stream",
     "text": [
      "C:\\Users\\34634\\anaconda3\\lib\\site-packages\\pandas\\core\\algorithms.py:1814: DeprecationWarning: is_sparse is deprecated and will be removed in a future version. Check `isinstance(dtype, pd.SparseDtype)` instead.\n",
      "  return lib.map_infer(values, mapper, convert=convert)\n",
      "C:\\Users\\34634\\anaconda3\\lib\\site-packages\\pandas\\core\\algorithms.py:1814: DeprecationWarning: is_sparse is deprecated and will be removed in a future version. Check `isinstance(dtype, pd.SparseDtype)` instead.\n",
      "  return lib.map_infer(values, mapper, convert=convert)\n"
     ]
    },
    {
     "name": "stdout",
     "output_type": "stream",
     "text": [
      "mse: 6.180800000000005\n"
     ]
    },
    {
     "name": "stderr",
     "output_type": "stream",
     "text": [
      "C:\\Users\\34634\\anaconda3\\lib\\site-packages\\pandas\\core\\algorithms.py:1814: DeprecationWarning: is_sparse is deprecated and will be removed in a future version. Check `isinstance(dtype, pd.SparseDtype)` instead.\n",
      "  return lib.map_infer(values, mapper, convert=convert)\n",
      "C:\\Users\\34634\\anaconda3\\lib\\site-packages\\pandas\\core\\algorithms.py:1814: DeprecationWarning: is_sparse is deprecated and will be removed in a future version. Check `isinstance(dtype, pd.SparseDtype)` instead.\n",
      "  return lib.map_infer(values, mapper, convert=convert)\n"
     ]
    },
    {
     "name": "stdout",
     "output_type": "stream",
     "text": [
      "mse: 33.76\n"
     ]
    },
    {
     "name": "stderr",
     "output_type": "stream",
     "text": [
      "C:\\Users\\34634\\anaconda3\\lib\\site-packages\\pandas\\core\\algorithms.py:1814: DeprecationWarning: is_sparse is deprecated and will be removed in a future version. Check `isinstance(dtype, pd.SparseDtype)` instead.\n",
      "  return lib.map_infer(values, mapper, convert=convert)\n",
      "C:\\Users\\34634\\anaconda3\\lib\\site-packages\\pandas\\core\\algorithms.py:1814: DeprecationWarning: is_sparse is deprecated and will be removed in a future version. Check `isinstance(dtype, pd.SparseDtype)` instead.\n",
      "  return lib.map_infer(values, mapper, convert=convert)\n"
     ]
    },
    {
     "name": "stdout",
     "output_type": "stream",
     "text": [
      "mse: 5.216\n"
     ]
    },
    {
     "name": "stderr",
     "output_type": "stream",
     "text": [
      "C:\\Users\\34634\\anaconda3\\lib\\site-packages\\pandas\\core\\algorithms.py:1814: DeprecationWarning: is_sparse is deprecated and will be removed in a future version. Check `isinstance(dtype, pd.SparseDtype)` instead.\n",
      "  return lib.map_infer(values, mapper, convert=convert)\n",
      "C:\\Users\\34634\\anaconda3\\lib\\site-packages\\pandas\\core\\algorithms.py:1814: DeprecationWarning: is_sparse is deprecated and will be removed in a future version. Check `isinstance(dtype, pd.SparseDtype)` instead.\n",
      "  return lib.map_infer(values, mapper, convert=convert)\n"
     ]
    },
    {
     "name": "stdout",
     "output_type": "stream",
     "text": [
      "mse: 9.430400000000002\n"
     ]
    },
    {
     "name": "stderr",
     "output_type": "stream",
     "text": [
      "C:\\Users\\34634\\anaconda3\\lib\\site-packages\\pandas\\core\\algorithms.py:1814: DeprecationWarning: is_sparse is deprecated and will be removed in a future version. Check `isinstance(dtype, pd.SparseDtype)` instead.\n",
      "  return lib.map_infer(values, mapper, convert=convert)\n",
      "C:\\Users\\34634\\anaconda3\\lib\\site-packages\\pandas\\core\\algorithms.py:1814: DeprecationWarning: is_sparse is deprecated and will be removed in a future version. Check `isinstance(dtype, pd.SparseDtype)` instead.\n",
      "  return lib.map_infer(values, mapper, convert=convert)\n"
     ]
    },
    {
     "name": "stdout",
     "output_type": "stream",
     "text": [
      "mse: 15.74266666666668\n"
     ]
    },
    {
     "name": "stderr",
     "output_type": "stream",
     "text": [
      "C:\\Users\\34634\\anaconda3\\lib\\site-packages\\pandas\\core\\algorithms.py:1814: DeprecationWarning: is_sparse is deprecated and will be removed in a future version. Check `isinstance(dtype, pd.SparseDtype)` instead.\n",
      "  return lib.map_infer(values, mapper, convert=convert)\n",
      "C:\\Users\\34634\\anaconda3\\lib\\site-packages\\pandas\\core\\algorithms.py:1814: DeprecationWarning: is_sparse is deprecated and will be removed in a future version. Check `isinstance(dtype, pd.SparseDtype)` instead.\n",
      "  return lib.map_infer(values, mapper, convert=convert)\n"
     ]
    },
    {
     "name": "stdout",
     "output_type": "stream",
     "text": [
      "mse: 23.71466666666667\n"
     ]
    },
    {
     "name": "stderr",
     "output_type": "stream",
     "text": [
      "C:\\Users\\34634\\anaconda3\\lib\\site-packages\\pandas\\core\\algorithms.py:1814: DeprecationWarning: is_sparse is deprecated and will be removed in a future version. Check `isinstance(dtype, pd.SparseDtype)` instead.\n",
      "  return lib.map_infer(values, mapper, convert=convert)\n",
      "C:\\Users\\34634\\anaconda3\\lib\\site-packages\\pandas\\core\\algorithms.py:1814: DeprecationWarning: is_sparse is deprecated and will be removed in a future version. Check `isinstance(dtype, pd.SparseDtype)` instead.\n",
      "  return lib.map_infer(values, mapper, convert=convert)\n"
     ]
    },
    {
     "name": "stdout",
     "output_type": "stream",
     "text": [
      "mse: 6.2266666666666675\n"
     ]
    },
    {
     "name": "stderr",
     "output_type": "stream",
     "text": [
      "C:\\Users\\34634\\anaconda3\\lib\\site-packages\\pandas\\core\\algorithms.py:1814: DeprecationWarning: is_sparse is deprecated and will be removed in a future version. Check `isinstance(dtype, pd.SparseDtype)` instead.\n",
      "  return lib.map_infer(values, mapper, convert=convert)\n",
      "C:\\Users\\34634\\anaconda3\\lib\\site-packages\\pandas\\core\\algorithms.py:1814: DeprecationWarning: is_sparse is deprecated and will be removed in a future version. Check `isinstance(dtype, pd.SparseDtype)` instead.\n",
      "  return lib.map_infer(values, mapper, convert=convert)\n"
     ]
    },
    {
     "name": "stdout",
     "output_type": "stream",
     "text": [
      "mse: 7.706666666666665\n"
     ]
    },
    {
     "name": "stderr",
     "output_type": "stream",
     "text": [
      "C:\\Users\\34634\\anaconda3\\lib\\site-packages\\pandas\\core\\algorithms.py:1814: DeprecationWarning: is_sparse is deprecated and will be removed in a future version. Check `isinstance(dtype, pd.SparseDtype)` instead.\n",
      "  return lib.map_infer(values, mapper, convert=convert)\n",
      "C:\\Users\\34634\\anaconda3\\lib\\site-packages\\pandas\\core\\algorithms.py:1814: DeprecationWarning: is_sparse is deprecated and will be removed in a future version. Check `isinstance(dtype, pd.SparseDtype)` instead.\n",
      "  return lib.map_infer(values, mapper, convert=convert)\n"
     ]
    },
    {
     "name": "stdout",
     "output_type": "stream",
     "text": [
      "mse: 23.018249649618607\n"
     ]
    },
    {
     "name": "stderr",
     "output_type": "stream",
     "text": [
      "C:\\Users\\34634\\anaconda3\\lib\\site-packages\\pandas\\core\\algorithms.py:1814: DeprecationWarning: is_sparse is deprecated and will be removed in a future version. Check `isinstance(dtype, pd.SparseDtype)` instead.\n",
      "  return lib.map_infer(values, mapper, convert=convert)\n",
      "C:\\Users\\34634\\anaconda3\\lib\\site-packages\\pandas\\core\\algorithms.py:1814: DeprecationWarning: is_sparse is deprecated and will be removed in a future version. Check `isinstance(dtype, pd.SparseDtype)` instead.\n",
      "  return lib.map_infer(values, mapper, convert=convert)\n"
     ]
    },
    {
     "name": "stdout",
     "output_type": "stream",
     "text": [
      "mse: 12.114646805555557\n"
     ]
    },
    {
     "name": "stderr",
     "output_type": "stream",
     "text": [
      "C:\\Users\\34634\\anaconda3\\lib\\site-packages\\pandas\\core\\algorithms.py:1814: DeprecationWarning: is_sparse is deprecated and will be removed in a future version. Check `isinstance(dtype, pd.SparseDtype)` instead.\n",
      "  return lib.map_infer(values, mapper, convert=convert)\n",
      "C:\\Users\\34634\\anaconda3\\lib\\site-packages\\pandas\\core\\algorithms.py:1814: DeprecationWarning: is_sparse is deprecated and will be removed in a future version. Check `isinstance(dtype, pd.SparseDtype)` instead.\n",
      "  return lib.map_infer(values, mapper, convert=convert)\n"
     ]
    },
    {
     "name": "stdout",
     "output_type": "stream",
     "text": [
      "mse: 10.895705000000001\n"
     ]
    },
    {
     "name": "stderr",
     "output_type": "stream",
     "text": [
      "C:\\Users\\34634\\anaconda3\\lib\\site-packages\\pandas\\core\\algorithms.py:1814: DeprecationWarning: is_sparse is deprecated and will be removed in a future version. Check `isinstance(dtype, pd.SparseDtype)` instead.\n",
      "  return lib.map_infer(values, mapper, convert=convert)\n",
      "C:\\Users\\34634\\anaconda3\\lib\\site-packages\\pandas\\core\\algorithms.py:1814: DeprecationWarning: is_sparse is deprecated and will be removed in a future version. Check `isinstance(dtype, pd.SparseDtype)` instead.\n",
      "  return lib.map_infer(values, mapper, convert=convert)\n"
     ]
    },
    {
     "name": "stdout",
     "output_type": "stream",
     "text": [
      "mse: 11.950760000000008\n"
     ]
    },
    {
     "name": "stderr",
     "output_type": "stream",
     "text": [
      "C:\\Users\\34634\\anaconda3\\lib\\site-packages\\pandas\\core\\algorithms.py:1814: DeprecationWarning: is_sparse is deprecated and will be removed in a future version. Check `isinstance(dtype, pd.SparseDtype)` instead.\n",
      "  return lib.map_infer(values, mapper, convert=convert)\n",
      "C:\\Users\\34634\\anaconda3\\lib\\site-packages\\pandas\\core\\algorithms.py:1814: DeprecationWarning: is_sparse is deprecated and will be removed in a future version. Check `isinstance(dtype, pd.SparseDtype)` instead.\n",
      "  return lib.map_infer(values, mapper, convert=convert)\n"
     ]
    },
    {
     "name": "stdout",
     "output_type": "stream",
     "text": [
      "mse: 5.504289412870067\n"
     ]
    },
    {
     "name": "stderr",
     "output_type": "stream",
     "text": [
      "C:\\Users\\34634\\anaconda3\\lib\\site-packages\\pandas\\core\\algorithms.py:1814: DeprecationWarning: is_sparse is deprecated and will be removed in a future version. Check `isinstance(dtype, pd.SparseDtype)` instead.\n",
      "  return lib.map_infer(values, mapper, convert=convert)\n",
      "C:\\Users\\34634\\anaconda3\\lib\\site-packages\\pandas\\core\\algorithms.py:1814: DeprecationWarning: is_sparse is deprecated and will be removed in a future version. Check `isinstance(dtype, pd.SparseDtype)` instead.\n",
      "  return lib.map_infer(values, mapper, convert=convert)\n"
     ]
    },
    {
     "name": "stdout",
     "output_type": "stream",
     "text": [
      "mse: 14.190212349263021\n"
     ]
    },
    {
     "name": "stderr",
     "output_type": "stream",
     "text": [
      "C:\\Users\\34634\\anaconda3\\lib\\site-packages\\pandas\\core\\algorithms.py:1814: DeprecationWarning: is_sparse is deprecated and will be removed in a future version. Check `isinstance(dtype, pd.SparseDtype)` instead.\n",
      "  return lib.map_infer(values, mapper, convert=convert)\n",
      "C:\\Users\\34634\\anaconda3\\lib\\site-packages\\pandas\\core\\algorithms.py:1814: DeprecationWarning: is_sparse is deprecated and will be removed in a future version. Check `isinstance(dtype, pd.SparseDtype)` instead.\n",
      "  return lib.map_infer(values, mapper, convert=convert)\n"
     ]
    },
    {
     "name": "stdout",
     "output_type": "stream",
     "text": [
      "mse: 7.042341736111115\n"
     ]
    },
    {
     "name": "stderr",
     "output_type": "stream",
     "text": [
      "C:\\Users\\34634\\anaconda3\\lib\\site-packages\\pandas\\core\\algorithms.py:1814: DeprecationWarning: is_sparse is deprecated and will be removed in a future version. Check `isinstance(dtype, pd.SparseDtype)` instead.\n",
      "  return lib.map_infer(values, mapper, convert=convert)\n",
      "C:\\Users\\34634\\anaconda3\\lib\\site-packages\\pandas\\core\\algorithms.py:1814: DeprecationWarning: is_sparse is deprecated and will be removed in a future version. Check `isinstance(dtype, pd.SparseDtype)` instead.\n",
      "  return lib.map_infer(values, mapper, convert=convert)\n"
     ]
    },
    {
     "name": "stdout",
     "output_type": "stream",
     "text": [
      "mse: 5.417760000000001\n"
     ]
    },
    {
     "name": "stderr",
     "output_type": "stream",
     "text": [
      "C:\\Users\\34634\\anaconda3\\lib\\site-packages\\pandas\\core\\algorithms.py:1814: DeprecationWarning: is_sparse is deprecated and will be removed in a future version. Check `isinstance(dtype, pd.SparseDtype)` instead.\n",
      "  return lib.map_infer(values, mapper, convert=convert)\n",
      "C:\\Users\\34634\\anaconda3\\lib\\site-packages\\pandas\\core\\algorithms.py:1814: DeprecationWarning: is_sparse is deprecated and will be removed in a future version. Check `isinstance(dtype, pd.SparseDtype)` instead.\n",
      "  return lib.map_infer(values, mapper, convert=convert)\n"
     ]
    },
    {
     "name": "stdout",
     "output_type": "stream",
     "text": [
      "mse: 6.0482613907096\n"
     ]
    },
    {
     "name": "stderr",
     "output_type": "stream",
     "text": [
      "C:\\Users\\34634\\anaconda3\\lib\\site-packages\\pandas\\core\\algorithms.py:1814: DeprecationWarning: is_sparse is deprecated and will be removed in a future version. Check `isinstance(dtype, pd.SparseDtype)` instead.\n",
      "  return lib.map_infer(values, mapper, convert=convert)\n",
      "C:\\Users\\34634\\anaconda3\\lib\\site-packages\\pandas\\core\\algorithms.py:1814: DeprecationWarning: is_sparse is deprecated and will be removed in a future version. Check `isinstance(dtype, pd.SparseDtype)` instead.\n",
      "  return lib.map_infer(values, mapper, convert=convert)\n"
     ]
    },
    {
     "name": "stdout",
     "output_type": "stream",
     "text": [
      "mse: 5.054857420782425\n"
     ]
    },
    {
     "name": "stderr",
     "output_type": "stream",
     "text": [
      "C:\\Users\\34634\\anaconda3\\lib\\site-packages\\pandas\\core\\algorithms.py:1814: DeprecationWarning: is_sparse is deprecated and will be removed in a future version. Check `isinstance(dtype, pd.SparseDtype)` instead.\n",
      "  return lib.map_infer(values, mapper, convert=convert)\n",
      "C:\\Users\\34634\\anaconda3\\lib\\site-packages\\pandas\\core\\algorithms.py:1814: DeprecationWarning: is_sparse is deprecated and will be removed in a future version. Check `isinstance(dtype, pd.SparseDtype)` instead.\n",
      "  return lib.map_infer(values, mapper, convert=convert)\n"
     ]
    },
    {
     "name": "stdout",
     "output_type": "stream",
     "text": [
      "mse: 5.332343668613013\n"
     ]
    },
    {
     "name": "stderr",
     "output_type": "stream",
     "text": [
      "C:\\Users\\34634\\anaconda3\\lib\\site-packages\\pandas\\core\\algorithms.py:1814: DeprecationWarning: is_sparse is deprecated and will be removed in a future version. Check `isinstance(dtype, pd.SparseDtype)` instead.\n",
      "  return lib.map_infer(values, mapper, convert=convert)\n",
      "C:\\Users\\34634\\anaconda3\\lib\\site-packages\\pandas\\core\\algorithms.py:1814: DeprecationWarning: is_sparse is deprecated and will be removed in a future version. Check `isinstance(dtype, pd.SparseDtype)` instead.\n",
      "  return lib.map_infer(values, mapper, convert=convert)\n"
     ]
    },
    {
     "name": "stdout",
     "output_type": "stream",
     "text": [
      "mse: 3.710093333333335\n"
     ]
    },
    {
     "name": "stderr",
     "output_type": "stream",
     "text": [
      "C:\\Users\\34634\\anaconda3\\lib\\site-packages\\pandas\\core\\algorithms.py:1814: DeprecationWarning: is_sparse is deprecated and will be removed in a future version. Check `isinstance(dtype, pd.SparseDtype)` instead.\n",
      "  return lib.map_infer(values, mapper, convert=convert)\n",
      "C:\\Users\\34634\\anaconda3\\lib\\site-packages\\pandas\\core\\algorithms.py:1814: DeprecationWarning: is_sparse is deprecated and will be removed in a future version. Check `isinstance(dtype, pd.SparseDtype)` instead.\n",
      "  return lib.map_infer(values, mapper, convert=convert)\n"
     ]
    },
    {
     "name": "stdout",
     "output_type": "stream",
     "text": [
      "mse: 17.040451000259274\n"
     ]
    },
    {
     "name": "stderr",
     "output_type": "stream",
     "text": [
      "C:\\Users\\34634\\anaconda3\\lib\\site-packages\\pandas\\core\\algorithms.py:1814: DeprecationWarning: is_sparse is deprecated and will be removed in a future version. Check `isinstance(dtype, pd.SparseDtype)` instead.\n",
      "  return lib.map_infer(values, mapper, convert=convert)\n",
      "C:\\Users\\34634\\anaconda3\\lib\\site-packages\\pandas\\core\\algorithms.py:1814: DeprecationWarning: is_sparse is deprecated and will be removed in a future version. Check `isinstance(dtype, pd.SparseDtype)` instead.\n",
      "  return lib.map_infer(values, mapper, convert=convert)\n"
     ]
    },
    {
     "name": "stdout",
     "output_type": "stream",
     "text": [
      "mse: 14.348317397432604\n"
     ]
    },
    {
     "name": "stderr",
     "output_type": "stream",
     "text": [
      "C:\\Users\\34634\\anaconda3\\lib\\site-packages\\pandas\\core\\algorithms.py:1814: DeprecationWarning: is_sparse is deprecated and will be removed in a future version. Check `isinstance(dtype, pd.SparseDtype)` instead.\n",
      "  return lib.map_infer(values, mapper, convert=convert)\n",
      "C:\\Users\\34634\\anaconda3\\lib\\site-packages\\pandas\\core\\algorithms.py:1814: DeprecationWarning: is_sparse is deprecated and will be removed in a future version. Check `isinstance(dtype, pd.SparseDtype)` instead.\n",
      "  return lib.map_infer(values, mapper, convert=convert)\n"
     ]
    },
    {
     "name": "stdout",
     "output_type": "stream",
     "text": [
      "mse: 8.590193312910982\n"
     ]
    },
    {
     "name": "stderr",
     "output_type": "stream",
     "text": [
      "C:\\Users\\34634\\anaconda3\\lib\\site-packages\\pandas\\core\\algorithms.py:1814: DeprecationWarning: is_sparse is deprecated and will be removed in a future version. Check `isinstance(dtype, pd.SparseDtype)` instead.\n",
      "  return lib.map_infer(values, mapper, convert=convert)\n",
      "C:\\Users\\34634\\anaconda3\\lib\\site-packages\\pandas\\core\\algorithms.py:1814: DeprecationWarning: is_sparse is deprecated and will be removed in a future version. Check `isinstance(dtype, pd.SparseDtype)` instead.\n",
      "  return lib.map_infer(values, mapper, convert=convert)\n"
     ]
    },
    {
     "name": "stdout",
     "output_type": "stream",
     "text": [
      "mse: 6.567686250000003\n"
     ]
    },
    {
     "name": "stderr",
     "output_type": "stream",
     "text": [
      "C:\\Users\\34634\\anaconda3\\lib\\site-packages\\pandas\\core\\algorithms.py:1814: DeprecationWarning: is_sparse is deprecated and will be removed in a future version. Check `isinstance(dtype, pd.SparseDtype)` instead.\n",
      "  return lib.map_infer(values, mapper, convert=convert)\n",
      "C:\\Users\\34634\\anaconda3\\lib\\site-packages\\pandas\\core\\algorithms.py:1814: DeprecationWarning: is_sparse is deprecated and will be removed in a future version. Check `isinstance(dtype, pd.SparseDtype)` instead.\n",
      "  return lib.map_infer(values, mapper, convert=convert)\n"
     ]
    },
    {
     "name": "stdout",
     "output_type": "stream",
     "text": [
      "mse: 12.95196019758713\n"
     ]
    },
    {
     "name": "stderr",
     "output_type": "stream",
     "text": [
      "C:\\Users\\34634\\anaconda3\\lib\\site-packages\\pandas\\core\\algorithms.py:1814: DeprecationWarning: is_sparse is deprecated and will be removed in a future version. Check `isinstance(dtype, pd.SparseDtype)` instead.\n",
      "  return lib.map_infer(values, mapper, convert=convert)\n"
     ]
    }
   ],
   "source": [
    "resultados = {}\n",
    "\n",
    "for nombre_modelo, modelo in modelos:\n",
    "    for step in steps:  \n",
    "        datos_train = data.iloc[:-step]  \n",
    "        datos_test  = data.iloc[-step:] \n",
    "        datos_train = datos_train.bfill();\n",
    "        datos_test = datos_test.bfill();\n",
    "\n",
    "        for lag in lags:\n",
    "            forecaster = ForecasterAutoreg(\n",
    "                regressor=modelo,\n",
    "                lags=lag\n",
    "            )\n",
    "            forecaster.fit(y=datos_train['HeartRate'], exog=datos_train[['Calories', 'Steps', 'Distance']])\n",
    "            predicciones = forecaster.predict(steps=step, exog=datos_test[['Calories', 'Steps', 'Distance']])\n",
    "            error_mse = mean_squared_error(y_true=datos_test['HeartRate'], y_pred=predicciones)\n",
    "            resultados[(nombre_modelo, step, lag)] = error_mse\n",
    "            \n",
    "\n",
    "\n",
    "\n",
    "nombre_archivo = \"resultados_modelos.csv\"\n",
    "\n",
    "# Abrir el archivo CSV en modo de escritura\n",
    "with open(nombre_archivo, mode='w', newline='') as file:\n",
    "    writer = csv.writer(file)\n",
    "\n",
    "    # Escribir el encabezado del archivo CSV\n",
    "    writer.writerow(['Modelo', 'Steps', 'Lags', 'MSE'])\n",
    "\n",
    "    # Escribir los resultados en el archivo CSV\n",
    "    for nombre_modelo, _, _ in modelos:\n",
    "        for step in steps:\n",
    "            for lag in lags:\n",
    "                error_mse = resultados[(nombre_modelo, step, lag)]\n",
    "                # Escribir una fila en el archivo CSV\n",
    "                writer.writerow([nombre_modelo, step, lag, error_mse])\n",
    "\n",
    "print(f\"Los resultados se han guardado en el archivo '{nombre_archivo}'.\")\n"
   ]
  },
  {
   "cell_type": "code",
   "execution_count": null,
   "id": "08c104b0",
   "metadata": {},
   "outputs": [],
   "source": []
  },
  {
   "cell_type": "code",
   "execution_count": null,
   "id": "1476899b",
   "metadata": {},
   "outputs": [],
   "source": []
  },
  {
   "cell_type": "code",
   "execution_count": null,
   "id": "58953ecd",
   "metadata": {},
   "outputs": [],
   "source": []
  },
  {
   "cell_type": "code",
   "execution_count": null,
   "id": "72932d9f",
   "metadata": {},
   "outputs": [],
   "source": []
  }
 ],
 "metadata": {
  "kernelspec": {
   "display_name": "Python 3 (ipykernel)",
   "language": "python",
   "name": "python3"
  },
  "language_info": {
   "codemirror_mode": {
    "name": "ipython",
    "version": 3
   },
   "file_extension": ".py",
   "mimetype": "text/x-python",
   "name": "python",
   "nbconvert_exporter": "python",
   "pygments_lexer": "ipython3",
   "version": "3.9.13"
  }
 },
 "nbformat": 4,
 "nbformat_minor": 5
}
