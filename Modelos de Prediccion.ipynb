{
 "cells": [
  {
   "cell_type": "markdown",
   "id": "efcee890",
   "metadata": {},
   "source": [
    "# Modelos de Predicción"
   ]
  },
  {
   "cell_type": "code",
   "execution_count": 11,
   "id": "7a8dfff8",
   "metadata": {},
   "outputs": [],
   "source": [
    "# Importaciones necesarias para el correcto funcionamiento de todos lo modelos y demás operaciones con los datos\n",
    "import pandas as pd \n",
    "import numpy as np\n",
    "import sklearn"
   ]
  },
  {
   "cell_type": "code",
   "execution_count": 12,
   "id": "14d78954",
   "metadata": {},
   "outputs": [
    {
     "name": "stdout",
     "output_type": "stream",
     "text": [
      "                Id                 Time   HeartRate  Intensity  Calories\n",
      "0       2022484408  2016-04-12 07:21:00  101.600000          1   3.32064\n",
      "1       2022484408  2016-04-12 07:22:00   87.888889          1   3.94326\n",
      "2       2022484408  2016-04-12 07:23:00   58.000000          0   1.34901\n",
      "3       2022484408  2016-04-12 07:24:00   58.000000          0   1.03770\n",
      "4       2022484408  2016-04-12 07:25:00   56.777778          0   1.03770\n",
      "...            ...                  ...         ...        ...       ...\n",
      "333141  8877689391  2016-05-12 13:55:00   60.666667          0   1.33353\n",
      "333142  8877689391  2016-05-12 13:56:00   61.875000          0   1.33353\n",
      "333143  8877689391  2016-05-12 13:57:00   58.142857          0   1.33353\n",
      "333144  8877689391  2016-05-12 13:58:00   61.200000          0   1.33353\n",
      "333145  8877689391  2016-05-12 13:59:00   58.000000          0   1.33353\n",
      "\n",
      "[333146 rows x 5 columns]\n"
     ]
    }
   ],
   "source": [
    "result_df = pd.read_csv(\"Fitabase Data 4.12.16-5.12.16/test_train_data.csv\")\n",
    "print(result_df)"
   ]
  },
  {
   "cell_type": "code",
   "execution_count": 22,
   "id": "9fd07b74",
   "metadata": {},
   "outputs": [],
   "source": [
    "from sklearn.ensemble import RandomForestRegressor\n",
    "from sklearn.model_selection import train_test_split\n",
    "from sklearn.preprocessing import OneHotEncoder\n",
    "from sklearn.compose import ColumnTransformer\n",
    "from sklearn.pipeline import Pipeline\n",
    "from sklearn.metrics import r2_score\n",
    "\n",
    "# Convertir la columna 'Time' a tipo datetime en data_intensities_minutes\n",
    "result_df['Time'] = pd.to_datetime(result_df['Time'])\n",
    "\n",
    "# Extraemos características de la columna 'Time'\n",
    "result_df['Hour'] = result_df['Time'].dt.hour\n",
    "result_df['Minutes'] = result_df['Time'].dt.minute\n",
    "result_df['Weekday'] = result_df['Time'].dt.weekday\n",
    "\n",
    "# Definir las características y la variable objetivo\n",
    "features = ['Id',  'Hour', 'Minutes', 'Intensity', 'Calories']\n",
    "target = 'HeartRate'\n",
    "\n",
    "# Separar las características y la variable objetivo\n",
    "X = result_df[features]\n",
    "y = result_df[target]\n",
    "\n",
    "# Dividir los datos en conjuntos de entrenamiento y prueba\n",
    "X_train, X_test, y_train, y_test = train_test_split(X, y, test_size=0.3, random_state=11101)\n",
    "\n",
    "# Crear un transformador para manejar las variables categoricas\n",
    "categorical_features = ['Id']\n",
    "numeric_features = ['Hour', 'Minutes', 'Intensity','Calories']\n",
    "\n",
    "preprocessor = ColumnTransformer(\n",
    "    transformers=[\n",
    "        ('num', 'passthrough', numeric_features),\n",
    "        ('cat', OneHotEncoder(), categorical_features)\n",
    "    ])"
   ]
  },
  {
   "cell_type": "markdown",
   "id": "17bc5eb9",
   "metadata": {},
   "source": [
    "# Modelo de Predicción: Red Neuronal"
   ]
  },
  {
   "cell_type": "code",
   "execution_count": 23,
   "id": "2ba1b4c7",
   "metadata": {},
   "outputs": [
    {
     "name": "stderr",
     "output_type": "stream",
     "text": [
      "C:\\Users\\34634\\anaconda3\\lib\\site-packages\\sklearn\\neural_network\\_multilayer_perceptron.py:699: UserWarning: Training interrupted by user.\n",
      "  warnings.warn(\"Training interrupted by user.\")\n"
     ]
    },
    {
     "name": "stdout",
     "output_type": "stream",
     "text": [
      "R2 score: 0.8389281536218934\n"
     ]
    }
   ],
   "source": [
    "from sklearn.neural_network import MLPRegressor\n",
    "\n",
    "# Crear el pipeline con preprocesamiento y el modelo MLPRegressor\n",
    "pipeline = Pipeline(steps=[('preprocessor', preprocessor),\n",
    "                           ('regressor', MLPRegressor(random_state=42))])\n",
    "\n",
    "# Entrenar el modelo\n",
    "pipeline.fit(X_train, y_train)\n",
    "\n",
    "# Evaluar el modelo\n",
    "score = pipeline.score(X_test, y_test)\n",
    "print(\"R2 score:\", score)"
   ]
  },
  {
   "cell_type": "code",
   "execution_count": null,
   "id": "a85216b5",
   "metadata": {},
   "outputs": [],
   "source": [
    "best_params = {'regressor__activation': 'tanh', 'regressor__alpha': 0.001, 'regressor__hidden_layer_sizes': (100, 50)}\n",
    "\n",
    "# Crear el modelo MLPRegressor con los mejores hiperparámetros\n",
    "mlp = MLPRegressor(random_state=42, max_iter=500, \n",
    "                   activation=best_params['regressor__activation'], \n",
    "                   alpha=best_params['regressor__alpha'], \n",
    "                   hidden_layer_sizes=best_params['regressor__hidden_layer_sizes'])\n",
    "\n",
    "# Crear el pipeline con preprocesamiento y el modelo MLPRegressor\n",
    "pipeline = Pipeline(steps=[('preprocessor', preprocessor),\n",
    "                             ('regressor', mlp)])\n",
    "\n",
    "# Entrenar el modelo\n",
    "pipeline.fit(X_train, y_train)\n",
    "\n",
    "# Realizar predicciones en el conjunto de prueba\n",
    "y_pred = pipeline.predict(X_test)\n",
    "\n",
    "# Evaluar el modelo con los mejores hiperparámetros\n",
    "score = r2_score(y_test, y_pred)\n",
    "print(\"R2 score con mejores hiperparámetros:\", score)"
   ]
  },
  {
   "cell_type": "markdown",
   "id": "367cb0e4",
   "metadata": {},
   "source": [
    "# Modelo de Predicción: KNN Regressor"
   ]
  },
  {
   "cell_type": "code",
   "execution_count": null,
   "id": "67c28853",
   "metadata": {},
   "outputs": [],
   "source": [
    "# Crear el modelo de Random Forest\n",
    "model = RandomForestRegressor(n_estimators=100, random_state=11101)\n",
    "\n",
    "# Crear el pipeline que combina el preprocesamiento y el modelo\n",
    "pipeline = Pipeline([\n",
    "    ('preprocessor', preprocessor),\n",
    "    ('model', model)\n",
    "])\n",
    "\n",
    "# Entrenar el modelo\n",
    "pipeline.fit(X_train, y_train)\n",
    "\n",
    "# Evaluar el modelo en el conjunto de prueba\n",
    "score = pipeline.score(X_test, y_test)\n",
    "\n",
    "print(f'R2 Score on Test Set: {score}')"
   ]
  },
  {
   "cell_type": "markdown",
   "id": "0ec64dbf",
   "metadata": {},
   "source": [
    "# Hiperparámetros KNN"
   ]
  },
  {
   "cell_type": "code",
   "execution_count": null,
   "id": "b269c145",
   "metadata": {},
   "outputs": [],
   "source": [
    "param_grid = {\n",
    "    'model__n_estimators': [50, 100, 200],\n",
    "    'model__max_depth': [None, 10, 20],\n",
    "    'model__min_samples_split': [2, 5, 10],\n",
    "    'model__min_samples_leaf': [1, 2, 4]\n",
    "}\n",
    "\n",
    "# Crear el objeto GridSearchCV\n",
    "grid_search = GridSearchCV(pipeline, param_grid, cv=5)\n",
    "\n",
    "# Realizar la búsqueda en cuadrícula en los datos de entrenamiento\n",
    "grid_search.fit(X_train, y_train)\n",
    "\n",
    "# Obtener los mejores hiperparámetros encontrados\n",
    "best_params = grid_search.best_params_\n",
    "print(f\"Mejores hiperparámetros: {best_params}\")\n",
    "\n",
    "# Evaluar el modelo con los mejores hiperparámetros en el conjunto de prueba\n",
    "best_score = grid_search.score(X_test, y_test)\n",
    "print(f'R2 Score on Test Set with Best Parameters: {best_score}')"
   ]
  },
  {
   "cell_type": "markdown",
   "id": "5b3d67ea",
   "metadata": {},
   "source": [
    "# Modelo de Predicción: Decision Tree Regressor"
   ]
  },
  {
   "cell_type": "code",
   "execution_count": null,
   "id": "572e1071",
   "metadata": {},
   "outputs": [],
   "source": [
    "from sklearn.tree import DecisionTreeRegressor\n",
    "from sklearn.model_selection import cross_val_score, cross_val_predict\n",
    "from sklearn.metrics import mean_squared_error\n",
    "from sklearn.pipeline import Pipeline  # Make sure to import Pipeline\n",
    "\n",
    "# DecisionTreeRegressor Model\n",
    "dt_regressor = DecisionTreeRegressor(random_state=11101)\n",
    "\n",
    "# Construir el pipeline con el transformador y el modelo\n",
    "pipeline = Pipeline([\n",
    "    ('preprocessor', preprocessor),\n",
    "    ('regressor', dt_regressor)\n",
    "])  # Add a closing parenthesis here\n",
    "\n",
    "# Cross Validation execution\n",
    "scores = cross_val_score(pipeline, X_train, y_train, cv=5, scoring='neg_mean_squared_error')\n",
    "mse_scores = -scores  # Convertir a positivo, ya que cross_val_score devuelve la negación del MSE\n",
    "\n",
    "# Entrenar el modelo en el conjunto de entrenamiento\n",
    "pipeline.fit(X_train, y_train)\n",
    "y_pred = pipeline.predict(X_test)\n",
    "\n",
    "mse_test = mean_squared_error(y_test, y_pred)\n",
    "print(f'Mean Squared Error on Test Set: {mse_test}')\n",
    "\n",
    "# Matriz de confusión\n",
    "print(\"Matriz de Confusión:\")\n",
    "print(np.round(np.array([[mse_test]]), decimals=2))\n"
   ]
  },
  {
   "cell_type": "markdown",
   "id": "ff6639ff",
   "metadata": {},
   "source": [
    "# Predicción a futuro"
   ]
  },
  {
   "cell_type": "code",
   "execution_count": null,
   "id": "79d00980",
   "metadata": {},
   "outputs": [],
   "source": [
    "# Especificar el ID del usuario que deseas seleccionar\n",
    "usuario_especifico_id = 2022484408\n",
    "\n",
    "# Verificar si el ID específico está presente en result_df\n",
    "if usuario_especifico_id in result_df['Id'].values:\n",
    "    # Filtrar los datos para obtener solo las filas correspondientes al usuario específico\n",
    "    test_id = result_df[result_df['Id'] == usuario_especifico_id][features]\n",
    "\n",
    "    # Imprimir los datos de X_test\n",
    "    print(test_id)\n",
    "else:\n",
    "    print(f\"No se encontraron filas para el ID '{usuario_especifico_id}' en result_df.\")\n",
    "\n",
    "pipeline.predict(test_id)"
   ]
  }
 ],
 "metadata": {
  "kernelspec": {
   "display_name": "Python 3 (ipykernel)",
   "language": "python",
   "name": "python3"
  },
  "language_info": {
   "codemirror_mode": {
    "name": "ipython",
    "version": 3
   },
   "file_extension": ".py",
   "mimetype": "text/x-python",
   "name": "python",
   "nbconvert_exporter": "python",
   "pygments_lexer": "ipython3",
   "version": "3.9.13"
  }
 },
 "nbformat": 4,
 "nbformat_minor": 5
}
