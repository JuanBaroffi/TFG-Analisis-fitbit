{
 "cells": [
  {
   "cell_type": "code",
   "execution_count": null,
   "id": "2be0024a",
   "metadata": {},
   "outputs": [],
   "source": [
    "!pip install skforecast\n",
    "!pip install dask[dataframe]\n",
    "!pip install lightgbm\n",
    "!pip install matplotlib\n",
    "!pip install xgboost"
   ]
  },
  {
   "cell_type": "code",
   "execution_count": null,
   "id": "011df590",
   "metadata": {},
   "outputs": [],
   "source": [
    "import pandas as pd\n",
    "import numpy as np\n",
    "import lightgbm as lgb\n",
    "import matplotlib\n",
    "import joblib\n",
    "import matplotlib.pyplot as plt\n",
    "import warnings\n",
    "import importlib\n",
    "\n",
    "\n",
    "plt.style.use('fivethirtyeight')\n",
    "plt.rcParams['lines.linewidth'] = 1.5\n",
    "plt.rcParams['font.size'] = 10\n",
    "\n",
    "from sklearn.metrics import mean_squared_error\n",
    "from skforecast.ForecasterAutoreg import ForecasterAutoreg\n",
    "from skforecast.ForecasterAutoregCustom import ForecasterAutoregCustom\n",
    "from skforecast.ForecasterAutoregDirect import ForecasterAutoregDirect\n",
    "from skforecast.model_selection import grid_search_forecaster\n",
    "from skforecast.model_selection import backtesting_forecaster\n",
    "from sklearn.neighbors import KNeighborsRegressor\n",
    "from sklearn.ensemble import RandomForestRegressor\n",
    "from lightgbm import LGBMRegressor\n",
    "from sklearn.svm import SVR\n",
    "from sklearn.neural_network import MLPRegressor\n",
    "from xgboost import XGBRegressor\n",
    "from sklearn.metrics import r2_score\n",
    "\n",
    "warnings.filterwarnings('once')"
   ]
  },
  {
   "cell_type": "code",
   "execution_count": null,
   "id": "93489ed5",
   "metadata": {},
   "outputs": [],
   "source": [
    "old_data = pd.read_csv('Fitabase Data 4.12.16-5.12.16/test_train_data.csv')\n",
    "data = pd.read_csv('FitBit API Database/test_train_data_api_merged.csv')\n",
    "\n",
    "print(\"Archivo : test_train_data.csv\")\n",
    "print(old_data)\n",
    "print(\"\\n\")\n",
    "print(\"Archivo : test_train_data_api_merged.csv\")\n",
    "print(data)"
   ]
  },
  {
   "cell_type": "code",
   "execution_count": null,
   "id": "33af827b",
   "metadata": {},
   "outputs": [],
   "source": [
    "data['Time'] = pd.to_datetime(data['Time'], format='%Y-%m-%d %H:%M:%S')\n",
    "data = data.set_index('Time')\n",
    "data = data.asfreq('60S')\n",
    "data = data.sort_index()\n",
    "data"
   ]
  },
  {
   "cell_type": "code",
   "execution_count": null,
   "id": "04680990",
   "metadata": {},
   "outputs": [],
   "source": [
    "steps = 5\n",
    "lags =  5 * steps\n",
    "lags"
   ]
  },
  {
   "cell_type": "code",
   "execution_count": null,
   "id": "d8e22ca2",
   "metadata": {},
   "outputs": [],
   "source": [
    "\n",
    "datos_train = data[:-steps]\n",
    "datos_test  = data[-steps:]\n",
    "\n",
    "print(\n",
    "    f\"Fechas train : {datos_train.index.min()} --- {datos_train.index.max()}  (n={len(datos_train)})\"\n",
    ")\n",
    "print(\n",
    "    f\"Fechas test  : {datos_test.index.min()} --- {datos_test.index.max()}  (n={len(datos_test)})\"\n",
    ")\n",
    "\n",
    "print(f'Número de filas con missing values : (datos_train) : {datos_train.isnull().any(axis=1).mean()}')\n",
    "print(f'Número de filas con missing values:  (datos_test) : {datos_test.isnull().any(axis=1).mean()}')"
   ]
  },
  {
   "cell_type": "code",
   "execution_count": null,
   "id": "0911a4ce",
   "metadata": {},
   "outputs": [],
   "source": [
    "datos_train = datos_train.bfill();\n",
    "print(datos_train)"
   ]
  },
  {
   "cell_type": "code",
   "execution_count": null,
   "id": "93faecf7",
   "metadata": {},
   "outputs": [],
   "source": [
    "datos_test= datos_test.bfill();\n",
    "print(datos_test)"
   ]
  },
  {
   "cell_type": "code",
   "execution_count": null,
   "id": "6bb98663",
   "metadata": {},
   "outputs": [],
   "source": [
    "print(f'Número de filas con missing values : (datos_train) : {datos_train.isnull().any(axis=1).mean()}')\n",
    "print(f'Número de filas con missing values:  (datos_test) : {datos_test.isnull().any(axis=1).mean()}')"
   ]
  },
  {
   "cell_type": "markdown",
   "id": "5cfac82f",
   "metadata": {},
   "source": [
    "# LightGBM"
   ]
  },
  {
   "cell_type": "code",
   "execution_count": null,
   "id": "1945869c",
   "metadata": {},
   "outputs": [],
   "source": [
    "forecaster = ForecasterAutoreg(\n",
    "                regressor = lgb.LGBMRegressor(objective='regression', random_state=123),\n",
    "                lags      = lags\n",
    "             )\n",
    "\n",
    "forecaster.fit(y=datos_train['HeartRate'], exog=datos_train[['Calories','Steps','Distance']])\n",
    "forecaster"
   ]
  },
  {
   "cell_type": "code",
   "execution_count": null,
   "id": "0ed5ab8a",
   "metadata": {},
   "outputs": [],
   "source": [
    "predicciones = forecaster.predict(steps=steps,  exog=datos_test[['Calories', 'Steps', 'Distance']])\n",
    "predicciones"
   ]
  },
  {
   "cell_type": "code",
   "execution_count": null,
   "id": "6c84f876",
   "metadata": {},
   "outputs": [],
   "source": [
    "datos_test['HeartRate']"
   ]
  },
  {
   "cell_type": "code",
   "execution_count": null,
   "id": "d074ed71",
   "metadata": {},
   "outputs": [],
   "source": [
    "# Error test\n",
    "# ==============================================================================\n",
    "error_mse = mean_squared_error(\n",
    "                y_true = datos_test['HeartRate'],\n",
    "                y_pred = predicciones\n",
    "            )\n",
    "\n",
    "print(f\"Error de test (mse): {error_mse}\")"
   ]
  },
  {
   "cell_type": "code",
   "execution_count": null,
   "id": "8f0bd59c",
   "metadata": {},
   "outputs": [],
   "source": [
    "fig, ax = plt.subplots(figsize=(6, 2.5))\n",
    "\n",
    "datos_train['HeartRate'].tail(7).plot(ax = ax, label = 'Datos train')\n",
    "datos_test['HeartRate'].plot(ax=ax, label='Datos_test')\n",
    "predicciones.plot(ax=ax, label='Predicciones')\n",
    "\n",
    "ax.legend()\n",
    "ax.set_xlabel('Time')\n",
    "ax.set_ylabel('HeartRate')\n",
    "\n",
    "plt.show()"
   ]
  },
  {
   "cell_type": "markdown",
   "id": "96a1288e",
   "metadata": {},
   "source": [
    "# Tunning : LightGBM"
   ]
  },
  {
   "cell_type": "code",
   "execution_count": null,
   "id": "fc68f187",
   "metadata": {},
   "outputs": [],
   "source": [
    "# lags_grid = [1, 20]\n",
    "\n",
    "# param_grid = {'n_estimators': [100,200, 500],\n",
    "#               'max_depth': [3, 5, 10]}\n",
    "\n",
    "# resultados_grid = grid_search_forecaster(\n",
    "#                         forecaster         = forecaster,\n",
    "#                         y                  = datos_train['HeartRate'],\n",
    "#                         param_grid         = param_grid,\n",
    "#                         lags_grid          = lags_grid,\n",
    "#                         steps              = steps,\n",
    "#                         refit              = False,\n",
    "#                         metric             = 'mean_squared_error',\n",
    "#                         initial_train_size = int(len(datos_train)*0.5),\n",
    "#                         fixed_train_size   = False,\n",
    "#                         return_best        = True,\n",
    "#                         n_jobs             = 'auto',\n",
    "#                         verbose            = False\n",
    "#                   )\n",
    "\n",
    "# resultados_grid.head()"
   ]
  },
  {
   "cell_type": "code",
   "execution_count": null,
   "id": "529b9738",
   "metadata": {},
   "outputs": [],
   "source": [
    "# resultados_grid"
   ]
  },
  {
   "cell_type": "code",
   "execution_count": null,
   "id": "8b094662",
   "metadata": {},
   "outputs": [],
   "source": [
    "# best_params = {'n_estimators': resultados_grid.iloc[0]['n_estimators'],\n",
    "#               'max_depth': resultados_grid.iloc[0]['max_depth']}\n",
    "\n",
    "# tunned_Light_model = lgb.LGBMRegressor(objective='regression', random_state=123, **best_params)"
   ]
  },
  {
   "cell_type": "code",
   "execution_count": null,
   "id": "2365f27d",
   "metadata": {},
   "outputs": [],
   "source": [
    "# forecaster = ForecasterAutoreg(\n",
    "#                 regressor = tunned_Light_model,\n",
    "#                 lags      = len(resultados_grid.iloc[0]['lags']),\n",
    "                \n",
    "#              )\n",
    "\n",
    "# forecaster.fit(y=datos_train['HeartRate'])\n",
    "# predicciones = forecaster.predict(steps=steps)"
   ]
  },
  {
   "cell_type": "code",
   "execution_count": null,
   "id": "9865ccbe",
   "metadata": {},
   "outputs": [],
   "source": [
    "# predicciones"
   ]
  },
  {
   "cell_type": "code",
   "execution_count": null,
   "id": "b98af54b",
   "metadata": {},
   "outputs": [],
   "source": [
    "# error_mse = mean_squared_error(\n",
    "#                 y_true = datos_test['HeartRate'],\n",
    "#                 y_pred = predicciones\n",
    "#             )\n",
    "\n",
    "# print(f\"Error de test (mse) {error_mse}\")"
   ]
  },
  {
   "cell_type": "code",
   "execution_count": null,
   "id": "5e6ab11e",
   "metadata": {},
   "outputs": [],
   "source": [
    "# fig, ax = plt.subplots(figsize=(6, 2.5))\n",
    "\n",
    "# datos_train['HeartRate'].tail(7).plot(ax = ax, label = 'Datos train')\n",
    "# datos_test['HeartRate'].plot(ax=ax, label='Datos_test')\n",
    "# predicciones.plot(ax=ax, label='Predicciones')\n",
    "\n",
    "# ax.legend()\n",
    "# ax.set_xlabel('Time')\n",
    "# ax.set_ylabel('HeartRate')\n",
    "\n",
    "# plt.show()"
   ]
  },
  {
   "cell_type": "markdown",
   "id": "7d4db711",
   "metadata": {},
   "source": [
    "# XGBoost"
   ]
  },
  {
   "cell_type": "code",
   "execution_count": null,
   "id": "31d12b81",
   "metadata": {},
   "outputs": [],
   "source": [
    "forecaster = ForecasterAutoreg(\n",
    "                regressor = XGBRegressor(random_state=123),\n",
    "                lags      = lags\n",
    "             )\n",
    "\n",
    "forecaster.fit(y=datos_train['HeartRate'], exog=datos_train[['Calories','Steps','Distance']])\n",
    "forecaster"
   ]
  },
  {
   "cell_type": "code",
   "execution_count": null,
   "id": "12ea9f7f",
   "metadata": {},
   "outputs": [],
   "source": [
    "predicciones = forecaster.predict(steps=steps,  exog=datos_test[['Calories', 'Steps', 'Distance']])"
   ]
  },
  {
   "cell_type": "code",
   "execution_count": null,
   "id": "5bbb0cc4",
   "metadata": {},
   "outputs": [],
   "source": [
    "predicciones"
   ]
  },
  {
   "cell_type": "code",
   "execution_count": null,
   "id": "c41d7ca0",
   "metadata": {},
   "outputs": [],
   "source": [
    "datos_test"
   ]
  },
  {
   "cell_type": "code",
   "execution_count": null,
   "id": "3abc415b",
   "metadata": {},
   "outputs": [],
   "source": [
    "# Error test\n",
    "# ==============================================================================\n",
    "error_mse = mean_squared_error(\n",
    "                y_true = datos_test['HeartRate'],\n",
    "                y_pred = predicciones\n",
    "            )\n",
    "\n",
    "print(f\"Error de test (mse): {error_mse}\")"
   ]
  },
  {
   "cell_type": "code",
   "execution_count": null,
   "id": "25cd9381",
   "metadata": {},
   "outputs": [],
   "source": [
    "fig, ax = plt.subplots(figsize=(6, 2.5))\n",
    "\n",
    "datos_train['HeartRate'].tail(7).plot(ax = ax, label = 'Datos train')\n",
    "datos_test['HeartRate'].plot(ax=ax, label='Datos_test')\n",
    "predicciones.plot(ax=ax, label='Predicciones')\n",
    "\n",
    "ax.legend()\n",
    "ax.set_xlabel('Time')\n",
    "ax.set_ylabel('HeartRate')\n",
    "\n",
    "plt.show()"
   ]
  },
  {
   "cell_type": "markdown",
   "id": "3fe20796",
   "metadata": {},
   "source": [
    "# Tunning XGBoost"
   ]
  },
  {
   "cell_type": "code",
   "execution_count": null,
   "id": "552aef92",
   "metadata": {},
   "outputs": [],
   "source": [
    "# lags_grid = [1, 20]\n",
    "\n",
    "# param_grid = {'n_estimators': [100,200, 500],\n",
    "#               'max_depth': [3, 5, 10]}\n",
    "\n",
    "# resultados_grid = grid_search_forecaster(\n",
    "#                         forecaster         = forecaster,\n",
    "#                         y                  = datos_train['HeartRate'],\n",
    "#                         param_grid         = param_grid,\n",
    "#                         lags_grid          = lags_grid,\n",
    "#                         steps              = steps,\n",
    "#                         refit              = False,\n",
    "#                         metric             = 'mean_squared_error',\n",
    "#                         initial_train_size = int(len(datos_train)*0.5),\n",
    "#                         fixed_train_size   = False,\n",
    "#                         return_best        = True,\n",
    "#                         n_jobs             = 'auto',\n",
    "#                         verbose            = False\n",
    "#                   )\n",
    "\n",
    "# resultados_grid.head()"
   ]
  },
  {
   "cell_type": "code",
   "execution_count": null,
   "id": "43c81c45",
   "metadata": {},
   "outputs": [],
   "source": [
    "# best_params = {'n_estimators': resultados_grid.iloc[0]['n_estimators'],\n",
    "#               'max_depth': resultados_grid.iloc[0]['max_depth']}\n",
    "\n",
    "# tunned_XGBoost_model = XGBRegressor(random_state=123, **best_params)"
   ]
  },
  {
   "cell_type": "code",
   "execution_count": null,
   "id": "ef1b7b7f",
   "metadata": {},
   "outputs": [],
   "source": [
    "# forecaster = ForecasterAutoreg(\n",
    "#                 regressor = tunned_XGBoost_model,\n",
    "#                 lags      = len(resultados_grid.iloc[0]['lags']),\n",
    "                \n",
    "#              )\n",
    "\n",
    "# forecaster.fit(y=datos_train['HeartRate'], exog=datos_train[['Calories','Steps','Distance']])"
   ]
  },
  {
   "cell_type": "code",
   "execution_count": null,
   "id": "a2f987d1",
   "metadata": {},
   "outputs": [],
   "source": [
    "# predicciones = forecaster.predict(steps=steps,  exog=datos_test[['Calories', 'Steps', 'Distance']])"
   ]
  },
  {
   "cell_type": "code",
   "execution_count": null,
   "id": "131a004c",
   "metadata": {},
   "outputs": [],
   "source": [
    "# predicciones"
   ]
  },
  {
   "cell_type": "code",
   "execution_count": null,
   "id": "e05327d7",
   "metadata": {},
   "outputs": [],
   "source": [
    "# datos_test"
   ]
  },
  {
   "cell_type": "code",
   "execution_count": null,
   "id": "cfe10f8d",
   "metadata": {},
   "outputs": [],
   "source": [
    "# # Error test\n",
    "# # ==============================================================================\n",
    "# error_mse = mean_squared_error(\n",
    "#                 y_true = datos_test['HeartRate'],\n",
    "#                 y_pred = predicciones\n",
    "#             )\n",
    "\n",
    "# print(f\"Error de test (mse): {error_mse}\")"
   ]
  },
  {
   "cell_type": "code",
   "execution_count": null,
   "id": "fab88d95",
   "metadata": {},
   "outputs": [],
   "source": [
    "# fig, ax = plt.subplots(figsize=(6, 2.5))\n",
    "\n",
    "# datos_train['HeartRate'].tail(7).plot(ax = ax, label = 'Datos train')\n",
    "# datos_test['HeartRate'].plot(ax=ax, label='Datos_test')\n",
    "# predicciones.plot(ax=ax, label='Predicciones')\n",
    "\n",
    "# ax.legend()\n",
    "# ax.set_xlabel('Time')\n",
    "# ax.set_ylabel('HeartRate')\n",
    "\n",
    "# plt.show()"
   ]
  },
  {
   "cell_type": "markdown",
   "id": "a51608be",
   "metadata": {},
   "source": [
    "# KNN Regressor"
   ]
  },
  {
   "cell_type": "code",
   "execution_count": null,
   "id": "91d53944",
   "metadata": {},
   "outputs": [],
   "source": [
    "n_neighbors = 5\n",
    "knn_model = KNeighborsRegressor(n_neighbors=n_neighbors)"
   ]
  },
  {
   "cell_type": "code",
   "execution_count": null,
   "id": "9a38c520",
   "metadata": {},
   "outputs": [],
   "source": [
    "forecaster = ForecasterAutoreg(\n",
    "                regressor = knn_model,\n",
    "                lags      = lags\n",
    "             )\n",
    "\n",
    "forecaster.fit(y=datos_train['HeartRate'], exog=datos_train[['Calories','Steps','Distance']])\n",
    "forecaster"
   ]
  },
  {
   "cell_type": "code",
   "execution_count": null,
   "id": "0188ef1f",
   "metadata": {},
   "outputs": [],
   "source": [
    "predicciones = forecaster.predict(steps=steps,  exog=datos_test[['Calories', 'Steps', 'Distance']])"
   ]
  },
  {
   "cell_type": "code",
   "execution_count": null,
   "id": "46f9b6c1",
   "metadata": {},
   "outputs": [],
   "source": [
    "predicciones"
   ]
  },
  {
   "cell_type": "code",
   "execution_count": null,
   "id": "a3460410",
   "metadata": {},
   "outputs": [],
   "source": [
    "datos_test"
   ]
  },
  {
   "cell_type": "code",
   "execution_count": null,
   "id": "fb733058",
   "metadata": {},
   "outputs": [],
   "source": [
    "# Error test\n",
    "# ==============================================================================\n",
    "error_mse = mean_squared_error(\n",
    "                y_true = datos_test['HeartRate'],\n",
    "                y_pred = predicciones\n",
    "            )\n",
    "\n",
    "print(f\"Error de test (mse): {error_mse}\")"
   ]
  },
  {
   "cell_type": "code",
   "execution_count": null,
   "id": "fc625b57",
   "metadata": {},
   "outputs": [],
   "source": [
    "fig, ax = plt.subplots(figsize=(6, 2.5))\n",
    "\n",
    "datos_train['HeartRate'].tail(7).plot(ax = ax, label = 'Datos train')\n",
    "datos_test['HeartRate'].plot(ax=ax, label='Datos_test')\n",
    "predicciones.plot(ax=ax, label='Predicciones')\n",
    "\n",
    "ax.legend()\n",
    "ax.set_xlabel('Time')\n",
    "ax.set_ylabel('HeartRate')\n",
    "\n",
    "plt.show()"
   ]
  },
  {
   "cell_type": "markdown",
   "id": "2b9f8b82",
   "metadata": {},
   "source": [
    "# Random Forest Regressor"
   ]
  },
  {
   "cell_type": "code",
   "execution_count": null,
   "id": "e2e54504",
   "metadata": {},
   "outputs": [],
   "source": [
    "n_estimators = 100 \n",
    "max_depth = None \n",
    "\n",
    "random_forest_model = RandomForestRegressor(n_estimators=n_estimators, max_depth=max_depth, random_state=123)"
   ]
  },
  {
   "cell_type": "code",
   "execution_count": null,
   "id": "e4ac1030",
   "metadata": {},
   "outputs": [],
   "source": [
    "forecaster = ForecasterAutoreg(\n",
    "                regressor = random_forest_model,\n",
    "                lags      = lags\n",
    "             )\n",
    "\n",
    "forecaster.fit(y=datos_train['HeartRate'], exog=datos_train[['Calories','Steps','Distance']])\n",
    "forecaster"
   ]
  },
  {
   "cell_type": "code",
   "execution_count": null,
   "id": "858ca27d",
   "metadata": {},
   "outputs": [],
   "source": [
    "predicciones = forecaster.predict(steps=steps,  exog=datos_test[['Calories', 'Steps', 'Distance']])"
   ]
  },
  {
   "cell_type": "code",
   "execution_count": null,
   "id": "661e9838",
   "metadata": {},
   "outputs": [],
   "source": [
    "predicciones"
   ]
  },
  {
   "cell_type": "code",
   "execution_count": null,
   "id": "ab6072d6",
   "metadata": {},
   "outputs": [],
   "source": [
    "datos_test"
   ]
  },
  {
   "cell_type": "code",
   "execution_count": null,
   "id": "2c6adb99",
   "metadata": {},
   "outputs": [],
   "source": [
    "# Error test\n",
    "# ==============================================================================\n",
    "error_mse = mean_squared_error(\n",
    "                y_true = datos_test['HeartRate'],\n",
    "                y_pred = predicciones\n",
    "            )\n",
    "\n",
    "print(f\"Error de test (mse): {error_mse}\")"
   ]
  },
  {
   "cell_type": "code",
   "execution_count": null,
   "id": "7ee67b67",
   "metadata": {},
   "outputs": [],
   "source": [
    "fig, ax = plt.subplots(figsize=(6, 2.5))\n",
    "\n",
    "datos_train['HeartRate'].tail(7).plot(ax = ax, label = 'Datos train')\n",
    "datos_test['HeartRate'].plot(ax=ax, label='Datos_test')\n",
    "predicciones.plot(ax=ax, label='Predicciones')\n",
    "\n",
    "ax.legend()\n",
    "ax.set_xlabel('Time')\n",
    "ax.set_ylabel('HeartRate')\n",
    "\n",
    "plt.show()"
   ]
  },
  {
   "cell_type": "markdown",
   "id": "6e497621",
   "metadata": {},
   "source": [
    "# MLP Regressor"
   ]
  },
  {
   "cell_type": "code",
   "execution_count": null,
   "id": "a6e48391",
   "metadata": {},
   "outputs": [],
   "source": [
    "MLP_model = MLPRegressor(random_state=123, max_iter=2000)"
   ]
  },
  {
   "cell_type": "code",
   "execution_count": null,
   "id": "250e3664",
   "metadata": {},
   "outputs": [],
   "source": [
    "forecaster = ForecasterAutoreg(\n",
    "                regressor = MLP_model,\n",
    "                lags      = lags\n",
    "             )\n",
    "\n",
    "forecaster.fit(y=datos_train['HeartRate'], exog=datos_train[['Calories','Steps','Distance']])\n",
    "forecaster"
   ]
  },
  {
   "cell_type": "code",
   "execution_count": null,
   "id": "e5cb1d62",
   "metadata": {},
   "outputs": [],
   "source": [
    "predicciones = forecaster.predict(steps=steps,  exog=datos_test[['Calories', 'Steps', 'Distance']])"
   ]
  },
  {
   "cell_type": "code",
   "execution_count": null,
   "id": "4f666d9b",
   "metadata": {},
   "outputs": [],
   "source": [
    "predicciones"
   ]
  },
  {
   "cell_type": "code",
   "execution_count": null,
   "id": "92ecdec9",
   "metadata": {},
   "outputs": [],
   "source": [
    "datos_test"
   ]
  },
  {
   "cell_type": "code",
   "execution_count": null,
   "id": "a8a769b6",
   "metadata": {},
   "outputs": [],
   "source": [
    "# Error test\n",
    "# ==============================================================================\n",
    "error_mse = mean_squared_error(\n",
    "                y_true = datos_test['HeartRate'],\n",
    "                y_pred = predicciones\n",
    "            )\n",
    "\n",
    "print(f\"Error de test (mse): {error_mse}\")"
   ]
  },
  {
   "cell_type": "code",
   "execution_count": null,
   "id": "2ca05554",
   "metadata": {},
   "outputs": [],
   "source": [
    "fig, ax = plt.subplots(figsize=(6, 2.5))\n",
    "\n",
    "datos_train['HeartRate'].tail(7).plot(ax = ax, label = 'Datos train')\n",
    "datos_test['HeartRate'].plot(ax=ax, label='Datos_test')\n",
    "predicciones.plot(ax=ax, label='Predicciones')\n",
    "\n",
    "ax.legend()\n",
    "ax.set_xlabel('Time')\n",
    "ax.set_ylabel('HeartRate')\n",
    "\n",
    "plt.show()"
   ]
  },
  {
   "cell_type": "code",
   "execution_count": null,
   "id": "67129b0c",
   "metadata": {},
   "outputs": [],
   "source": [
    "# # Backtesting\n",
    "# # ==============================================================================\n",
    "# n_backtesting = steps*lags \n",
    "\n",
    "# metrica, predicciones_backtest = backtesting_forecaster(\n",
    "#                                     forecaster         = forecaster,\n",
    "#                                     y                  = datos_train['HeartRate'],\n",
    "#                                     initial_train_size = len(datos_train) - n_backtesting,\n",
    "#                                     fixed_train_size   = False,\n",
    "#                                     steps              = steps,\n",
    "#                                     refit              = True,\n",
    "#                                     metric             = 'mean_squared_error',\n",
    "#                                     verbose            = True\n",
    "#                                  )\n",
    "\n",
    "# print(f\"Error de backtest: {metrica}\")"
   ]
  },
  {
   "cell_type": "code",
   "execution_count": null,
   "id": "66b4df49",
   "metadata": {},
   "outputs": [],
   "source": [
    "# # Gráfico de predicciones de backtest vs valores reales\n",
    "# # ==============================================================================\n",
    "# fig, ax = plt.subplots(figsize=(6, 2.5))\n",
    "# datos_train.loc[predicciones_backtest.index, 'HeartRate'].plot(ax=ax, label='test')\n",
    "# predicciones_backtest.plot(ax=ax, label='predicciones')\n",
    "# ax.legend();"
   ]
  },
  {
   "cell_type": "markdown",
   "id": "042e323d",
   "metadata": {},
   "source": [
    "# SVM: Support Vector Machine"
   ]
  },
  {
   "cell_type": "code",
   "execution_count": null,
   "id": "9dda9bff",
   "metadata": {},
   "outputs": [],
   "source": [
    "model_SVMR = SVR(kernel='rbf', gamma='auto', epsilon=0.1)"
   ]
  },
  {
   "cell_type": "code",
   "execution_count": null,
   "id": "138e3a51",
   "metadata": {},
   "outputs": [],
   "source": [
    "forecaster = ForecasterAutoreg(\n",
    "                regressor = model_SVMR,\n",
    "                lags      = lags\n",
    "             )\n",
    "\n",
    "forecaster.fit(y=datos_train['HeartRate'], exog=datos_train[['Calories','Steps','Distance']])\n",
    "forecaster"
   ]
  },
  {
   "cell_type": "code",
   "execution_count": null,
   "id": "d71815ff",
   "metadata": {},
   "outputs": [],
   "source": [
    "predicciones = forecaster.predict(steps=steps,  exog=datos_test[['Calories', 'Steps', 'Distance']])\n",
    "predicciones"
   ]
  },
  {
   "cell_type": "code",
   "execution_count": null,
   "id": "70f2adf4",
   "metadata": {},
   "outputs": [],
   "source": [
    "datos_test"
   ]
  },
  {
   "cell_type": "code",
   "execution_count": null,
   "id": "c34ae07c",
   "metadata": {},
   "outputs": [],
   "source": [
    "# Error test\n",
    "# ==============================================================================\n",
    "error_mse = mean_squared_error(\n",
    "                y_true = datos_test['HeartRate'],\n",
    "                y_pred = predicciones\n",
    "            )\n",
    "\n",
    "print(f\"Error de test (mse): {error_mse}\")"
   ]
  },
  {
   "cell_type": "code",
   "execution_count": null,
   "id": "cec0b46c",
   "metadata": {},
   "outputs": [],
   "source": [
    "fig, ax = plt.subplots(figsize=(6, 2.5))\n",
    "\n",
    "datos_train['HeartRate'].tail(7).plot(ax = ax, label = 'Datos train')\n",
    "datos_test['HeartRate'].plot(ax=ax, label='Datos_test')\n",
    "predicciones.plot(ax=ax, label='Predicciones')\n",
    "\n",
    "ax.legend()\n",
    "ax.set_xlabel('Time')\n",
    "ax.set_ylabel('HeartRate')\n",
    "\n",
    "plt.show()"
   ]
  },
  {
   "cell_type": "code",
   "execution_count": null,
   "id": "04146848",
   "metadata": {},
   "outputs": [],
   "source": []
  }
 ],
 "metadata": {
  "kernelspec": {
   "display_name": "Python 3 (ipykernel)",
   "language": "python",
   "name": "python3"
  },
  "language_info": {
   "codemirror_mode": {
    "name": "ipython",
    "version": 3
   },
   "file_extension": ".py",
   "mimetype": "text/x-python",
   "name": "python",
   "nbconvert_exporter": "python",
   "pygments_lexer": "ipython3",
   "version": "3.11.9"
  }
 },
 "nbformat": 4,
 "nbformat_minor": 5
}
